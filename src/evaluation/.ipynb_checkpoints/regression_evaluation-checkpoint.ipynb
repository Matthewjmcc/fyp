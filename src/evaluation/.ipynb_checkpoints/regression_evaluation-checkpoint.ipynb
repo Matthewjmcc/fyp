{
 "cells": [
  {
   "cell_type": "code",
   "execution_count": 1,
   "id": "8cfa463d",
   "metadata": {},
   "outputs": [],
   "source": [
    "import pickle\n",
    "import pandas as pd\n",
    "import numpy as np\n",
    "from statsmodels.tsa.stattools import adfuller\n",
    "import datetime\n",
    "import matplotlib.pyplot as plt\n",
    "from sklearn.linear_model import LinearRegression\n",
    "from sklearn.ensemble import RandomForestRegressor\n",
    "from sklearn.metrics import mean_squared_error, r2_score\n",
    "import seaborn as sns\n",
    "import scipy.stats as stats"
   ]
  },
  {
   "cell_type": "code",
   "execution_count": 1,
   "id": "e55ebde0",
   "metadata": {},
   "outputs": [],
   "source": [
    "MODEL = 0 "
   ]
  },
  {
   "cell_type": "code",
   "execution_count": null,
   "id": "f3337ac1",
   "metadata": {},
   "outputs": [],
   "source": [
    "base_"
   ]
  },
  {
   "cell_type": "code",
   "execution_count": 21,
   "id": "e891b38a",
   "metadata": {},
   "outputs": [
    {
     "name": "stdout",
     "output_type": "stream",
     "text": [
      "96732 96732\n",
      "Float64Index([        0.0,   59.471302,        60.0,       240.0,       300.0,\n",
      "                307.58627,   325.20096,    378.4789,       480.0,       540.0,\n",
      "              ...\n",
      "              178711200.0, 178714800.0, 178718240.0, 178718400.0, 178722000.0,\n",
      "              178725600.0, 178729200.0, 178732800.0, 178734540.0, 178736400.0],\n",
      "             dtype='float64', name='time', length=96732) Float64Index([        0.0,   59.471302,        60.0,       240.0,       300.0,\n",
      "                307.58627,   325.20096,    378.4789,       480.0,       540.0,\n",
      "              ...\n",
      "              178711200.0, 178714800.0, 178718240.0, 178718400.0, 178722000.0,\n",
      "              178725600.0, 178729200.0, 178732800.0, 178734540.0, 178736400.0],\n",
      "             dtype='float64', name='time', length=96732)\n"
     ]
    }
   ],
   "source": [
    "y = std_data['G.E_th_I']\n",
    "with open('../data/pca_full_data.pkl', 'rb') as file:\n",
    "    X = pickle.load(file)\n",
    "    \n",
    "X = pd.DataFrame(X, index=std_data.index)\n",
    "    \n",
    "print(len(X), len(y))\n",
    "print(X.index, y.index)"
   ]
  },
  {
   "cell_type": "code",
   "execution_count": 22,
   "id": "0ac54c01",
   "metadata": {},
   "outputs": [
    {
     "name": "stdout",
     "output_type": "stream",
     "text": [
      "84796 11935\n",
      "84796 11935\n",
      "0.2542526923207804\n"
     ]
    }
   ],
   "source": [
    "time_thrsh = int(60*60*24*365.25*5)\n",
    "\n",
    "X_train, X_test = X[X.index < time_thrsh], X[X.index > time_thrsh] \n",
    "y_train, y_test = y[y.index < time_thrsh], y[y.index > time_thrsh] \n",
    "\n",
    "\n",
    "print(len(X_train), len(X_test))\n",
    "print(len(y_train), len(y_test))\n",
    "\n",
    "model = RandomForestRegressor()\n",
    "model.fit(X_train, y_train)\n",
    "\n",
    "y_pred = model.predict(X_test)\n",
    "\n",
    "print(r2_score(y_test, y_pred))\n"
   ]
  },
  {
   "cell_type": "code",
   "execution_count": null,
   "id": "04861e40",
   "metadata": {},
   "outputs": [],
   "source": []
  }
 ],
 "metadata": {
  "kernelspec": {
   "display_name": "Python 3 (ipykernel)",
   "language": "python",
   "name": "python3"
  },
  "language_info": {
   "codemirror_mode": {
    "name": "ipython",
    "version": 3
   },
   "file_extension": ".py",
   "mimetype": "text/x-python",
   "name": "python",
   "nbconvert_exporter": "python",
   "pygments_lexer": "ipython3",
   "version": "3.10.9"
  }
 },
 "nbformat": 4,
 "nbformat_minor": 5
}
