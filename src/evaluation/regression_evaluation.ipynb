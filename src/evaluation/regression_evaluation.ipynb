{
 "cells": [
  {
   "cell_type": "code",
   "execution_count": 1,
   "id": "aeb94dec",
   "metadata": {
    "scrolled": true
   },
   "outputs": [
    {
     "name": "stderr",
     "output_type": "stream",
     "text": [
      "2024-04-03 18:18:23.135464: E external/local_xla/xla/stream_executor/cuda/cuda_dnn.cc:9261] Unable to register cuDNN factory: Attempting to register factory for plugin cuDNN when one has already been registered\n",
      "2024-04-03 18:18:23.135582: E external/local_xla/xla/stream_executor/cuda/cuda_fft.cc:607] Unable to register cuFFT factory: Attempting to register factory for plugin cuFFT when one has already been registered\n",
      "2024-04-03 18:18:23.285057: E external/local_xla/xla/stream_executor/cuda/cuda_blas.cc:1515] Unable to register cuBLAS factory: Attempting to register factory for plugin cuBLAS when one has already been registered\n",
      "2024-04-03 18:18:23.766477: I tensorflow/core/platform/cpu_feature_guard.cc:182] This TensorFlow binary is optimized to use available CPU instructions in performance-critical operations.\n",
      "To enable the following instructions: AVX2 FMA, in other operations, rebuild TensorFlow with the appropriate compiler flags.\n",
      "2024-04-03 18:18:29.654363: W tensorflow/compiler/tf2tensorrt/utils/py_utils.cc:38] TF-TRT Warning: Could not find TensorRT\n"
     ]
    }
   ],
   "source": [
    "import pickle\n",
    "import pandas as pd\n",
    "import numpy as np\n",
    "from statsmodels.tsa.stattools import adfuller\n",
    "import datetime\n",
    "import matplotlib.pyplot as plt\n",
    "from sklearn.linear_model import LinearRegression\n",
    "from sklearn.ensemble import RandomForestRegressor, GradientBoostingRegressor\n",
    "from sklearn.metrics import mean_squared_error, r2_score, mean_absolute_error\n",
    "import seaborn as sns\n",
    "import scipy.stats as stats\n",
    "from gretel_synthetics.timeseries_dgan.dgan import DGAN\n",
    "from tensorflow.keras.optimizers import Adam\n",
    "from tensorflow.keras.callbacks import EarlyStopping, ReduceLROnPlateau\n",
    "from timeVAE.vae_dense_model import VariationalAutoencoderDense as VAE_Dense\n",
    "from timeVAE.vae_conv_model import VariationalAutoencoderConv as VAE_Conv\n",
    "from timeVAE.vae_conv_I_model import VariationalAutoencoderConvInterpretable as TimeVAE\n",
    "from timeVAE import utils\n",
    "from sklearn.preprocessing import MinMaxScaler"
   ]
  },
  {
   "cell_type": "code",
   "execution_count": 2,
   "id": "c4006771",
   "metadata": {},
   "outputs": [],
   "source": [
    "MODEL = 1"
   ]
  },
  {
   "cell_type": "code",
   "execution_count": 3,
   "id": "47904b20",
   "metadata": {},
   "outputs": [
    {
     "name": "stdout",
     "output_type": "stream",
     "text": [
      "(108, 730, 2)\n"
     ]
    }
   ],
   "source": [
    "index = [0,3] if MODEL==0 else [1,2]\n",
    "model_name = 'th_v_air' if MODEL==0 else 'el_v_sky'\n",
    "\n",
    "base_data_train, base_data_test = np.load('../../data/training_data/training_data_1month.npy', allow_pickle=True)\n",
    "\n",
    "base_data_train, base_data_test = base_data_train[:,:,index], base_data_test[:,:,index]\n",
    "print(base_data_train.shape)"
   ]
  },
  {
   "cell_type": "code",
   "execution_count": 4,
   "id": "c1fec2af",
   "metadata": {},
   "outputs": [
    {
     "name": "stdout",
     "output_type": "stream",
     "text": [
      "(108, 730, 2) (12, 730, 2)\n"
     ]
    }
   ],
   "source": [
    "from sklearn.preprocessing import MinMaxScaler\n",
    "\n",
    "scalers = {var_name: MinMaxScaler(feature_range=(-1,1)) for var_name in ['G.air.T', 'G.E_th_I']}\n",
    "\n",
    "temp_var, energy_var = base_data_train[:,:,0], base_data_train[:,:,1]\n",
    "temp_var_test, energy_var_test = base_data_test[:,:,0], base_data_test[:,:,1]\n",
    "\n",
    "temp_var, temp_var_test = scalers['G.air.T'].fit_transform(temp_var), scalers['G.air.T'].fit_transform(temp_var_test)\n",
    "energy_var, energy_var_test = scalers['G.E_th_I'].fit_transform(energy_var), scalers['G.E_th_I'].fit_transform(energy_var_test)\n",
    "\n",
    "base_data_train_scaled, base_data_test_scaled = np.stack((temp_var, energy_var), axis=-1), np.stack((temp_var_test, energy_var_test), axis=-1)\n",
    "print(base_data_train_scaled.shape, base_data_test_scaled.shape)"
   ]
  },
  {
   "cell_type": "code",
   "execution_count": null,
   "id": "98185567",
   "metadata": {},
   "outputs": [],
   "source": []
  },
  {
   "cell_type": "markdown",
   "id": "682a7a29",
   "metadata": {},
   "source": [
    "Load in tVAE models"
   ]
  },
  {
   "cell_type": "code",
   "execution_count": 12,
   "id": "621de360",
   "metadata": {
    "scrolled": true
   },
   "outputs": [
    {
     "name": "stderr",
     "output_type": "stream",
     "text": [
      "2024-04-03 18:21:45.860132: I tensorflow/core/common_runtime/gpu/gpu_device.cc:1929] Created device /job:localhost/replica:0/task:0/device:GPU:0 with 5676 MB memory:  -> device: 0, name: NVIDIA GeForce GTX 1080, pci bus id: 0000:03:00.0, compute capability: 6.1\n",
      "2024-04-03 18:21:47.433307: I external/local_xla/xla/stream_executor/cuda/cuda_dnn.cc:454] Loaded cuDNN version 8904\n"
     ]
    },
    {
     "name": "stdout",
     "output_type": "stream",
     "text": [
      "32/32 [==============================] - 11s 9ms/step\n",
      "32/32 [==============================] - 0s 2ms/step\n",
      "32/32 [==============================] - 0s 1ms/step\n",
      "32/32 [==============================] - 0s 1ms/step\n",
      "32/32 [==============================] - 0s 1ms/step\n",
      "32/32 [==============================] - 0s 2ms/step\n",
      "32/32 [==============================] - 0s 2ms/step\n",
      "32/32 [==============================] - 0s 2ms/step\n",
      "32/32 [==============================] - 0s 1ms/step\n",
      "32/32 [==============================] - 0s 1ms/step\n",
      "32/32 [==============================] - 0s 2ms/step\n",
      "32/32 [==============================] - 0s 1ms/step\n",
      "32/32 [==============================] - 0s 2ms/step\n",
      "32/32 [==============================] - 0s 2ms/step\n",
      "32/32 [==============================] - 0s 2ms/step\n",
      "32/32 [==============================] - 0s 2ms/step\n",
      "32/32 [==============================] - 0s 2ms/step\n",
      "32/32 [==============================] - 0s 1ms/step\n",
      "32/32 [==============================] - 0s 2ms/step\n",
      "32/32 [==============================] - 0s 2ms/step\n",
      "32/32 [==============================] - 0s 2ms/step\n",
      "32/32 [==============================] - 0s 2ms/step\n",
      "32/32 [==============================] - 0s 1ms/step\n",
      "32/32 [==============================] - 0s 2ms/step\n",
      "32/32 [==============================] - 0s 2ms/step\n",
      "32/32 [==============================] - 0s 2ms/step\n",
      "32/32 [==============================] - 0s 2ms/step\n",
      "32/32 [==============================] - 0s 2ms/step\n",
      "32/32 [==============================] - 0s 1ms/step\n",
      "32/32 [==============================] - 0s 1ms/step\n",
      "32/32 [==============================] - 0s 2ms/step\n",
      "32/32 [==============================] - 0s 1ms/step\n",
      "32/32 [==============================] - 0s 1ms/step\n",
      "32/32 [==============================] - 0s 1ms/step\n",
      "32/32 [==============================] - 0s 2ms/step\n",
      "32/32 [==============================] - 0s 2ms/step\n",
      "32/32 [==============================] - 0s 1ms/step\n",
      "32/32 [==============================] - 0s 2ms/step\n",
      "32/32 [==============================] - 0s 2ms/step\n",
      "32/32 [==============================] - 0s 1ms/step\n",
      "32/32 [==============================] - 0s 2ms/step\n",
      "32/32 [==============================] - 0s 1ms/step\n",
      "32/32 [==============================] - 0s 2ms/step\n",
      "32/32 [==============================] - 0s 2ms/step\n",
      "32/32 [==============================] - 0s 2ms/step\n",
      "32/32 [==============================] - 0s 2ms/step\n",
      "32/32 [==============================] - 0s 1ms/step\n",
      "32/32 [==============================] - 0s 1ms/step\n"
     ]
    }
   ],
   "source": [
    "batches=[4,8,16,20,24,32]\n",
    "latent_dims=[3,5,10,15,20,25,30,50]\n",
    "\n",
    "vae_list = []\n",
    "for b in batches:\n",
    "    latent_dim_list = []\n",
    "    for l in latent_dims:\n",
    "        samples = TimeVAE.load('../../data/models/model_data/',f'tVAE_{model_name}_b{b}l{l}')\n",
    "        sample = samples.get_prior_samples(num_samples=1000)\n",
    "        latent_dim_list.append(sample)\n",
    "    vae_list.append(latent_dim_list)"
   ]
  },
  {
   "cell_type": "code",
   "execution_count": 9,
   "id": "43db836c",
   "metadata": {},
   "outputs": [
    {
     "name": "stdout",
     "output_type": "stream",
     "text": [
      "6 8 (1000, 730, 2)\n"
     ]
    }
   ],
   "source": [
    "print(len(vae_list), len(vae_list[0]), vae_list[0][0].shape)"
   ]
  },
  {
   "cell_type": "markdown",
   "id": "ee40efdb",
   "metadata": {},
   "source": [
    "Load in DGAN models"
   ]
  },
  {
   "cell_type": "code",
   "execution_count": null,
   "id": "a8619e01",
   "metadata": {},
   "outputs": [],
   "source": [
    "import tensorflow as tf\n",
    "\n",
    "# Hide GPU from visible devices\n",
    "tf.config.set_visible_devices([], 'GPU')\n",
    "tf.config.get_visible_devices()"
   ]
  },
  {
   "cell_type": "code",
   "execution_count": 5,
   "id": "9bebfa6e",
   "metadata": {
    "scrolled": true
   },
   "outputs": [],
   "source": [
    "batches=[2,4,6,8,10,12,16,20,24,32]\n",
    "epochs=[100,500,1000]\n",
    "\n",
    "\n",
    "gan_list = []\n",
    "for b in batches:\n",
    "    epoch_list = []\n",
    "    for e in epochs:\n",
    "        model = DGAN.load(f'../../data/models/model_data/DGAN_{model_name}_b{b}_e{e}.zip')\n",
    "        attributes, samples = model.generate_numpy(1000)\n",
    "        epoch_list.append(samples)\n",
    "    gan_list.append(epoch_list)"
   ]
  },
  {
   "cell_type": "code",
   "execution_count": 6,
   "id": "5e1e07ba",
   "metadata": {},
   "outputs": [
    {
     "name": "stdout",
     "output_type": "stream",
     "text": [
      "10 3 (1000, 730, 2)\n"
     ]
    }
   ],
   "source": [
    "print(len(gan_list), len(gan_list[0]), gan_list[0][0].shape)"
   ]
  },
  {
   "cell_type": "code",
   "execution_count": null,
   "id": "5d3bbda0",
   "metadata": {},
   "outputs": [],
   "source": []
  },
  {
   "cell_type": "markdown",
   "id": "8e9f5ac0",
   "metadata": {},
   "source": [
    "<h2> Regression Models </h2>"
   ]
  },
  {
   "cell_type": "code",
   "execution_count": 8,
   "id": "468c0c7d",
   "metadata": {},
   "outputs": [],
   "source": [
    "from skforecast.ForecasterAutoreg import ForecasterAutoreg\n",
    "from skforecast.model_selection import grid_search_forecaster \n",
    "from sklearn.linear_model import Ridge\n",
    "\n",
    "model_params = {'lag':24, 'max_depth':5, 'n_est':50} if MODEL==0 else {'lag':2, 'max_depth':3, 'n_est':10}\n",
    "\n",
    "def find_best_model_regression(synthetic_data):\n",
    "    \n",
    "    forecaster = ForecasterAutoreg(\n",
    "                     regressor = RandomForestRegressor(max_depth=model_params['max_depth'], n_estimators =model_params['n_est']),\n",
    "                     lags      = model_params['lag']\n",
    "                 )\n",
    "\n",
    "    forecaster.fit(y=synthetic_data['G.E_th_I'], exog=synthetic_data['G.air.T'])\n",
    "\n",
    "    y_test = pd.Series(base_data_test_scaled[:,:,1].reshape(-1))\n",
    "    exog_var = pd.Series(base_data_test_scaled[:,:,0].reshape(-1))\n",
    "    exog_var.index = exog_var.index + synthetic_data['G.air.T'].index.max() + 1\n",
    "    \n",
    "    predictions = forecaster.predict(exog=exog_var, steps=len(y_test))\n",
    "    mse = mean_squared_error(y_test, predictions)\n",
    "    mae = mean_absolute_error(y_test, predictions)\n",
    "    r2  = r2_score(y_test, predictions)\n",
    "\n",
    "    return {'mse':mse, 'mae':mae, 'r2':r2}"
   ]
  },
  {
   "cell_type": "code",
   "execution_count": 9,
   "id": "7ff2252d",
   "metadata": {},
   "outputs": [],
   "source": [
    "def find_best_model_ridge_regression(synthetic_data):\n",
    "    \n",
    "    forecaster = ForecasterAutoreg(\n",
    "                     regressor = Ridge(),\n",
    "                     lags      = 2 if MODEL==0 else 12 \n",
    "                 )\n",
    "\n",
    "    forecaster.fit(y=synthetic_data['G.E_th_I'], exog=synthetic_data['G.air.T'])\n",
    "\n",
    "    y_test = pd.Series(base_data_test_scaled[:,:,1].reshape(-1))\n",
    "    exog_var = pd.Series(base_data_test_scaled[:,:,0].reshape(-1))\n",
    "    exog_var.index = exog_var.index + synthetic_data['G.air.T'].index.max() + 1\n",
    "    \n",
    "    predictions = forecaster.predict(exog=exog_var, steps=len(y_test))\n",
    "    mse = mean_squared_error(y_test, predictions)\n",
    "    mae = mean_absolute_error(y_test, predictions)\n",
    "    r2  = r2_score(y_test, predictions)\n",
    "\n",
    "    return {'mse':mse, 'mae':mae, 'r2':r2}"
   ]
  },
  {
   "cell_type": "code",
   "execution_count": null,
   "id": "00b9b4bf",
   "metadata": {},
   "outputs": [],
   "source": []
  },
  {
   "cell_type": "markdown",
   "id": "3a6adc2e",
   "metadata": {},
   "source": [
    "<h2>VAE data</h2>"
   ]
  },
  {
   "cell_type": "markdown",
   "id": "b7e1e4c6",
   "metadata": {},
   "source": [
    "Gather results for RF regression"
   ]
  },
  {
   "cell_type": "code",
   "execution_count": 75,
   "id": "3e6dd0c2",
   "metadata": {
    "scrolled": true
   },
   "outputs": [
    {
     "name": "stdout",
     "output_type": "stream",
     "text": [
      "{'mse': 0.8029748180153373, 'mae': 0.8089149700537648, 'r2': -0.9489413294624292} 0 0\n",
      "{'mse': 1.2395994901113387, 'mae': 0.9979147635773803, 'r2': -2.008695446053697} 0 1\n",
      "{'mse': 1.5415108312346475, 'mae': 1.1383057942164303, 'r2': -2.741479933620787} 0 2\n",
      "{'mse': 0.43492744148959744, 'mae': 0.49357281482899423, 'r2': -0.05563468121143278} 0 3\n",
      "{'mse': 0.9372238106448142, 'mae': 0.8940626052316817, 'r2': -1.2747839390986466} 0 4\n",
      "{'mse': 0.3818239268564768, 'mae': 0.49796396683829147, 'r2': 0.0732555804582985} 0 5\n",
      "{'mse': 0.6336647982950371, 'mae': 0.7438056335728762, 'r2': -0.5380003042624466} 0 6\n",
      "{'mse': 0.4720159037985335, 'mae': 0.43337996135987444, 'r2': -0.14565398868953405} 0 7\n",
      "{'mse': 0.7837121391594251, 'mae': 0.8193672824720428, 'r2': -0.9021878944901605} 1 0\n",
      "{'mse': 1.634160748509586, 'mae': 1.1854178758724971, 'r2': -2.966355295708361} 1 1\n",
      "{'mse': 0.6474381505815288, 'mae': 0.7324929791268362, 'r2': -0.5714303134160796} 1 2\n",
      "{'mse': 1.270956227252239, 'mae': 1.0401291864553006, 'r2': -2.0848029896526836} 1 3\n",
      "{'mse': 1.6946459345584897, 'mae': 1.205788755235279, 'r2': -3.1131619903470478} 1 4\n",
      "{'mse': 0.6778723580458795, 'mae': 0.7544914822915058, 'r2': -0.6452987379618345} 1 5\n",
      "{'mse': 0.933418141243544, 'mae': 0.9052781255194005, 'r2': -1.2655470038722867} 1 6\n",
      "{'mse': 2.9355596139014444, 'mae': 1.5310458982719735, 'r2': -6.125047172430776} 1 7\n",
      "{'mse': 1.4526382538097626, 'mae': 1.0545765887999183, 'r2': -2.5257727466540607} 2 0\n",
      "{'mse': 0.8627000089446922, 'mae': 0.8627260347477961, 'r2': -1.0939034010003077} 2 1\n",
      "{'mse': 0.5932912906802806, 'mae': 0.7174917872994059, 'r2': -0.44000769497957126} 2 2\n",
      "{'mse': 0.3953351077996245, 'mae': 0.53460815914638, 'r2': 0.04046190080713574} 2 3\n",
      "{'mse': 0.6295104502635224, 'mae': 0.4876329666719274, 'r2': -0.5279170732644911} 2 4\n",
      "{'mse': 0.5230598094475801, 'mae': 0.5460320079037801, 'r2': -0.26954526784881105} 2 5\n",
      "{'mse': 0.40732825610156553, 'mae': 0.43312030848483685, 'r2': 0.011352715971430727} 2 6\n",
      "{'mse': 0.9405836512425161, 'mae': 0.8845435163798187, 'r2': -1.2829387803892511} 2 7\n",
      "{'mse': 0.9595330299244829, 'mae': 0.8569165548581777, 'r2': -1.3289317884541862} 3 0\n",
      "{'mse': 0.7790432410917832, 'mae': 0.8068395094331211, 'r2': -0.8908557727312678} 3 1\n",
      "{'mse': 0.5677042948674822, 'mae': 0.6687284627434892, 'r2': -0.37790418622994504} 3 2\n",
      "{'mse': 0.5567810859195886, 'mae': 0.5791438949954762, 'r2': -0.35139190602977455} 3 3\n",
      "{'mse': 0.6842985198504419, 'mae': 0.7401702003330413, 'r2': -0.6608960045880528} 3 4\n",
      "{'mse': 0.6381086958710696, 'mae': 0.4931583484818348, 'r2': -0.5487863157979442} 3 5\n",
      "{'mse': 0.4536894562966528, 'mae': 0.5079185051981893, 'r2': -0.10117292881405926} 3 6\n",
      "{'mse': 1.2650642197741842, 'mae': 0.9833902236253662, 'r2': -2.070502196365211} 3 7\n",
      "{'mse': 1.13368140462529, 'mae': 0.9287709559176756, 'r2': -1.7516162329701408} 4 0\n",
      "{'mse': 0.5292429170531868, 'mae': 0.6408755060896034, 'r2': -0.28455260517336733} 4 1\n",
      "{'mse': 0.6567024378288921, 'mae': 0.7199666400456903, 'r2': -0.5939161397450112} 4 2\n",
      "{'mse': 0.735426771347454, 'mae': 0.6291654132621972, 'r2': -0.7849920038772522} 4 3\n",
      "{'mse': 0.5141057753798592, 'mae': 0.6562333925047472, 'r2': -0.24781247291119635} 4 4\n",
      "{'mse': 0.5964417278802443, 'mae': 0.7023952024977036, 'r2': -0.44765428255259243} 4 5\n",
      "{'mse': 0.40308346297006037, 'mae': 0.5253113183779299, 'r2': 0.021655470906456142} 4 6\n",
      "{'mse': 1.1712517927575414, 'mae': 1.0138512595966431, 'r2': -1.842805247310427} 4 7\n",
      "{'mse': 0.9125309791008664, 'mae': 0.8285036929468923, 'r2': -1.2148507022676331} 5 0\n",
      "{'mse': 0.921205136584899, 'mae': 0.8414666728392592, 'r2': -1.2359041944066278} 5 1\n",
      "{'mse': 1.6976819345927958, 'mae': 1.1808298924032214, 'r2': -3.120530821610939} 5 2\n",
      "{'mse': 1.0195634704960348, 'mae': 0.900065285338877, 'r2': -1.47463474704124} 5 3\n",
      "{'mse': 1.2982678043124276, 'mae': 1.059775356888879, 'r2': -2.151092317924473} 5 4\n",
      "{'mse': 1.239209432892833, 'mae': 1.0244697020497906, 'r2': -2.007748718190076} 5 5\n",
      "{'mse': 0.40246676834362527, 'mae': 0.5432340744426462, 'r2': 0.023152282036956406} 5 6\n",
      "{'mse': 0.6453033037155008, 'mae': 0.5977684235189393, 'r2': -0.5662487171867496} 5 7\n"
     ]
    }
   ],
   "source": [
    "vae_results = {}\n",
    "for i,b in enumerate(vae_list):\n",
    "    for j,e in enumerate(b):\n",
    "        result = find_best_model_regression(pd.DataFrame(e[0:216].reshape(-1,2), columns=['G.air.T', 'G.E_th_I']))\n",
    "        vae_results[f'b{i} l{j}'] = result\n",
    "        print(result, f'{i} {j}')"
   ]
  },
  {
   "cell_type": "code",
   "execution_count": 6,
   "id": "3feaaebb",
   "metadata": {
    "scrolled": true
   },
   "outputs": [
    {
     "ename": "NameError",
     "evalue": "name 'vae_results' is not defined",
     "output_type": "error",
     "traceback": [
      "\u001b[0;31m---------------------------------------------------------------------------\u001b[0m",
      "\u001b[0;31mNameError\u001b[0m                                 Traceback (most recent call last)",
      "Cell \u001b[0;32mIn[6], line 1\u001b[0m\n\u001b[0;32m----> 1\u001b[0m sorted_models_mae \u001b[38;5;241m=\u001b[39m \u001b[38;5;28msorted\u001b[39m(\u001b[43mvae_results\u001b[49m\u001b[38;5;241m.\u001b[39mitems(), key\u001b[38;5;241m=\u001b[39m\u001b[38;5;28;01mlambda\u001b[39;00m x: x[\u001b[38;5;241m1\u001b[39m][\u001b[38;5;124m'\u001b[39m\u001b[38;5;124mmae\u001b[39m\u001b[38;5;124m'\u001b[39m])\n\u001b[1;32m      2\u001b[0m sorted_models_mse \u001b[38;5;241m=\u001b[39m \u001b[38;5;28msorted\u001b[39m(vae_results\u001b[38;5;241m.\u001b[39mitems(), key\u001b[38;5;241m=\u001b[39m\u001b[38;5;28;01mlambda\u001b[39;00m x: x[\u001b[38;5;241m1\u001b[39m][\u001b[38;5;124m'\u001b[39m\u001b[38;5;124mmse\u001b[39m\u001b[38;5;124m'\u001b[39m])\n\u001b[1;32m      3\u001b[0m sorted_models_r2 \u001b[38;5;241m=\u001b[39m \u001b[38;5;28msorted\u001b[39m(vae_results\u001b[38;5;241m.\u001b[39mitems(), key\u001b[38;5;241m=\u001b[39m\u001b[38;5;28;01mlambda\u001b[39;00m x: x[\u001b[38;5;241m1\u001b[39m][\u001b[38;5;124m'\u001b[39m\u001b[38;5;124mr2\u001b[39m\u001b[38;5;124m'\u001b[39m], reverse\u001b[38;5;241m=\u001b[39m\u001b[38;5;28;01mTrue\u001b[39;00m)\n",
      "\u001b[0;31mNameError\u001b[0m: name 'vae_results' is not defined"
     ]
    }
   ],
   "source": [
    "sorted_models_mae = sorted(vae_results.items(), key=lambda x: x[1]['mae'])\n",
    "sorted_models_mse = sorted(vae_results.items(), key=lambda x: x[1]['mse'])\n",
    "sorted_models_r2 = sorted(vae_results.items(), key=lambda x: x[1]['r2'], reverse=True)\n",
    "\n",
    "print(sorted_models_mae[0:3], '\\n', sorted_models_mse[0:3], '\\n', sorted_models_r2[0:3])"
   ]
  },
  {
   "cell_type": "code",
   "execution_count": 76,
   "id": "d49ec036",
   "metadata": {
    "scrolled": true
   },
   "outputs": [
    {
     "name": "stdout",
     "output_type": "stream",
     "text": [
      "            mse       mae        r2\n",
      "b0 l0  0.802975  0.808915 -0.948941\n",
      "b0 l1  1.239599  0.997915 -2.008695\n",
      "b0 l2  1.541511  1.138306 -2.741480\n",
      "b0 l3  0.434927  0.493573 -0.055635\n",
      "b0 l4  0.937224  0.894063 -1.274784\n",
      "b0 l5  0.381824  0.497964  0.073256\n",
      "b0 l6  0.633665  0.743806 -0.538000\n",
      "b0 l7  0.472016  0.433380 -0.145654\n",
      "b1 l0  0.783712  0.819367 -0.902188\n",
      "b1 l1  1.634161  1.185418 -2.966355\n",
      "b1 l2  0.647438  0.732493 -0.571430\n",
      "b1 l3  1.270956  1.040129 -2.084803\n",
      "b1 l4  1.694646  1.205789 -3.113162\n",
      "b1 l5  0.677872  0.754491 -0.645299\n",
      "b1 l6  0.933418  0.905278 -1.265547\n",
      "b1 l7  2.935560  1.531046 -6.125047\n",
      "b2 l0  1.452638  1.054577 -2.525773\n",
      "b2 l1  0.862700  0.862726 -1.093903\n",
      "b2 l2  0.593291  0.717492 -0.440008\n",
      "b2 l3  0.395335  0.534608  0.040462\n",
      "b2 l4  0.629510  0.487633 -0.527917\n",
      "b2 l5  0.523060  0.546032 -0.269545\n",
      "b2 l6  0.407328  0.433120  0.011353\n",
      "b2 l7  0.940584  0.884544 -1.282939\n",
      "b3 l0  0.959533  0.856917 -1.328932\n",
      "b3 l1  0.779043  0.806840 -0.890856\n",
      "b3 l2  0.567704  0.668728 -0.377904\n",
      "b3 l3  0.556781  0.579144 -0.351392\n",
      "b3 l4  0.684299  0.740170 -0.660896\n",
      "b3 l5  0.638109  0.493158 -0.548786\n",
      "b3 l6  0.453689  0.507919 -0.101173\n",
      "b3 l7  1.265064  0.983390 -2.070502\n",
      "b4 l0  1.133681  0.928771 -1.751616\n",
      "b4 l1  0.529243  0.640876 -0.284553\n",
      "b4 l2  0.656702  0.719967 -0.593916\n",
      "b4 l3  0.735427  0.629165 -0.784992\n",
      "b4 l4  0.514106  0.656233 -0.247812\n",
      "b4 l5  0.596442  0.702395 -0.447654\n",
      "b4 l6  0.403083  0.525311  0.021655\n",
      "b4 l7  1.171252  1.013851 -1.842805\n",
      "b5 l0  0.912531  0.828504 -1.214851\n",
      "b5 l1  0.921205  0.841467 -1.235904\n",
      "b5 l2  1.697682  1.180830 -3.120531\n",
      "b5 l3  1.019563  0.900065 -1.474635\n",
      "b5 l4  1.298268  1.059775 -2.151092\n",
      "b5 l5  1.239209  1.024470 -2.007749\n",
      "b5 l6  0.402467  0.543234  0.023152\n",
      "b5 l7  0.645303  0.597768 -0.566249\n"
     ]
    }
   ],
   "source": [
    "results_df = pd.DataFrame.from_dict(vae_results, orient='index')\n",
    "#results_df.to_csv(f'../../data/models/model_history/VAE_{model_name}_model_results.csv')\n",
    "print(results_df)"
   ]
  },
  {
   "cell_type": "markdown",
   "id": "c7c04511",
   "metadata": {},
   "source": [
    "Gather results for Ridge Regression"
   ]
  },
  {
   "cell_type": "code",
   "execution_count": 14,
   "id": "4bee91f3",
   "metadata": {
    "scrolled": true
   },
   "outputs": [
    {
     "name": "stdout",
     "output_type": "stream",
     "text": [
      "{'mse': 0.5316823816200129, 'mae': 0.6469317759379111, 'r2': 0.2215231062331604} 0 0\n",
      "{'mse': 2.1508902426263625, 'mae': 1.3157294808106783, 'r2': -2.1492831299229724} 0 1\n",
      "{'mse': 0.7627888909846742, 'mae': 0.7704627019450743, 'r2': -0.11685763339435429} 0 2\n",
      "{'mse': 1.1546448592036584, 'mae': 0.947147059825273, 'r2': -0.690603966710188} 0 3\n",
      "{'mse': 0.6451415894816627, 'mae': 0.7221206168146458, 'r2': 0.055398790741908344} 0 4\n",
      "{'mse': 0.6844222083709699, 'mae': 0.5965670281198887, 'r2': -0.002114971675822863} 0 5\n",
      "{'mse': 0.9098431987813336, 'mae': 0.9192763757119392, 'r2': -0.3321711075775038} 0 6\n",
      "{'mse': 1.089185555845522, 'mae': 0.8547652769244078, 'r2': -0.5947599874699603} 0 7\n",
      "{'mse': 0.6479996249687214, 'mae': 0.7663653139732038, 'r2': 0.05121412210297083} 1 0\n",
      "{'mse': 1.2043867424337915, 'mae': 0.8919423584871022, 'r2': -0.7634348674241065} 1 1\n",
      "{'mse': 0.5574151851753598, 'mae': 0.6716919384351415, 'r2': 0.1838457378038344} 1 2\n",
      "{'mse': 1.4878888552344076, 'mae': 1.1211231915635809, 'r2': -1.1785320227537546} 1 3\n",
      "{'mse': 1.07141376086144, 'mae': 0.94280375598202, 'r2': -0.568738941382793} 1 4\n",
      "{'mse': 1.2450045416372455, 'mae': 1.049034497499026, 'r2': -0.822906497947588} 1 5\n",
      "{'mse': 0.8138081039041198, 'mae': 0.8655034346770291, 'r2': -0.1915587703305497} 1 6\n",
      "{'mse': 2.6423023713772684, 'mae': 1.3727871956172306, 'r2': -2.8687972623712463} 1 7\n",
      "{'mse': 0.7578898433550288, 'mae': 0.6840073438157099, 'r2': -0.10968456256676418} 2 0\n",
      "{'mse': 0.948437822973114, 'mae': 0.9362238472337256, 'r2': -0.3886804526217573} 2 1\n",
      "{'mse': 0.8180878864550841, 'mae': 0.8675897045001026, 'r2': -0.19782512773009442} 2 2\n",
      "{'mse': 0.7302825630503235, 'mae': 0.7837808314519533, 'r2': -0.0692626291721059} 2 3\n",
      "{'mse': 1.324979300571876, 'mae': 0.8925237302672782, 'r2': -0.9400036673619363} 2 4\n",
      "{'mse': 1.2421390444918066, 'mae': 0.9170975489572096, 'r2': -0.8187109041231655} 2 5\n",
      "{'mse': 0.8923595575725336, 'mae': 0.7248087760077039, 'r2': -0.30657196950095233} 2 6\n",
      "{'mse': 0.5932541181613686, 'mae': 0.6710758525029733, 'r2': 0.13137121129826035} 2 7\n",
      "{'mse': 0.5196557922383492, 'mae': 0.5732954684347316, 'r2': 0.23913215680188504} 3 0\n",
      "{'mse': 1.2682202683057464, 'mae': 1.0582304059697336, 'r2': -0.8568984213368249} 3 1\n",
      "{'mse': 0.5695999764683092, 'mae': 0.6409746424108935, 'r2': 0.16600505170092028} 3 2\n",
      "{'mse': 0.9613204843501101, 'mae': 0.7678975033392723, 'r2': -0.4075429437610283} 3 3\n",
      "{'mse': 0.5571514494113913, 'mae': 0.6492649678360737, 'r2': 0.18423189353403546} 3 4\n",
      "{'mse': 1.1401090900025967, 'mae': 0.7731962649891821, 'r2': -0.669321033802621} 3 5\n",
      "{'mse': 1.384223639914625, 'mae': 1.0353105743174948, 'r2': -1.0267478418148968} 3 6\n",
      "{'mse': 0.6111932054512135, 'mae': 0.6034545331250472, 'r2': 0.10510521973416287} 3 7\n",
      "{'mse': 0.5314106343927181, 'mae': 0.5730748664890086, 'r2': 0.22192099216037442} 4 0\n",
      "{'mse': 0.6263896652157034, 'mae': 0.6942825213220205, 'r2': 0.08285491917376597} 4 1\n",
      "{'mse': 0.7860171309976001, 'mae': 0.6841465876367551, 'r2': -0.150867878529497} 4 2\n",
      "{'mse': 2.357059708665518, 'mae': 1.3394738902975776, 'r2': -2.4511516346168816} 4 3\n",
      "{'mse': 0.7175100449219012, 'mae': 0.8085252002990746, 'r2': -0.05056140719838065} 4 4\n",
      "{'mse': 0.5900823633593804, 'mae': 0.6952915380113617, 'r2': 0.1360152204123457} 4 5\n",
      "{'mse': 0.9086486344953048, 'mae': 0.8364574356828607, 'r2': -0.3304220545207541} 4 6\n",
      "{'mse': 0.8235859214366006, 'mae': 0.8494151075094923, 'r2': -0.20587522181293982} 4 7\n",
      "{'mse': 0.5235967486056864, 'mae': 0.5658213814531993, 'r2': 0.2333619007667549} 5 0\n",
      "{'mse': 0.5142956302031775, 'mae': 0.5741390262752418, 'r2': 0.2469803805450026} 5 1\n",
      "{'mse': 0.8024665926260486, 'mae': 0.7455186788105707, 'r2': -0.17495279507992612} 5 2\n",
      "{'mse': 0.580727662834659, 'mae': 0.5932483760718005, 'r2': 0.1497121538793056} 5 3\n",
      "{'mse': 0.7133670333214132, 'mae': 0.7721635840358902, 'r2': -0.04449530662201617} 5 4\n",
      "{'mse': 0.7410258388038637, 'mae': 0.7664146854781723, 'r2': -0.08499268197546139} 5 5\n",
      "{'mse': 0.7984239381619069, 'mae': 0.7919360938179778, 'r2': -0.16903363507272684} 5 6\n",
      "{'mse': 1.5136654577414252, 'mae': 1.0614070446425266, 'r2': -1.2162735205825599} 5 7\n"
     ]
    }
   ],
   "source": [
    "vae_ridge_results = {}\n",
    "for i,b in enumerate(vae_list):\n",
    "    for j,e in enumerate(b):\n",
    "        result = find_best_model_ridge_regression(pd.DataFrame(e[0:216].reshape(-1,2), columns=['G.air.T', 'G.E_th_I']))\n",
    "        vae_ridge_results[f'b{i} l{j}'] = result\n",
    "        print(result, f'{i} {j}')"
   ]
  },
  {
   "cell_type": "code",
   "execution_count": 26,
   "id": "95d89cd2",
   "metadata": {},
   "outputs": [
    {
     "name": "stdout",
     "output_type": "stream",
     "text": [
      "            mse       mae        r2\n",
      "b0 l0  0.540741  0.659020  0.208259\n",
      "b0 l1  2.311282  1.356734 -2.384124\n",
      "b0 l2  0.789271  0.766803 -0.155632\n",
      "b0 l3  1.122340  0.934024 -0.643305\n",
      "b0 l4  0.656072  0.735864  0.039395\n",
      "b0 l5  0.689371  0.650451 -0.009361\n",
      "b0 l6  0.873157  0.899565 -0.278456\n",
      "b0 l7  0.962786  0.781339 -0.409688\n",
      "b1 l0  0.640403  0.760515  0.062338\n",
      "b1 l1  1.435308  0.995641 -1.101544\n",
      "b1 l2  0.556234  0.672572  0.185575\n",
      "b1 l3  1.359070  1.082605 -0.989919\n",
      "b1 l4  1.120469  0.955329 -0.640565\n",
      "b1 l5  1.189247  1.029054 -0.741267\n",
      "b1 l6  0.861819  0.887502 -0.261855\n",
      "b1 l7  3.048193  1.500644 -3.463093\n",
      "b2 l0  0.734541  0.671848 -0.075498\n",
      "b2 l1  0.868698  0.897998 -0.271927\n",
      "b2 l2  0.839879  0.879158 -0.229730\n",
      "b2 l3  0.734373  0.803328 -0.075252\n",
      "b2 l4  1.083259  0.744311 -0.586082\n",
      "b2 l5  1.183713  0.898657 -0.733164\n",
      "b2 l6  0.894916  0.697116 -0.310315\n",
      "b2 l7  0.618512  0.702104  0.094390\n",
      "b3 l0  0.517624  0.575607  0.242107\n",
      "b3 l1  1.266980  1.057885 -0.855083\n",
      "b3 l2  0.566007  0.613633  0.171266\n",
      "b3 l3  0.880133  0.727769 -0.288671\n",
      "b3 l4  0.566439  0.670349  0.170633\n",
      "b3 l5  1.233056  0.761219 -0.805412\n",
      "b3 l6  1.345627  1.022705 -0.970235\n",
      "b3 l7  0.630492  0.614135  0.076848\n",
      "b4 l0  0.532099  0.573225  0.220913\n",
      "b4 l1  0.618795  0.687625  0.093975\n",
      "b4 l2  1.073343  0.833824 -0.571563\n",
      "b4 l3  2.365001  1.338253 -2.462780\n",
      "b4 l4  0.694381  0.788019 -0.016697\n",
      "b4 l5  0.592884  0.698759  0.131914\n",
      "b4 l6  0.900382  0.846867 -0.318319\n",
      "b4 l7  0.783502  0.838935 -0.147186\n",
      "b5 l0  0.531329  0.568121  0.222040\n",
      "b5 l1  0.514097  0.571915  0.247272\n",
      "b5 l2  0.787415  0.754919 -0.152915\n",
      "b5 l3  0.574625  0.601421  0.158648\n",
      "b5 l4  0.730816  0.766692 -0.070044\n",
      "b5 l5  0.764442  0.757325 -0.119278\n",
      "b5 l6  0.796093  0.793029 -0.165621\n",
      "b5 l7  1.420986  1.030782 -1.080575\n"
     ]
    }
   ],
   "source": [
    "results_df = pd.DataFrame.from_dict(vae_ridge_results, orient='index')\n",
    "results_df.to_csv(f'../../data/models/model_history/VAE_ridge_{model_name}_model_results.csv')\n",
    "print(results_df)"
   ]
  },
  {
   "cell_type": "markdown",
   "id": "3f37fb84",
   "metadata": {},
   "source": [
    "<h2> GAN data </h2>"
   ]
  },
  {
   "cell_type": "markdown",
   "id": "03b8ab50",
   "metadata": {},
   "source": [
    "Gather results for RF Regression"
   ]
  },
  {
   "cell_type": "code",
   "execution_count": 77,
   "id": "15c7e06a",
   "metadata": {},
   "outputs": [
    {
     "name": "stdout",
     "output_type": "stream",
     "text": [
      "{'mse': 1.1318198142763778, 'mae': 0.9437059766275813, 'r2': -1.7470978716366052} 0 0\n",
      "{'mse': 0.6857347900629832, 'mae': 0.6353890132143729, 'r2': -0.6643820496229598} 0 1\n",
      "{'mse': 2.135001345769634, 'mae': 1.2822319213842108, 'r2': -4.181971175027394} 0 2\n",
      "{'mse': 1.1953543942876674, 'mae': 0.9622225242992981, 'r2': -1.9013059066284002} 1 0\n",
      "{'mse': 1.4572759213966302, 'mae': 1.059243806013446, 'r2': -2.5370290673126514} 1 1\n",
      "{'mse': 0.8992265473138538, 'mae': 0.821995399716797, 'r2': -1.182558834088241} 1 2\n",
      "{'mse': 0.48121222192262386, 'mae': 0.6198428634935955, 'r2': -0.1679748436762738} 2 0\n",
      "{'mse': 1.1985155053202392, 'mae': 0.9625005054531665, 'r2': -1.9089784012075284} 2 1\n",
      "{'mse': 1.041904074324046, 'mae': 0.889671339312508, 'r2': -1.5288587714423714} 2 2\n",
      "{'mse': 0.41815702255284454, 'mae': 0.5334626027377778, 'r2': -0.01493033800547594} 3 0\n",
      "{'mse': 0.9087023823888308, 'mae': 0.8305913709267757, 'r2': -1.2055581189903979} 3 1\n",
      "{'mse': 1.5829689512784477, 'mae': 1.100511864177276, 'r2': -2.8421050613114467} 3 2\n",
      "{'mse': 1.0078813036533567, 'mae': 0.8764411733085506, 'r2': -1.4462803612416395} 4 0\n",
      "{'mse': 1.5938010645390004, 'mae': 1.1097667807278828, 'r2': -2.868396238500649} 4 1\n",
      "{'mse': 1.3626912036008436, 'mae': 1.0268220843251301, 'r2': -2.307457651731562} 4 2\n",
      "{'mse': 0.5107113340526369, 'mae': 0.6359036779573279, 'r2': -0.2395736504168493} 5 0\n",
      "{'mse': 3.8420081324250255, 'mae': 1.708054093686481, 'r2': -8.325134822933975} 5 1\n",
      "{'mse': 0.5204896057828373, 'mae': 0.4919183912862831, 'r2': -0.2633069948233455} 5 2\n",
      "{'mse': 0.5661912650871529, 'mae': 0.45849705657724166, 'r2': -0.3742318341144957} 6 0\n",
      "{'mse': 0.9140983828402349, 'mae': 0.8320967449738867, 'r2': -1.2186550282054744} 6 1\n",
      "{'mse': 2.623453439434871, 'mae': 1.484935692028766, 'r2': -5.367518282419312} 6 2\n",
      "{'mse': 0.9810274315060834, 'mae': 0.7824652262358168, 'r2': -1.381101952019196} 7 0\n",
      "{'mse': 1.715566630648718, 'mae': 1.1612892438335785, 'r2': -3.1639396839142586} 7 1\n",
      "{'mse': 1.8889389561793453, 'mae': 1.211300222446017, 'r2': -3.584740539720423} 7 2\n",
      "{'mse': 0.39978017543231203, 'mae': 0.4586145717156251, 'r2': 0.029673049367170745} 8 0\n",
      "{'mse': 2.0284563549495784, 'mae': 1.2526330958302865, 'r2': -3.9233703678817395} 8 1\n",
      "{'mse': 1.120041555858832, 'mae': 0.9208640955465662, 'r2': -1.7185102570514048} 8 2\n",
      "{'mse': 13.270359188997102, 'mae': 3.3129940325291107, 'r2': -31.209168830689244} 9 0\n",
      "{'mse': 1.6531926184388601, 'mae': 1.128170088068243, 'r2': -3.012548522506922} 9 1\n",
      "{'mse': 1.582171527671722, 'mae': 1.1044275729784658, 'r2': -2.840169593611378} 9 2\n"
     ]
    }
   ],
   "source": [
    "gan_results = {}\n",
    "for i,b in enumerate(gan_list):\n",
    "    for j,e in enumerate(b):\n",
    "        result = find_best_model_regression(pd.DataFrame(e[0:216].reshape(-1,2), columns=['G.air.T', 'G.E_th_I']))\n",
    "        gan_results[f'b{i} l{j}'] = result\n",
    "        print(result, f'{i} {j}')"
   ]
  },
  {
   "cell_type": "code",
   "execution_count": 65,
   "id": "c8cb0842",
   "metadata": {},
   "outputs": [
    {
     "name": "stdout",
     "output_type": "stream",
     "text": [
      "[('b6 l1', {'mse': 0.49415553969179815, 'mae': 0.5661241864354905, 'r2': 0.2764690294893397}), ('b1 l2', {'mse': 0.5338222166580122, 'mae': 0.5689453766290705, 'r2': 0.21839000987499346}), ('b8 l2', {'mse': 0.53719189977815, 'mae': 0.5709294706902118, 'r2': 0.21345619875198718})] \n",
      " [('b4 l0', {'mse': 0.49240435120523374, 'mae': 0.5728619570504203, 'r2': 0.27903307866709715}), ('b6 l1', {'mse': 0.49415553969179815, 'mae': 0.5661241864354905, 'r2': 0.2764690294893397}), ('b3 l1', {'mse': 0.4960254090267697, 'mae': 0.586887935097929, 'r2': 0.27373121059226946})] \n",
      " [('b4 l0', {'mse': 0.49240435120523374, 'mae': 0.5728619570504203, 'r2': 0.27903307866709715}), ('b6 l1', {'mse': 0.49415553969179815, 'mae': 0.5661241864354905, 'r2': 0.2764690294893397}), ('b3 l1', {'mse': 0.4960254090267697, 'mae': 0.586887935097929, 'r2': 0.27373121059226946})]\n"
     ]
    }
   ],
   "source": [
    "sorted_models_mae = sorted(gan_results.items(), key=lambda x: x[1]['mae'])\n",
    "sorted_models_mse = sorted(gan_results.items(), key=lambda x: x[1]['mse'])\n",
    "sorted_models_r2 = sorted(gan_results.items(), key=lambda x: x[1]['r2'], reverse=True)\n",
    "\n",
    "print(sorted_models_mae[0:3], '\\n', sorted_models_mse[0:3], '\\n', sorted_models_r2[0:3])"
   ]
  },
  {
   "cell_type": "code",
   "execution_count": 78,
   "id": "4a0a9962",
   "metadata": {
    "scrolled": true
   },
   "outputs": [
    {
     "name": "stdout",
     "output_type": "stream",
     "text": [
      "             mse       mae         r2\n",
      "b0 l0   1.131820  0.943706  -1.747098\n",
      "b0 l1   0.685735  0.635389  -0.664382\n",
      "b0 l2   2.135001  1.282232  -4.181971\n",
      "b1 l0   1.195354  0.962223  -1.901306\n",
      "b1 l1   1.457276  1.059244  -2.537029\n",
      "b1 l2   0.899227  0.821995  -1.182559\n",
      "b2 l0   0.481212  0.619843  -0.167975\n",
      "b2 l1   1.198516  0.962501  -1.908978\n",
      "b2 l2   1.041904  0.889671  -1.528859\n",
      "b3 l0   0.418157  0.533463  -0.014930\n",
      "b3 l1   0.908702  0.830591  -1.205558\n",
      "b3 l2   1.582969  1.100512  -2.842105\n",
      "b4 l0   1.007881  0.876441  -1.446280\n",
      "b4 l1   1.593801  1.109767  -2.868396\n",
      "b4 l2   1.362691  1.026822  -2.307458\n",
      "b5 l0   0.510711  0.635904  -0.239574\n",
      "b5 l1   3.842008  1.708054  -8.325135\n",
      "b5 l2   0.520490  0.491918  -0.263307\n",
      "b6 l0   0.566191  0.458497  -0.374232\n",
      "b6 l1   0.914098  0.832097  -1.218655\n",
      "b6 l2   2.623453  1.484936  -5.367518\n",
      "b7 l0   0.981027  0.782465  -1.381102\n",
      "b7 l1   1.715567  1.161289  -3.163940\n",
      "b7 l2   1.888939  1.211300  -3.584741\n",
      "b8 l0   0.399780  0.458615   0.029673\n",
      "b8 l1   2.028456  1.252633  -3.923370\n",
      "b8 l2   1.120042  0.920864  -1.718510\n",
      "b9 l0  13.270359  3.312994 -31.209169\n",
      "b9 l1   1.653193  1.128170  -3.012549\n",
      "b9 l2   1.582172  1.104428  -2.840170\n"
     ]
    }
   ],
   "source": [
    "results_df = pd.DataFrame.from_dict(gan_results, orient='index')\n",
    "#results_df.to_csv(f'../../data/models/model_history/DGAN_{model_name}_model_results.csv')\n",
    "print(results_df)"
   ]
  },
  {
   "cell_type": "code",
   "execution_count": null,
   "id": "6ce163b1",
   "metadata": {},
   "outputs": [],
   "source": []
  },
  {
   "cell_type": "markdown",
   "id": "de85fd80",
   "metadata": {},
   "source": [
    "Gather results for Ridge Regression"
   ]
  },
  {
   "cell_type": "code",
   "execution_count": 10,
   "id": "aefeb392",
   "metadata": {
    "scrolled": true
   },
   "outputs": [
    {
     "name": "stdout",
     "output_type": "stream",
     "text": [
      "{'mse': 0.5403268197995813, 'mae': 0.5893449412375866, 'r2': 0.2088661222611028} 0 0\n",
      "{'mse': 1.179171298089034, 'mae': 0.8558012891261575, 'r2': -0.7265150042369031} 0 1\n",
      "{'mse': 0.9592383466207453, 'mae': 0.7769326030562662, 'r2': -0.4044943264511751} 0 2\n",
      "{'mse': 0.5423852837455937, 'mae': 0.6515464355695663, 'r2': 0.20585216755051017} 1 0\n",
      "{'mse': 0.5560280630525611, 'mae': 0.58091693788654, 'r2': 0.18587672953641976} 1 1\n",
      "{'mse': 0.5317262607544798, 'mae': 0.5690984977134194, 'r2': 0.2214588594319088} 1 2\n",
      "{'mse': 0.6101163417966522, 'mae': 0.6986041214897156, 'r2': 0.106681938282291} 2 0\n",
      "{'mse': 0.5735190800741393, 'mae': 0.5867263393383452, 'r2': 0.16026679196750393} 2 1\n",
      "{'mse': 0.5293252708207499, 'mae': 0.5685401739129367, 'r2': 0.22497433267343392} 2 2\n",
      "{'mse': 0.6816563318642375, 'mae': 0.6865012824033612, 'r2': 0.0019347599420335149} 3 0\n",
      "{'mse': 0.5125515583071014, 'mae': 0.6206057606391492, 'r2': 0.24953400977760276} 3 1\n",
      "{'mse': 0.5655669661754462, 'mae': 0.582623441835829, 'r2': 0.17191009093835263} 3 2\n",
      "{'mse': 0.5025753100556104, 'mae': 0.5927905422930901, 'r2': 0.26414099887249065} 4 0\n",
      "{'mse': 0.6063766813564252, 'mae': 0.6025675071586807, 'r2': 0.11215746153431261} 4 1\n",
      "{'mse': 0.585278601941569, 'mae': 0.5882025448943585, 'r2': 0.1430487753997055} 4 2\n",
      "{'mse': 0.5952060905286726, 'mae': 0.6805638003450144, 'r2': 0.12851317906370074} 5 0\n",
      "{'mse': 1.59130212545657, 'mae': 1.0170683000021923, 'r2': -1.3299473115799993} 5 1\n",
      "{'mse': 0.7697950610492706, 'mae': 0.6239107746947463, 'r2': -0.12711590355269742} 5 2\n",
      "{'mse': 1.0278052482955886, 'mae': 0.6198561959147172, 'r2': -0.5048883783819702} 6 0\n",
      "{'mse': 0.49708082579431623, 'mae': 0.5658039682777978, 'r2': 0.2721858940739271} 6 1\n",
      "{'mse': 1.3765638869034047, 'mae': 1.0153189356972805, 'r2': -1.0155326108098235} 6 2\n",
      "{'mse': 1.5277008750750678, 'mae': 0.9084693288839526, 'r2': -1.2368238500016457} 7 0\n",
      "{'mse': 0.7014404506056239, 'mae': 0.6276492966131231, 'r2': -0.02703268347179777} 7 1\n",
      "{'mse': 1.1373442865366836, 'mae': 0.8256752805870111, 'r2': -0.6652728733060069} 7 2\n",
      "{'mse': 0.7717510595014472, 'mae': 0.7229007645489052, 'r2': -0.12997983068645613} 8 0\n",
      "{'mse': 0.6537965717318223, 'mae': 0.6252123282609906, 'r2': 0.0427263683885819} 8 1\n",
      "{'mse': 0.5402766366402366, 'mae': 0.5721083614879261, 'r2': 0.20893959926797112} 8 2\n",
      "{'mse': 30.625869037130276, 'mae': 4.674231618677536, 'r2': -43.8416803360892} 9 0\n",
      "{'mse': 0.6422887806931726, 'mae': 0.6128646848388712, 'r2': 0.05957580657118533} 9 1\n",
      "{'mse': 0.5834478351506176, 'mae': 0.5944520732160143, 'r2': 0.14572934126741166} 9 2\n"
     ]
    }
   ],
   "source": [
    "gan_ridge_results = {}\n",
    "for i,b in enumerate(gan_list):\n",
    "    for j,e in enumerate(b):\n",
    "        result = find_best_model_ridge_regression(pd.DataFrame(e[0:216].reshape(-1,2), columns=['G.air.T', 'G.E_th_I']))\n",
    "        gan_ridge_results[f'b{i} l{j}'] = result\n",
    "        print(result, f'{i} {j}')"
   ]
  },
  {
   "cell_type": "code",
   "execution_count": 11,
   "id": "02fdd40e",
   "metadata": {
    "scrolled": true
   },
   "outputs": [
    {
     "name": "stdout",
     "output_type": "stream",
     "text": [
      "             mse       mae         r2\n",
      "b0 l0   0.540327  0.589345   0.208866\n",
      "b0 l1   1.179171  0.855801  -0.726515\n",
      "b0 l2   0.959238  0.776933  -0.404494\n",
      "b1 l0   0.542385  0.651546   0.205852\n",
      "b1 l1   0.556028  0.580917   0.185877\n",
      "b1 l2   0.531726  0.569098   0.221459\n",
      "b2 l0   0.610116  0.698604   0.106682\n",
      "b2 l1   0.573519  0.586726   0.160267\n",
      "b2 l2   0.529325  0.568540   0.224974\n",
      "b3 l0   0.681656  0.686501   0.001935\n",
      "b3 l1   0.512552  0.620606   0.249534\n",
      "b3 l2   0.565567  0.582623   0.171910\n",
      "b4 l0   0.502575  0.592791   0.264141\n",
      "b4 l1   0.606377  0.602568   0.112157\n",
      "b4 l2   0.585279  0.588203   0.143049\n",
      "b5 l0   0.595206  0.680564   0.128513\n",
      "b5 l1   1.591302  1.017068  -1.329947\n",
      "b5 l2   0.769795  0.623911  -0.127116\n",
      "b6 l0   1.027805  0.619856  -0.504888\n",
      "b6 l1   0.497081  0.565804   0.272186\n",
      "b6 l2   1.376564  1.015319  -1.015533\n",
      "b7 l0   1.527701  0.908469  -1.236824\n",
      "b7 l1   0.701440  0.627649  -0.027033\n",
      "b7 l2   1.137344  0.825675  -0.665273\n",
      "b8 l0   0.771751  0.722901  -0.129980\n",
      "b8 l1   0.653797  0.625212   0.042726\n",
      "b8 l2   0.540277  0.572108   0.208940\n",
      "b9 l0  30.625869  4.674232 -43.841680\n",
      "b9 l1   0.642289  0.612865   0.059576\n",
      "b9 l2   0.583448  0.594452   0.145729\n"
     ]
    }
   ],
   "source": [
    "results_df = pd.DataFrame.from_dict(gan_ridge_results, orient='index')\n",
    "results_df.to_csv(f'../../data/models/model_history/DGAN_ridge_{model_name}_model_results.csv')\n",
    "print(results_df)"
   ]
  },
  {
   "cell_type": "code",
   "execution_count": null,
   "id": "285c5f0a",
   "metadata": {},
   "outputs": [],
   "source": []
  },
  {
   "cell_type": "code",
   "execution_count": 96,
   "id": "2b6b5884",
   "metadata": {},
   "outputs": [],
   "source": [
    "vae_results = pd.read_csv(f'../../data/models/model_history/VAE_{model_name}_model_results.csv', index_col=0)\n",
    "gan_results = pd.read_csv(f'../../data/models/model_history/DGAN_{model_name}_model_results.csv', index_col=0)\n",
    "\n",
    "#print(vae_results, '\\n', gan_results)"
   ]
  },
  {
   "cell_type": "code",
   "execution_count": 97,
   "id": "a02f3150",
   "metadata": {},
   "outputs": [
    {
     "name": "stdout",
     "output_type": "stream",
     "text": [
      "b5 l1    0.530135\n",
      "b4 l5    0.532272\n",
      "b5 l4    0.536739\n",
      "b0 l5    0.538737\n",
      "b5 l0    0.541052\n",
      "Name: mse, dtype: float64\n",
      "b4 e0    0.537730\n",
      "b9 e2    0.579713\n",
      "b5 e0    0.582607\n",
      "b0 e0    0.586430\n",
      "b8 e2    0.587330\n",
      "Name: mse, dtype: float64\n"
     ]
    }
   ],
   "source": [
    "best_vaes = vae_results['mse'].nsmallest(5)\n",
    "best_gans = gan_results['mse'].nsmallest(5)\n",
    "\n",
    "print(best_vaes)\n",
    "print(best_gans)"
   ]
  },
  {
   "cell_type": "code",
   "execution_count": 105,
   "id": "da6935e4",
   "metadata": {
    "scrolled": true
   },
   "outputs": [
    {
     "name": "stdout",
     "output_type": "stream",
     "text": [
      "0.5301347479816934 b5 l1\n",
      "32 5\n",
      "32/32 [==============================] - 0s 2ms/step\n",
      "0.5322723807857386 b4 l5\n",
      "24 25\n",
      "32/32 [==============================] - 0s 2ms/step\n",
      "0.5367392105418513 b5 l4\n",
      "32 20\n",
      "32/32 [==============================] - 0s 1ms/step\n",
      "0.5387367736137983 b0 l5\n",
      "4 25\n",
      "32/32 [==============================] - 0s 1ms/step\n",
      "0.5410523136136406 b5 l0\n",
      "32 3\n",
      "32/32 [==============================] - 0s 1ms/step\n"
     ]
    }
   ],
   "source": [
    "import re\n",
    "batches=[4,8,16,20,24,32]\n",
    "latent_dims=[3,5,10,15,20,25,30,50]\n",
    "\n",
    "for i, scores in enumerate(best_vaes):\n",
    "    print(scores, best_vaes.index[i])\n",
    "    \n",
    "    b, l = map(int, re.findall(r'\\d+', best_vaes.index[i]))\n",
    "    print(batches[b], latent_dims[l])\n",
    "    \n",
    "    vae = TimeVAE.load('../../data/models/model_data/',f'tVAE_{model_name}_b{batches[b]}l{latent_dims[l]}')\n",
    "    samples = vae.get_prior_samples(num_samples=1000)\n",
    "    \n",
    "    np.save(f'../../data/vae_synthetic_data/{model_name}_b{batches[b]}l{latent_dims[l]}_generated_samples.npy', samples)\n",
    "\n",
    "    temp, energy = scalers['G.air.T'].inverse_transform(samples[:,:,0]), scalers['G.E_th_I'].inverse_transform(samples[:,:,1])\n",
    "    np.save(f'../../data/vae_synthetic_data/{model_name}_b{batches[b]}l{latent_dims[l]}_rescaled_samples.npy', np.stack((temp, energy),axis=-1))"
   ]
  },
  {
   "cell_type": "code",
   "execution_count": 74,
   "id": "a7a86a84",
   "metadata": {
    "scrolled": false
   },
   "outputs": [
    {
     "name": "stdout",
     "output_type": "stream",
     "text": [
      "0.4127741324562375 b9 e2\n",
      "32 1000\n",
      "0.4145561139925519 b7 e0\n",
      "20 100\n",
      "0.4220499112934464 b9 e1\n",
      "32 500\n",
      "0.4250164590716146 b4 e2\n",
      "10 1000\n",
      "0.4274020755166289 b4 e0\n",
      "10 100\n"
     ]
    }
   ],
   "source": [
    "batches=[2,4,6,8,10,12,16,20,24,32]\n",
    "epochs=[100,500,1000]\n",
    "\n",
    "for i, scores in enumerate(best_gans):\n",
    "    print(scores, best_gans.index[i])\n",
    "    \n",
    "    b, e = map(int, re.findall(r'\\d+', best_gans.index[i]))\n",
    "    print(batches[b], epochs[e])\n",
    "    \n",
    "    dgan = DGAN.load(f'../../data/models/model_data/DGAN_{model_name}_b{batches[b]}_e{epochs[e]}.zip')\n",
    "    attributes, samples = dgan.generate_numpy(1000)\n",
    "    \n",
    "    np.save(f'../../data/gan_synthetic_data/{model_name}_b{batches[b]}e{epochs[e]}_generated_samples.npy', samples)\n",
    "\n",
    "    temp, energy = scalers['G.air.T'].inverse_transform(samples[:,:,0]), scalers['G.E_th_I'].inverse_transform(samples[:,:,1])\n",
    "    np.save(f'../../data/gan_synthetic_data/{model_name}_b{batches[b]}e{epochs[e]}_rescaled_samples.npy', np.stack((temp, energy),axis=-1))"
   ]
  },
  {
   "cell_type": "code",
   "execution_count": null,
   "id": "6ba957ea",
   "metadata": {},
   "outputs": [],
   "source": []
  },
  {
   "cell_type": "code",
   "execution_count": 91,
   "id": "0e79d3f2",
   "metadata": {
    "scrolled": true
   },
   "outputs": [
    {
     "name": "stdout",
     "output_type": "stream",
     "text": [
      "(1000, 730, 2) (1000, 730, 2)\n"
     ]
    }
   ],
   "source": [
    "unscaled = (np.load('../../data/models/model_data/th_v_air_l15b8_samples.npy')[:1000,:,:])\n",
    "rescaled = (np.load('../../data/models/model_data/th_v_air_l15b8_scaled_samples.npy')[:1000,:,:])\n",
    "\n",
    "print(unscaled.shape, rescaled.shape)\n",
    "np.save('../../data/vae_synthetic_data/th_v_air_b8l15_generated_samples.npy', unscaled)\n",
    "np.save('../../data/vae_synthetic_data/th_v_air_b8l15_rescaled_samples.npy', rescaled)"
   ]
  },
  {
   "cell_type": "code",
   "execution_count": 20,
   "id": "0ce22d69",
   "metadata": {},
   "outputs": [
    {
     "name": "stdout",
     "output_type": "stream",
     "text": [
      "(120, 730, 2)\n"
     ]
    }
   ],
   "source": [
    "print(np.concatenate((base_data_train_scaled, base_data_test_scaled[0:216]), axis=0).shape)"
   ]
  },
  {
   "cell_type": "markdown",
   "id": "48b8ab83",
   "metadata": {},
   "source": [
    "<h1> Blended datasets </h1>\n",
    "<h2> VAE data </h2>"
   ]
  },
  {
   "cell_type": "markdown",
   "id": "d6a96242",
   "metadata": {},
   "source": [
    "RF regression"
   ]
  },
  {
   "cell_type": "code",
   "execution_count": 54,
   "id": "83565ade",
   "metadata": {
    "scrolled": true
   },
   "outputs": [
    {
     "name": "stdout",
     "output_type": "stream",
     "text": [
      "{'mse': 0.7572197536812194, 'mae': 0.8344414357052574, 'r2': -0.10870343295659568} 0 0\n",
      "{'mse': 10.646028456685217, 'mae': 3.1564175107114005, 'r2': -14.587665588356472} 0 1\n",
      "{'mse': 0.8554545520142225, 'mae': 0.892906332547314, 'r2': -0.2525365244972193} 0 2\n",
      "{'mse': 0.7017839368849638, 'mae': 0.6860350591273817, 'r2': -0.0275356080392386} 0 3\n",
      "{'mse': 0.6947126487089319, 'mae': 0.7702733056545327, 'r2': -0.01718199346687954} 0 4\n",
      "{'mse': 0.7307868377690802, 'mae': 0.66834370740485, 'r2': -0.07000097640766167} 0 5\n",
      "{'mse': 0.7002226664500458, 'mae': 0.6873909588946637, 'r2': -0.025249632425749846} 0 6\n",
      "{'mse': 0.7085066846432759, 'mae': 0.6810222531274811, 'r2': -0.03737889789308424} 0 7\n",
      "{'mse': 0.7872948509844427, 'mae': 0.8552083275120448, 'r2': -0.15273868621627873} 1 0\n",
      "{'mse': 0.6842861174701119, 'mae': 0.717636091551701, 'r2': -0.001915710565369988} 1 1\n",
      "{'mse': 0.6821218843925435, 'mae': 0.7891688413348992, 'r2': 0.0012531088310512306} 1 2\n",
      "{'mse': 0.731722733568559, 'mae': 0.8135204493086746, 'r2': -0.07137129312315604} 1 3\n",
      "{'mse': 0.7659171826421717, 'mae': 0.8401798170573108, 'r2': -0.12143800478997036} 1 4\n",
      "{'mse': 1.4240657985786032, 'mae': 1.0951520620080306, 'r2': -1.0850837976221857} 1 5\n",
      "{'mse': 0.735190836638219, 'mae': 0.8165484473172095, 'r2': -0.07644920843173919} 1 6\n",
      "{'mse': 0.7272402678485771, 'mae': 0.8094574565510768, 'r2': -0.06480817177338416} 1 7\n",
      "{'mse': 1.3627549525991411, 'mae': 1.0463084328989603, 'r2': -0.9953138925392297} 2 0\n",
      "{'mse': 3.536140915207473, 'mae': 1.6891308964642984, 'r2': -4.1775347289200555} 2 1\n",
      "{'mse': 0.6968909758859917, 'mae': 0.6904952749704226, 'r2': -0.020371449113760987} 2 2\n",
      "{'mse': 0.6938272913388546, 'mae': 0.768705805504881, 'r2': -0.015885673936352207} 2 3\n",
      "{'mse': 0.7138175288774907, 'mae': 0.67749361947086, 'r2': -0.045154911666822395} 2 4\n",
      "{'mse': 0.9605254759705053, 'mae': 0.6181167907939132, 'r2': -0.40637891110681923} 2 5\n",
      "{'mse': 0.6855231914107845, 'mae': 0.7488279042044814, 'r2': -0.003727005263080896} 2 6\n",
      "{'mse': 0.6973743166803942, 'mae': 0.6900756623726116, 'r2': -0.021079145387447706} 2 7\n",
      "{'mse': 0.7944356293802249, 'mae': 0.8588134717693724, 'r2': -0.1631940467412749} 3 0\n",
      "{'mse': 0.754928789248902, 'mae': 0.8322778876861527, 'r2': -0.10534905647797954} 3 1\n",
      "{'mse': 0.7122171573780116, 'mae': 0.7941613529496768, 'r2': -0.04281168519015899} 3 2\n",
      "{'mse': 0.7173983392041003, 'mae': 0.6753438120381678, 'r2': -0.050397850301978186} 3 3\n",
      "{'mse': 0.7117738644615329, 'mae': 0.7936728604016884, 'r2': -0.042162626081602816} 3 4\n",
      "{'mse': 0.9551970336377166, 'mae': 0.6187125349324609, 'r2': -0.3985771306092105} 3 5\n",
      "{'mse': 0.7143565868215456, 'mae': 0.6772173497057573, 'r2': -0.04594418768640662} 3 6\n",
      "{'mse': 0.693925735787526, 'mae': 0.6942078301720189, 'r2': -0.01602981399300929} 3 7\n",
      "{'mse': 0.7867616494320593, 'mae': 0.8514128714010406, 'r2': -0.15195798498825175} 4 0\n",
      "{'mse': 0.7196817835279474, 'mae': 0.6740947442877864, 'r2': -0.053741216013856175} 4 1\n",
      "{'mse': 1.4261096716127275, 'mae': 1.0957172517849176, 'r2': -1.0880763886612397} 4 2\n",
      "{'mse': 0.6857337679959874, 'mae': 0.7496654838529421, 'r2': -0.004035326568461173} 4 3\n",
      "{'mse': 0.7170433034274991, 'mae': 0.6756032281464577, 'r2': -0.049878015231080264} 4 4\n",
      "{'mse': 0.8099907242786596, 'mae': 0.8681358662823564, 'r2': -0.18596945246731278} 4 5\n",
      "{'mse': 0.780570659342245, 'mae': 0.8500833769226378, 'r2': -0.14289328226145637} 4 6\n",
      "{'mse': 0.684292805648943, 'mae': 0.7178104863929611, 'r2': -0.0019255032402099026} 4 7\n",
      "{'mse': 0.6947099139879533, 'mae': 0.7975521134555712, 'r2': -0.017177989352456402} 5 0\n",
      "{'mse': 1.5555134309445011, 'mae': 1.128697952834457, 'r2': -1.2775463430716285} 5 1\n",
      "{'mse': 4.064420975438477, 'mae': 1.8388701002575707, 'r2': -4.951030023374836} 5 2\n",
      "{'mse': 0.6983087951725682, 'mae': 0.7761267725989984, 'r2': -0.02244738691477255} 5 3\n",
      "{'mse': 0.6830268424964825, 'mae': 0.7281562079832368, 'r2': -7.19096350429993e-05} 5 4\n",
      "{'mse': 0.7046142467266806, 'mae': 0.6838478433883082, 'r2': -0.03167968143746536} 5 5\n",
      "{'mse': 0.7467799121663229, 'mae': 0.8260666205450937, 'r2': -0.09341766146051644} 5 6\n",
      "{'mse': 0.7378545278458849, 'mae': 0.818793582246793, 'r2': -0.08034932272738216} 5 7\n"
     ]
    }
   ],
   "source": [
    "vae_blended_results = {}\n",
    "for i,b in enumerate(vae_list):\n",
    "    for j,e in enumerate(b):\n",
    "        indices = np.random.choice(e.shape[0], 216, replace=False)\n",
    "        current_df = np.concatenate((e[indices], base_data_train_scaled), axis=0)\n",
    "        current_df = current_df[np.random.permutation(current_df.shape[0])]\n",
    "        \n",
    "        result = find_best_model_regression(pd.DataFrame(current_df.reshape(-1,2), columns=['G.air.T', 'G.E_th_I']))\n",
    "        vae_blended_results[f'b{i} l{j}'] = result\n",
    "        print(result, f'{i} {j}')"
   ]
  },
  {
   "cell_type": "code",
   "execution_count": 56,
   "id": "df22fd6a",
   "metadata": {
    "scrolled": true
   },
   "outputs": [
    {
     "name": "stdout",
     "output_type": "stream",
     "text": [
      "             mse       mae         r2\n",
      "b0 l0   0.757220  0.834441  -0.108703\n",
      "b0 l1  10.646028  3.156418 -14.587666\n",
      "b0 l2   0.855455  0.892906  -0.252537\n",
      "b0 l3   0.701784  0.686035  -0.027536\n",
      "b0 l4   0.694713  0.770273  -0.017182\n",
      "b0 l5   0.730787  0.668344  -0.070001\n",
      "b0 l6   0.700223  0.687391  -0.025250\n",
      "b0 l7   0.708507  0.681022  -0.037379\n",
      "b1 l0   0.787295  0.855208  -0.152739\n",
      "b1 l1   0.684286  0.717636  -0.001916\n",
      "b1 l2   0.682122  0.789169   0.001253\n",
      "b1 l3   0.731723  0.813520  -0.071371\n",
      "b1 l4   0.765917  0.840180  -0.121438\n",
      "b1 l5   1.424066  1.095152  -1.085084\n",
      "b1 l6   0.735191  0.816548  -0.076449\n",
      "b1 l7   0.727240  0.809457  -0.064808\n",
      "b2 l0   1.362755  1.046308  -0.995314\n",
      "b2 l1   3.536141  1.689131  -4.177535\n",
      "b2 l2   0.696891  0.690495  -0.020371\n",
      "b2 l3   0.693827  0.768706  -0.015886\n",
      "b2 l4   0.713818  0.677494  -0.045155\n",
      "b2 l5   0.960525  0.618117  -0.406379\n",
      "b2 l6   0.685523  0.748828  -0.003727\n",
      "b2 l7   0.697374  0.690076  -0.021079\n",
      "b3 l0   0.794436  0.858813  -0.163194\n",
      "b3 l1   0.754929  0.832278  -0.105349\n",
      "b3 l2   0.712217  0.794161  -0.042812\n",
      "b3 l3   0.717398  0.675344  -0.050398\n",
      "b3 l4   0.711774  0.793673  -0.042163\n",
      "b3 l5   0.955197  0.618713  -0.398577\n",
      "b3 l6   0.714357  0.677217  -0.045944\n",
      "b3 l7   0.693926  0.694208  -0.016030\n",
      "b4 l0   0.786762  0.851413  -0.151958\n",
      "b4 l1   0.719682  0.674095  -0.053741\n",
      "b4 l2   1.426110  1.095717  -1.088076\n",
      "b4 l3   0.685734  0.749665  -0.004035\n",
      "b4 l4   0.717043  0.675603  -0.049878\n",
      "b4 l5   0.809991  0.868136  -0.185969\n",
      "b4 l6   0.780571  0.850083  -0.142893\n",
      "b4 l7   0.684293  0.717810  -0.001926\n",
      "b5 l0   0.694710  0.797552  -0.017178\n",
      "b5 l1   1.555513  1.128698  -1.277546\n",
      "b5 l2   4.064421  1.838870  -4.951030\n",
      "b5 l3   0.698309  0.776127  -0.022447\n",
      "b5 l4   0.683027  0.728156  -0.000072\n",
      "b5 l5   0.704614  0.683848  -0.031680\n",
      "b5 l6   0.746780  0.826067  -0.093418\n",
      "b5 l7   0.737855  0.818794  -0.080349\n"
     ]
    }
   ],
   "source": [
    "results_df = pd.DataFrame.from_dict(vae_blended_results, orient='index')\n",
    "results_df.to_csv(f'../../data/models/model_history/VAE_blended_{model_name}_model_results.csv')\n",
    "print(results_df)"
   ]
  },
  {
   "cell_type": "code",
   "execution_count": null,
   "id": "64b81ec0",
   "metadata": {},
   "outputs": [],
   "source": []
  },
  {
   "cell_type": "markdown",
   "id": "8f689d2f",
   "metadata": {},
   "source": [
    "Ridge Regression"
   ]
  },
  {
   "cell_type": "code",
   "execution_count": 13,
   "id": "838e9598",
   "metadata": {},
   "outputs": [
    {
     "name": "stdout",
     "output_type": "stream",
     "text": [
      "{'mse': 0.6076678900631831, 'mae': 0.6444437762093875, 'r2': 0.1102669039796711} 0 0\n",
      "{'mse': 1.592182926767665, 'mae': 1.1436222688579112, 'r2': -1.3312369602356453} 0 1\n",
      "{'mse': 7.172314410972206, 'mae': 2.5474176495335463, 'r2': -9.501534820018222} 0 2\n",
      "{'mse': 0.7207652066639981, 'mae': 0.8032258650635606, 'r2': -0.05532753880119046} 0 3\n",
      "{'mse': 1.733621349994804, 'mae': 1.183038609078647, 'r2': -1.5383277877286554} 0 4\n",
      "{'mse': 0.8426561088830234, 'mae': 0.8859102718030022, 'r2': -0.23379734374146488} 0 5\n",
      "{'mse': 1.1423746370665273, 'mae': 1.0092681367539702, 'r2': -0.6726381947655957} 0 6\n",
      "{'mse': 0.773568217737622, 'mae': 0.6522940676259624, 'r2': -0.13264047122690426} 0 7\n",
      "{'mse': 0.793628002327389, 'mae': 0.8595393306206024, 'r2': -0.1620115381211884} 1 0\n",
      "{'mse': 1.5427813446869616, 'mae': 1.1292643231380721, 'r2': -1.2589043204965331} 1 1\n",
      "{'mse': 0.6090720587587108, 'mae': 0.6407971156235748, 'r2': 0.10821095305444317} 1 2\n",
      "{'mse': 0.9141732838964529, 'mae': 0.9211418126504651, 'r2': -0.33851111681364454} 1 3\n",
      "{'mse': 1.668484747533365, 'mae': 1.165184469703455, 'r2': -1.4429562995852954} 1 4\n",
      "{'mse': 0.7055522474437523, 'mae': 0.6830793779717599, 'r2': -0.03305308012401231} 1 5\n",
      "{'mse': 1.6115685056156108, 'mae': 1.1492034716112414, 'r2': -1.3596208708693562} 1 6\n",
      "{'mse': 1.6843721182412452, 'mae': 1.1695868634758817, 'r2': -1.4662182157712484} 1 7\n",
      "{'mse': 0.8823993518083143, 'mae': 0.9063206954486828, 'r2': -0.291988469440291} 2 0\n",
      "{'mse': 1.0703367917532374, 'mae': 0.9839991307539873, 'r2': -0.5671620684319125} 2 1\n",
      "{'mse': 0.8120324743790669, 'mae': 0.8693165045806465, 'r2': -0.18895893515652706} 2 2\n",
      "{'mse': 0.7149912880485971, 'mae': 0.6768290961899073, 'r2': -0.04687350236145682} 2 3\n",
      "{'mse': 0.7564112347367344, 'mae': 0.8334026831482624, 'r2': -0.10751961844964031} 2 4\n",
      "{'mse': 0.9762185569253047, 'mae': 0.616444108633753, 'r2': -0.42935635278562745} 2 5\n",
      "{'mse': 0.7504414206289556, 'mae': 0.6601217070809431, 'r2': -0.09877875641688161} 2 6\n",
      "{'mse': 1.667424398015176, 'mae': 1.1648894965708265, 'r2': -1.4414037606489631} 2 7\n",
      "{'mse': 0.8161191755576197, 'mae': 0.8716575528989409, 'r2': -0.1949425873316084} 3 0\n",
      "{'mse': 0.768199217855196, 'mae': 0.841773044947869, 'r2': -0.12477930731477627} 3 1\n",
      "{'mse': 0.7271616804030082, 'mae': 0.6701511566563757, 'r2': -0.06469310587571586} 3 2\n",
      "{'mse': 0.734336157650067, 'mae': 0.8158089110422615, 'r2': -0.07519780746968907} 3 3\n",
      "{'mse': 0.8272102010757552, 'mae': 0.8778687672547604, 'r2': -0.21118180719768542} 3 4\n",
      "{'mse': 1.3533082129744025, 'mae': 1.0751358732670266, 'r2': -0.9814821975771302} 3 5\n",
      "{'mse': 0.7809406620625773, 'mae': 0.8502543829743416, 'r2': -0.14343503158091275} 3 6\n",
      "{'mse': 0.8841925237601715, 'mae': 0.8996576680166051, 'r2': -0.29461398982488274} 3 7\n",
      "{'mse': 0.7879548088417304, 'mae': 0.8521164782816242, 'r2': -0.15370498105793384} 4 0\n",
      "{'mse': 0.7460628141945463, 'mae': 0.8254502548870629, 'r2': -0.09236770340116851} 4 1\n",
      "{'mse': 0.9248071022528197, 'mae': 0.9259151229371918, 'r2': -0.35408090465901565} 4 2\n",
      "{'mse': 0.6849701317529011, 'mae': 0.7467101928032117, 'r2': -0.0029172282619605028} 4 3\n",
      "{'mse': 0.6911211371781981, 'mae': 0.7635012893519321, 'r2': -0.011923386379214973} 4 4\n",
      "{'mse': 1.0206747413534694, 'mae': 0.9654231544121514, 'r2': -0.49444805707892003} 4 5\n",
      "{'mse': 0.777121580677549, 'mae': 0.8477563674127704, 'r2': -0.13784322204116317} 4 6\n",
      "{'mse': 0.8960714360045087, 'mae': 0.9128206447867364, 'r2': -0.31200681498701033} 4 7\n",
      "{'mse': 0.7147738127190588, 'mae': 0.8115157209040499, 'r2': -0.046555080076155386} 5 0\n",
      "{'mse': 1.1123598581889507, 'mae': 0.9774614207841281, 'r2': -0.6286912583323818} 5 1\n",
      "{'mse': 0.922200724801154, 'mae': 0.9247563401955435, 'r2': -0.3502647078229002} 5 2\n",
      "{'mse': 0.7259825857135835, 'mae': 0.670698331897565, 'r2': -0.06296670304009155} 5 3\n",
      "{'mse': 1.5371557769593405, 'mae': 1.1276091707749998, 'r2': -1.2506674959530346} 5 4\n",
      "{'mse': 0.9852776940347021, 'mae': 0.9514682554239262, 'r2': -0.44262052922051986} 5 5\n",
      "{'mse': 0.6998622007970845, 'mae': 0.6877840186789038, 'r2': -0.024721847057026514} 5 6\n",
      "{'mse': 0.7691368559332504, 'mae': 0.8424448798443405, 'r2': -0.1261521750337653} 5 7\n"
     ]
    }
   ],
   "source": [
    "vae_blended_ridge_results = {}\n",
    "for i,b in enumerate(vae_list):\n",
    "    for j,e in enumerate(b):\n",
    "        indices = np.random.choice(e.shape[0], 216, replace=False)\n",
    "        current_df = np.concatenate((e[indices], base_data_train_scaled), axis=0)\n",
    "        current_df = current_df[np.random.permutation(current_df.shape[0])]\n",
    "        \n",
    "        result = find_best_model_regression(pd.DataFrame(current_df.reshape(-1,2), columns=['G.air.T', 'G.E_th_I']))\n",
    "        vae_blended_ridge_results[f'b{i} l{j}'] = result\n",
    "        print(result, f'{i} {j}')"
   ]
  },
  {
   "cell_type": "code",
   "execution_count": null,
   "id": "b6aada97",
   "metadata": {},
   "outputs": [],
   "source": [
    "results_df = pd.DataFrame.from_dict(vae_blended_ridge_results, orient='index')\n",
    "results_df.to_csv(f'../../data/models/model_history/VAE_blended_ridge_{model_name}_model_results.csv')\n",
    "print(results_df)"
   ]
  },
  {
   "cell_type": "markdown",
   "id": "2df85586",
   "metadata": {},
   "source": [
    "<h2> GAN data </h2>"
   ]
  },
  {
   "cell_type": "code",
   "execution_count": 37,
   "id": "fd300fbf",
   "metadata": {
    "scrolled": true
   },
   "outputs": [
    {
     "name": "stdout",
     "output_type": "stream",
     "text": [
      "{'mse': 1.1729881693802657, 'mae': 1.0180147229334828, 'r2': -0.7174618119601601} 0 0\n",
      "{'mse': 1.0324203616713927, 'mae': 0.6114323760344877, 'r2': -0.5116457193234374} 0 1\n",
      "{'mse': 0.6517351403218136, 'mae': 0.5733436953824708, 'r2': 0.045744667990474386} 0 2\n",
      "{'mse': 0.7975964015063317, 'mae': 0.6651258788956244, 'r2': -0.16782197527849507} 1 0\n",
      "{'mse': 0.7744893268889329, 'mae': 0.8023321650766966, 'r2': -0.13398913767838216} 1 1\n",
      "{'mse': 0.6747063042453426, 'mae': 0.7475115823449245, 'r2': 0.012110827645961608} 1 2\n",
      "{'mse': 0.618881366692569, 'mae': 0.6858990760462009, 'r2': 0.09384839406370737} 2 0\n",
      "{'mse': 0.6161636148084032, 'mae': 0.5951320466097083, 'r2': 0.09782766273604493} 2 1\n",
      "{'mse': 0.7321677701918994, 'mae': 0.7945904834259836, 'r2': -0.0720229053264696} 2 2\n",
      "{'mse': 0.6771373161856715, 'mae': 0.6902162249645797, 'r2': 0.008551396885342899} 3 0\n",
      "{'mse': 0.5877356693097961, 'mae': 0.567438474253315, 'r2': 0.1394511948916487} 3 1\n",
      "{'mse': 0.6349692982137977, 'mae': 0.5401132033897621, 'r2': 0.07029282143100257} 3 2\n",
      "{'mse': 0.5449560181169011, 'mae': 0.5891134015650507, 'r2': 0.20208815847806882} 4 0\n",
      "{'mse': 0.6458652938428119, 'mae': 0.5701749136518587, 'r2': 0.05433915976193049} 4 1\n",
      "{'mse': 0.640623279439961, 'mae': 0.7215132079976528, 'r2': 0.06201439450824364} 4 2\n",
      "{'mse': 0.6836484355957088, 'mae': 0.7214620153184933, 'r2': -0.0009820316962598774} 5 0\n",
      "{'mse': 1.81500454454625, 'mae': 1.194671514230364, 'r2': -1.6574871555944708} 5 1\n",
      "{'mse': 0.7324443741073124, 'mae': 0.662777825793484, 'r2': -0.07242790230270657} 5 2\n",
      "{'mse': 1.2301466319694616, 'mae': 1.0105553446597002, 'r2': -0.8011518945116007} 6 0\n",
      "{'mse': 0.5655336589328408, 'mae': 0.5947181719133285, 'r2': 0.1719588586230828} 6 1\n",
      "{'mse': 3.8536463681775244, 'mae': 1.780066136053803, 'r2': -4.642418778733857} 6 2\n",
      "{'mse': 1.1426240280353652, 'mae': 0.6779721957559739, 'r2': -0.6730033471826513} 7 0\n",
      "{'mse': 0.7628466050008705, 'mae': 0.7177435055395031, 'r2': -0.11694213690548905} 7 1\n",
      "{'mse': 0.6584116569364019, 'mae': 0.7110983391097431, 'r2': 0.035969068694761686} 7 2\n",
      "{'mse': 1.1176893937330912, 'mae': 0.9664100803569801, 'r2': -0.636494639484454} 8 0\n",
      "{'mse': 0.636254480407523, 'mae': 0.566717195089209, 'r2': 0.06841108775563176} 8 1\n",
      "{'mse': 0.5696077426369681, 'mae': 0.5308202927646941, 'r2': 0.16599368065861553} 8 2\n",
      "{'mse': 0.6558204413952538, 'mae': 0.7087485834242108, 'r2': 0.03976306581651523} 9 0\n",
      "{'mse': 0.6280417712809414, 'mae': 0.5382592279880464, 'r2': 0.08043594415728894} 9 1\n",
      "{'mse': 0.5519431438356639, 'mae': 0.5593607139936867, 'r2': 0.19185777260497006} 9 2\n"
     ]
    }
   ],
   "source": [
    "gan_blended_results = {}\n",
    "for i,b in enumerate(gan_list):\n",
    "    for j,e in enumerate(b):\n",
    "        indices = np.random.choice(e.shape[0], 216, replace=False)\n",
    "        current_df = np.concatenate((e[indices], base_data_train_scaled), axis=0)\n",
    "        current_df = current_df[np.random.permutation(current_df.shape[0])]\n",
    "        \n",
    "        result = find_best_model_regression(pd.DataFrame(current_df.reshape(-1,2), columns=['G.air.T', 'G.E_th_I']))\n",
    "        gan_blended_results[f'b{i} l{j}'] = result\n",
    "        print(result, f'{i} {j}')"
   ]
  },
  {
   "cell_type": "code",
   "execution_count": 38,
   "id": "b79e3375",
   "metadata": {
    "scrolled": true
   },
   "outputs": [
    {
     "name": "stdout",
     "output_type": "stream",
     "text": [
      "            mse       mae        r2\n",
      "b0 l0  1.172988  1.018015 -0.717462\n",
      "b0 l1  1.032420  0.611432 -0.511646\n",
      "b0 l2  0.651735  0.573344  0.045745\n",
      "b1 l0  0.797596  0.665126 -0.167822\n",
      "b1 l1  0.774489  0.802332 -0.133989\n",
      "b1 l2  0.674706  0.747512  0.012111\n",
      "b2 l0  0.618881  0.685899  0.093848\n",
      "b2 l1  0.616164  0.595132  0.097828\n",
      "b2 l2  0.732168  0.794590 -0.072023\n",
      "b3 l0  0.677137  0.690216  0.008551\n",
      "b3 l1  0.587736  0.567438  0.139451\n",
      "b3 l2  0.634969  0.540113  0.070293\n",
      "b4 l0  0.544956  0.589113  0.202088\n",
      "b4 l1  0.645865  0.570175  0.054339\n",
      "b4 l2  0.640623  0.721513  0.062014\n",
      "b5 l0  0.683648  0.721462 -0.000982\n",
      "b5 l1  1.815005  1.194672 -1.657487\n",
      "b5 l2  0.732444  0.662778 -0.072428\n",
      "b6 l0  1.230147  1.010555 -0.801152\n",
      "b6 l1  0.565534  0.594718  0.171959\n",
      "b6 l2  3.853646  1.780066 -4.642419\n",
      "b7 l0  1.142624  0.677972 -0.673003\n",
      "b7 l1  0.762847  0.717744 -0.116942\n",
      "b7 l2  0.658412  0.711098  0.035969\n",
      "b8 l0  1.117689  0.966410 -0.636495\n",
      "b8 l1  0.636254  0.566717  0.068411\n",
      "b8 l2  0.569608  0.530820  0.165994\n",
      "b9 l0  0.655820  0.708749  0.039763\n",
      "b9 l1  0.628042  0.538259  0.080436\n",
      "b9 l2  0.551943  0.559361  0.191858\n"
     ]
    }
   ],
   "source": [
    "results_df = pd.DataFrame.from_dict(gan_blended_results, orient='index')\n",
    "results_df.to_csv(f'../../data/models/model_history/DGAN_blended_{model_name}_model_results.csv')\n",
    "print(results_df)"
   ]
  },
  {
   "cell_type": "code",
   "execution_count": null,
   "id": "488f2c35",
   "metadata": {},
   "outputs": [],
   "source": []
  },
  {
   "cell_type": "markdown",
   "id": "f911fb04",
   "metadata": {},
   "source": [
    "Ridge Regression"
   ]
  },
  {
   "cell_type": "code",
   "execution_count": 15,
   "id": "53ff8bed",
   "metadata": {},
   "outputs": [
    {
     "name": "stdout",
     "output_type": "stream",
     "text": [
      "{'mse': 1.1517205294797828, 'mae': 1.0124321591763965, 'r2': -0.6863222316019899} 0 0\n",
      "{'mse': 1.0280635867724421, 'mae': 0.611764284844543, 'r2': -0.5052666315307555} 0 1\n",
      "{'mse': 0.6689791707097759, 'mae': 0.5988740490006627, 'r2': 0.020496362467279594} 0 2\n",
      "{'mse': 0.7172774327015325, 'mae': 0.7396269522567561, 'r2': -0.05022082183195731} 1 0\n",
      "{'mse': 0.8269622665482889, 'mae': 0.8262025863936181, 'r2': -0.21081878726798342} 1 1\n",
      "{'mse': 0.7678227290435488, 'mae': 0.8298105939344292, 'r2': -0.12422806121228924} 1 2\n",
      "{'mse': 0.6616312392407856, 'mae': 0.7399278140925395, 'r2': 0.0312550316715553} 2 0\n",
      "{'mse': 0.6162025365747856, 'mae': 0.5954199965645762, 'r2': 0.09777067439706522} 2 1\n",
      "{'mse': 0.8996113563964886, 'mae': 0.8740264810836498, 'r2': -0.3171898835373237} 2 2\n",
      "{'mse': 1.03204477857213, 'mae': 0.9326751636190002, 'r2': -0.5110957993438165} 3 0\n",
      "{'mse': 1.1498197099186733, 'mae': 0.9585173162581292, 'r2': -0.6835390961085117} 3 1\n",
      "{'mse': 0.6806001901016873, 'mae': 0.5470581188647348, 'r2': 0.0034811379810845144} 3 2\n",
      "{'mse': 0.5410104327383778, 'mae': 0.6056458585729375, 'r2': 0.20786519220298894} 4 0\n",
      "{'mse': 0.7448343814023067, 'mae': 0.8042495370634113, 'r2': -0.09056906087065975} 4 1\n",
      "{'mse': 0.7543524460866852, 'mae': 0.8000239745250138, 'r2': -0.10450518831499989} 4 2\n",
      "{'mse': 1.1853765767307445, 'mae': 0.995700531225048, 'r2': -0.7356006279268166} 5 0\n",
      "{'mse': 1.0344152987296633, 'mae': 0.950835590832517, 'r2': -0.5145666594524876} 5 1\n",
      "{'mse': 0.7140251180682543, 'mae': 0.5929645496658587, 'r2': -0.04545885889921486} 5 2\n",
      "{'mse': 1.031442122243152, 'mae': 0.9277278602263813, 'r2': -0.5102134040581909} 6 0\n",
      "{'mse': 0.7343367596892607, 'mae': 0.7593500567394685, 'r2': -0.0751986889613796} 6 1\n",
      "{'mse': 0.9533252816151258, 'mae': 0.8945194422037103, 'r2': -0.3958365551250116} 6 2\n",
      "{'mse': 0.8972431480042697, 'mae': 0.6262368719869776, 'r2': -0.3137224082612957} 7 0\n",
      "{'mse': 0.9978713383962788, 'mae': 0.899356102618165, 'r2': -0.4610598484131787} 7 1\n",
      "{'mse': 0.9356060486180054, 'mae': 0.8999143119975501, 'r2': -0.3698924690684091} 7 2\n",
      "{'mse': 0.6977267210785856, 'mae': 0.6897339563966061, 'r2': -0.021595127655691826} 8 0\n",
      "{'mse': 0.8007302439702909, 'mae': 0.8062401743045594, 'r2': -0.17241047403495968} 8 1\n",
      "{'mse': 0.6028642555042779, 'mae': 0.5478067208993866, 'r2': 0.11730027322319081} 8 2\n",
      "{'mse': 0.6806959278941551, 'mae': 0.7025213883349424, 'r2': 0.003340960947063931} 9 0\n",
      "{'mse': 0.6237030723984749, 'mae': 0.5484994966644899, 'r2': 0.086788565469887} 9 1\n",
      "{'mse': 0.7726592197916239, 'mae': 0.8190038382179642, 'r2': -0.13130953771866016} 9 2\n"
     ]
    }
   ],
   "source": [
    "gan_blended_ridge_results = {}\n",
    "for i,b in enumerate(gan_list):\n",
    "    for j,e in enumerate(b):\n",
    "        indices = np.random.choice(e.shape[0], 216, replace=False)\n",
    "        current_df = np.concatenate((e[indices], base_data_train_scaled), axis=0)\n",
    "        current_df = current_df[np.random.permutation(current_df.shape[0])]\n",
    "        \n",
    "        result = find_best_model_regression(pd.DataFrame(current_df.reshape(-1,2), columns=['G.air.T', 'G.E_th_I']))\n",
    "        gan_blended_ridge_results[f'b{i} l{j}'] = result\n",
    "        print(result, f'{i} {j}')"
   ]
  },
  {
   "cell_type": "code",
   "execution_count": null,
   "id": "4e242229",
   "metadata": {},
   "outputs": [],
   "source": [
    "results_df = pd.DataFrame.from_dict(gan_blended_ridge_results, orient='index')\n",
    "results_df.to_csv(f'../../data/models/model_history/DGAN_blended_ridge_{model_name}_model_results.csv')\n",
    "print(results_df)"
   ]
  }
 ],
 "metadata": {
  "kernelspec": {
   "display_name": "Python 3 (ipykernel)",
   "language": "python",
   "name": "python3"
  },
  "language_info": {
   "codemirror_mode": {
    "name": "ipython",
    "version": 3
   },
   "file_extension": ".py",
   "mimetype": "text/x-python",
   "name": "python",
   "nbconvert_exporter": "python",
   "pygments_lexer": "ipython3",
   "version": "3.10.9"
  }
 },
 "nbformat": 4,
 "nbformat_minor": 5
}
