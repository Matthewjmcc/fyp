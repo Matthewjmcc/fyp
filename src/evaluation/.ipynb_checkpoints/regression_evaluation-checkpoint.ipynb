{
 "cells": [
  {
   "cell_type": "code",
   "execution_count": 1,
   "id": "aeb94dec",
   "metadata": {},
   "outputs": [
    {
     "name": "stderr",
     "output_type": "stream",
     "text": [
      "2024-04-03 17:34:30.375738: E external/local_xla/xla/stream_executor/cuda/cuda_dnn.cc:9261] Unable to register cuDNN factory: Attempting to register factory for plugin cuDNN when one has already been registered\n",
      "2024-04-03 17:34:30.375955: E external/local_xla/xla/stream_executor/cuda/cuda_fft.cc:607] Unable to register cuFFT factory: Attempting to register factory for plugin cuFFT when one has already been registered\n",
      "2024-04-03 17:34:30.535164: E external/local_xla/xla/stream_executor/cuda/cuda_blas.cc:1515] Unable to register cuBLAS factory: Attempting to register factory for plugin cuBLAS when one has already been registered\n",
      "2024-04-03 17:34:30.996563: I tensorflow/core/platform/cpu_feature_guard.cc:182] This TensorFlow binary is optimized to use available CPU instructions in performance-critical operations.\n",
      "To enable the following instructions: AVX2 FMA, in other operations, rebuild TensorFlow with the appropriate compiler flags.\n",
      "2024-04-03 17:34:37.053378: W tensorflow/compiler/tf2tensorrt/utils/py_utils.cc:38] TF-TRT Warning: Could not find TensorRT\n"
     ]
    }
   ],
   "source": [
    "import pickle\n",
    "import pandas as pd\n",
    "import numpy as np\n",
    "from statsmodels.tsa.stattools import adfuller\n",
    "import datetime\n",
    "import matplotlib.pyplot as plt\n",
    "from sklearn.linear_model import LinearRegression\n",
    "from sklearn.ensemble import RandomForestRegressor, GradientBoostingRegressor\n",
    "from sklearn.metrics import mean_squared_error, r2_score, mean_absolute_error\n",
    "import seaborn as sns\n",
    "import scipy.stats as stats\n",
    "from gretel_synthetics.timeseries_dgan.dgan import DGAN\n",
    "from tensorflow.keras.optimizers import Adam\n",
    "from tensorflow.keras.callbacks import EarlyStopping, ReduceLROnPlateau\n",
    "from timeVAE.vae_dense_model import VariationalAutoencoderDense as VAE_Dense\n",
    "from timeVAE.vae_conv_model import VariationalAutoencoderConv as VAE_Conv\n",
    "from timeVAE.vae_conv_I_model import VariationalAutoencoderConvInterpretable as TimeVAE\n",
    "from timeVAE import utils\n",
    "from sklearn.preprocessing import MinMaxScaler"
   ]
  },
  {
   "cell_type": "code",
   "execution_count": 20,
   "id": "c4006771",
   "metadata": {},
   "outputs": [],
   "source": [
    "MODEL = 1"
   ]
  },
  {
   "cell_type": "code",
   "execution_count": 21,
   "id": "47904b20",
   "metadata": {},
   "outputs": [
    {
     "name": "stdout",
     "output_type": "stream",
     "text": [
      "(108, 730, 2)\n"
     ]
    }
   ],
   "source": [
    "index = [0,3] if MODEL==0 else [1,2]\n",
    "model_name = 'th_v_air' if MODEL==0 else 'el_v_sky'\n",
    "\n",
    "base_data_train, base_data_test = np.load('../../data/training_data/training_data_1month.npy', allow_pickle=True)\n",
    "\n",
    "base_data_train, base_data_test = base_data_train[:,:,index], base_data_test[:,:,index]\n",
    "print(base_data_train.shape)"
   ]
  },
  {
   "cell_type": "code",
   "execution_count": 22,
   "id": "c1fec2af",
   "metadata": {},
   "outputs": [
    {
     "name": "stdout",
     "output_type": "stream",
     "text": [
      "(108, 730, 2) (12, 730, 2)\n"
     ]
    }
   ],
   "source": [
    "from sklearn.preprocessing import MinMaxScaler\n",
    "\n",
    "scalers = {var_name: MinMaxScaler(feature_range=(-1,1)) for var_name in ['G.air.T', 'G.E_th_I']}\n",
    "\n",
    "temp_var, energy_var = base_data_train[:,:,0], base_data_train[:,:,1]\n",
    "temp_var_test, energy_var_test = base_data_test[:,:,0], base_data_test[:,:,1]\n",
    "\n",
    "temp_var, temp_var_test = scalers['G.air.T'].fit_transform(temp_var), scalers['G.air.T'].fit_transform(temp_var_test)\n",
    "energy_var, energy_var_test = scalers['G.E_th_I'].fit_transform(energy_var), scalers['G.E_th_I'].fit_transform(energy_var_test)\n",
    "\n",
    "base_data_train_scaled, base_data_test_scaled = np.stack((temp_var, energy_var), axis=-1), np.stack((temp_var_test, energy_var_test), axis=-1)\n",
    "print(base_data_train_scaled.shape, base_data_test_scaled.shape)"
   ]
  },
  {
   "cell_type": "code",
   "execution_count": null,
   "id": "98185567",
   "metadata": {},
   "outputs": [],
   "source": []
  },
  {
   "cell_type": "markdown",
   "id": "682a7a29",
   "metadata": {},
   "source": [
    "Load in tVAE models"
   ]
  },
  {
   "cell_type": "code",
   "execution_count": 23,
   "id": "621de360",
   "metadata": {
    "scrolled": true
   },
   "outputs": [
    {
     "name": "stdout",
     "output_type": "stream",
     "text": [
      "32/32 [==============================] - 0s 2ms/step\n",
      "32/32 [==============================] - 0s 2ms/step\n",
      "32/32 [==============================] - 0s 2ms/step\n",
      "32/32 [==============================] - 0s 2ms/step\n",
      "32/32 [==============================] - 0s 2ms/step\n",
      "32/32 [==============================] - 0s 2ms/step\n",
      "32/32 [==============================] - 0s 1ms/step\n",
      "32/32 [==============================] - 0s 1ms/step\n",
      "32/32 [==============================] - 0s 1ms/step\n",
      "32/32 [==============================] - 0s 2ms/step\n",
      "32/32 [==============================] - 0s 2ms/step\n",
      "32/32 [==============================] - 0s 2ms/step\n",
      "32/32 [==============================] - 0s 2ms/step\n",
      "32/32 [==============================] - 0s 1ms/step\n",
      "32/32 [==============================] - 0s 2ms/step\n",
      "32/32 [==============================] - 0s 1ms/step\n",
      "32/32 [==============================] - 0s 2ms/step\n",
      "32/32 [==============================] - 0s 1ms/step\n",
      "32/32 [==============================] - 0s 2ms/step\n",
      "32/32 [==============================] - 0s 2ms/step\n",
      "32/32 [==============================] - 0s 2ms/step\n",
      "32/32 [==============================] - 0s 2ms/step\n",
      "32/32 [==============================] - 0s 2ms/step\n",
      "32/32 [==============================] - 0s 1ms/step\n",
      "32/32 [==============================] - 0s 2ms/step\n",
      "32/32 [==============================] - 0s 1ms/step\n",
      "32/32 [==============================] - 0s 2ms/step\n",
      "32/32 [==============================] - 0s 2ms/step\n",
      "32/32 [==============================] - 0s 2ms/step\n",
      "32/32 [==============================] - 0s 2ms/step\n",
      "32/32 [==============================] - 0s 2ms/step\n",
      "32/32 [==============================] - 0s 2ms/step\n",
      "32/32 [==============================] - 0s 1ms/step\n",
      "32/32 [==============================] - 0s 2ms/step\n",
      "32/32 [==============================] - 0s 1ms/step\n",
      "32/32 [==============================] - 0s 2ms/step\n",
      "32/32 [==============================] - 0s 2ms/step\n",
      "32/32 [==============================] - 0s 1ms/step\n",
      "32/32 [==============================] - 0s 2ms/step\n",
      "32/32 [==============================] - 0s 2ms/step\n",
      "32/32 [==============================] - 0s 2ms/step\n",
      "32/32 [==============================] - 0s 1ms/step\n",
      "32/32 [==============================] - 0s 2ms/step\n",
      "32/32 [==============================] - 0s 2ms/step\n",
      "32/32 [==============================] - 0s 1ms/step\n",
      "32/32 [==============================] - 0s 2ms/step\n",
      "32/32 [==============================] - 0s 2ms/step\n",
      "32/32 [==============================] - 0s 1ms/step\n"
     ]
    }
   ],
   "source": [
    "batches=[4,8,16,20,24,32]\n",
    "latent_dims=[3,5,10,15,20,25,30,50]\n",
    "\n",
    "vae_list = []\n",
    "for b in batches:\n",
    "    latent_dim_list = []\n",
    "    for l in latent_dims:\n",
    "        samples = TimeVAE.load('../../data/models/model_data/',f'tVAE_{model_name}_b{b}l{l}')\n",
    "        sample = samples.get_prior_samples(num_samples=1000)\n",
    "        latent_dim_list.append(sample)\n",
    "    vae_list.append(latent_dim_list)"
   ]
  },
  {
   "cell_type": "code",
   "execution_count": 9,
   "id": "43db836c",
   "metadata": {},
   "outputs": [
    {
     "name": "stdout",
     "output_type": "stream",
     "text": [
      "6 8 (1000, 730, 2)\n"
     ]
    }
   ],
   "source": [
    "print(len(vae_list), len(vae_list[0]), vae_list[0][0].shape)"
   ]
  },
  {
   "cell_type": "markdown",
   "id": "ee40efdb",
   "metadata": {},
   "source": [
    "Load in DGAN models"
   ]
  },
  {
   "cell_type": "code",
   "execution_count": null,
   "id": "f9d4667e",
   "metadata": {},
   "outputs": [],
   "source": [
    "import tensorflow as tf\n",
    "\n",
    "# Hide GPU from visible devices\n",
    "tf.config.set_visible_devices([], 'GPU')\n",
    "tf.config.get_visible_devices()"
   ]
  },
  {
   "cell_type": "code",
   "execution_count": 24,
   "id": "9bebfa6e",
   "metadata": {
    "scrolled": true
   },
   "outputs": [
    {
     "ename": "OutOfMemoryError",
     "evalue": "CUDA out of memory. Tried to allocate 142.00 MiB. GPU 0 has a total capacty of 7.92 GiB of which 156.56 MiB is free. Including non-PyTorch memory, this process has 7.42 GiB memory in use. Of the allocated memory 56.46 MiB is allocated by PyTorch, and 51.54 MiB is reserved by PyTorch but unallocated. If reserved but unallocated memory is large try setting max_split_size_mb to avoid fragmentation.  See documentation for Memory Management and PYTORCH_CUDA_ALLOC_CONF",
     "output_type": "error",
     "traceback": [
      "\u001b[0;31m---------------------------------------------------------------------------\u001b[0m",
      "\u001b[0;31mOutOfMemoryError\u001b[0m                          Traceback (most recent call last)",
      "Cell \u001b[0;32mIn[24], line 10\u001b[0m\n\u001b[1;32m      8\u001b[0m \u001b[38;5;28;01mfor\u001b[39;00m e \u001b[38;5;129;01min\u001b[39;00m epochs:\n\u001b[1;32m      9\u001b[0m     model \u001b[38;5;241m=\u001b[39m DGAN\u001b[38;5;241m.\u001b[39mload(\u001b[38;5;124mf\u001b[39m\u001b[38;5;124m'\u001b[39m\u001b[38;5;124m../../data/models/model_data/DGAN_\u001b[39m\u001b[38;5;132;01m{\u001b[39;00mmodel_name\u001b[38;5;132;01m}\u001b[39;00m\u001b[38;5;124m_b\u001b[39m\u001b[38;5;132;01m{\u001b[39;00mb\u001b[38;5;132;01m}\u001b[39;00m\u001b[38;5;124m_e\u001b[39m\u001b[38;5;132;01m{\u001b[39;00me\u001b[38;5;132;01m}\u001b[39;00m\u001b[38;5;124m.zip\u001b[39m\u001b[38;5;124m'\u001b[39m)\n\u001b[0;32m---> 10\u001b[0m     attributes, samples \u001b[38;5;241m=\u001b[39m \u001b[43mmodel\u001b[49m\u001b[38;5;241;43m.\u001b[39;49m\u001b[43mgenerate_numpy\u001b[49m\u001b[43m(\u001b[49m\u001b[38;5;241;43m1000\u001b[39;49m\u001b[43m)\u001b[49m\n\u001b[1;32m     11\u001b[0m     epoch_list\u001b[38;5;241m.\u001b[39mappend(samples)\n\u001b[1;32m     12\u001b[0m gan_list\u001b[38;5;241m.\u001b[39mappend(epoch_list)\n",
      "File \u001b[0;32m~/.local/lib/python3.10/site-packages/gretel_synthetics/timeseries_dgan/dgan.py:435\u001b[0m, in \u001b[0;36mDGAN.generate_numpy\u001b[0;34m(self, n, attribute_noise, feature_noise)\u001b[0m\n\u001b[1;32m    432\u001b[0m internal_data_list \u001b[38;5;241m=\u001b[39m []\n\u001b[1;32m    433\u001b[0m \u001b[38;5;28;01mfor\u001b[39;00m _ \u001b[38;5;129;01min\u001b[39;00m \u001b[38;5;28mrange\u001b[39m(num_batches):\n\u001b[1;32m    434\u001b[0m     internal_data_list\u001b[38;5;241m.\u001b[39mappend(\n\u001b[0;32m--> 435\u001b[0m         \u001b[38;5;28;43mself\u001b[39;49m\u001b[38;5;241;43m.\u001b[39;49m\u001b[43m_generate\u001b[49m\u001b[43m(\u001b[49m\n\u001b[1;32m    436\u001b[0m \u001b[43m            \u001b[49m\u001b[38;5;28;43mself\u001b[39;49m\u001b[38;5;241;43m.\u001b[39;49m\u001b[43mattribute_noise_func\u001b[49m\u001b[43m(\u001b[49m\u001b[38;5;28;43mself\u001b[39;49m\u001b[38;5;241;43m.\u001b[39;49m\u001b[43mconfig\u001b[49m\u001b[38;5;241;43m.\u001b[39;49m\u001b[43mbatch_size\u001b[49m\u001b[43m)\u001b[49m\u001b[43m,\u001b[49m\n\u001b[1;32m    437\u001b[0m \u001b[43m            \u001b[49m\u001b[38;5;28;43mself\u001b[39;49m\u001b[38;5;241;43m.\u001b[39;49m\u001b[43mfeature_noise_func\u001b[49m\u001b[43m(\u001b[49m\u001b[38;5;28;43mself\u001b[39;49m\u001b[38;5;241;43m.\u001b[39;49m\u001b[43mconfig\u001b[49m\u001b[38;5;241;43m.\u001b[39;49m\u001b[43mbatch_size\u001b[49m\u001b[43m)\u001b[49m\u001b[43m,\u001b[49m\n\u001b[1;32m    438\u001b[0m \u001b[43m        \u001b[49m\u001b[43m)\u001b[49m\n\u001b[1;32m    439\u001b[0m     )\n\u001b[1;32m    440\u001b[0m \u001b[38;5;66;03m# Convert from list of tuples to tuple of lists with zip(*) and\u001b[39;00m\n\u001b[1;32m    441\u001b[0m \u001b[38;5;66;03m# concatenate into single numpy arrays for attributes, additional\u001b[39;00m\n\u001b[1;32m    442\u001b[0m \u001b[38;5;66;03m# attributes (if present), and features.\u001b[39;00m\n\u001b[1;32m    443\u001b[0m internal_data \u001b[38;5;241m=\u001b[39m \u001b[38;5;28mtuple\u001b[39m(\n\u001b[1;32m    444\u001b[0m     np\u001b[38;5;241m.\u001b[39mconcatenate(d, axis\u001b[38;5;241m=\u001b[39m\u001b[38;5;241m0\u001b[39m) \u001b[38;5;28;01mif\u001b[39;00m \u001b[38;5;129;01mnot\u001b[39;00m (np\u001b[38;5;241m.\u001b[39marray(d) \u001b[38;5;241m==\u001b[39m \u001b[38;5;28;01mNone\u001b[39;00m)\u001b[38;5;241m.\u001b[39many() \u001b[38;5;28;01melse\u001b[39;00m \u001b[38;5;28;01mNone\u001b[39;00m\n\u001b[1;32m    445\u001b[0m     \u001b[38;5;28;01mfor\u001b[39;00m d \u001b[38;5;129;01min\u001b[39;00m \u001b[38;5;28mzip\u001b[39m(\u001b[38;5;241m*\u001b[39minternal_data_list)\n\u001b[1;32m    446\u001b[0m )\n",
      "File \u001b[0;32m~/.local/lib/python3.10/site-packages/gretel_synthetics/timeseries_dgan/dgan.py:828\u001b[0m, in \u001b[0;36mDGAN._generate\u001b[0;34m(self, attribute_noise, feature_noise)\u001b[0m\n\u001b[1;32m    826\u001b[0m \u001b[38;5;66;03m# Set torch modules to eval mode\u001b[39;00m\n\u001b[1;32m    827\u001b[0m \u001b[38;5;28mself\u001b[39m\u001b[38;5;241m.\u001b[39m_set_mode(\u001b[38;5;28;01mFalse\u001b[39;00m)\n\u001b[0;32m--> 828\u001b[0m batch \u001b[38;5;241m=\u001b[39m \u001b[38;5;28;43mself\u001b[39;49m\u001b[38;5;241;43m.\u001b[39;49m\u001b[43mgenerator\u001b[49m\u001b[43m(\u001b[49m\u001b[43mattribute_noise\u001b[49m\u001b[43m,\u001b[49m\u001b[43m \u001b[49m\u001b[43mfeature_noise\u001b[49m\u001b[43m)\u001b[49m\n\u001b[1;32m    829\u001b[0m \u001b[38;5;28;01mreturn\u001b[39;00m \u001b[38;5;28mtuple\u001b[39m(t\u001b[38;5;241m.\u001b[39mcpu()\u001b[38;5;241m.\u001b[39mdetach()\u001b[38;5;241m.\u001b[39mnumpy() \u001b[38;5;28;01mfor\u001b[39;00m t \u001b[38;5;129;01min\u001b[39;00m batch)\n",
      "File \u001b[0;32m~/.local/lib/python3.10/site-packages/torch/nn/modules/module.py:1518\u001b[0m, in \u001b[0;36mModule._wrapped_call_impl\u001b[0;34m(self, *args, **kwargs)\u001b[0m\n\u001b[1;32m   1516\u001b[0m     \u001b[38;5;28;01mreturn\u001b[39;00m \u001b[38;5;28mself\u001b[39m\u001b[38;5;241m.\u001b[39m_compiled_call_impl(\u001b[38;5;241m*\u001b[39margs, \u001b[38;5;241m*\u001b[39m\u001b[38;5;241m*\u001b[39mkwargs)  \u001b[38;5;66;03m# type: ignore[misc]\u001b[39;00m\n\u001b[1;32m   1517\u001b[0m \u001b[38;5;28;01melse\u001b[39;00m:\n\u001b[0;32m-> 1518\u001b[0m     \u001b[38;5;28;01mreturn\u001b[39;00m \u001b[38;5;28;43mself\u001b[39;49m\u001b[38;5;241;43m.\u001b[39;49m\u001b[43m_call_impl\u001b[49m\u001b[43m(\u001b[49m\u001b[38;5;241;43m*\u001b[39;49m\u001b[43margs\u001b[49m\u001b[43m,\u001b[49m\u001b[43m \u001b[49m\u001b[38;5;241;43m*\u001b[39;49m\u001b[38;5;241;43m*\u001b[39;49m\u001b[43mkwargs\u001b[49m\u001b[43m)\u001b[49m\n",
      "File \u001b[0;32m~/.local/lib/python3.10/site-packages/torch/nn/modules/module.py:1527\u001b[0m, in \u001b[0;36mModule._call_impl\u001b[0;34m(self, *args, **kwargs)\u001b[0m\n\u001b[1;32m   1522\u001b[0m \u001b[38;5;66;03m# If we don't have any hooks, we want to skip the rest of the logic in\u001b[39;00m\n\u001b[1;32m   1523\u001b[0m \u001b[38;5;66;03m# this function, and just call forward.\u001b[39;00m\n\u001b[1;32m   1524\u001b[0m \u001b[38;5;28;01mif\u001b[39;00m \u001b[38;5;129;01mnot\u001b[39;00m (\u001b[38;5;28mself\u001b[39m\u001b[38;5;241m.\u001b[39m_backward_hooks \u001b[38;5;129;01mor\u001b[39;00m \u001b[38;5;28mself\u001b[39m\u001b[38;5;241m.\u001b[39m_backward_pre_hooks \u001b[38;5;129;01mor\u001b[39;00m \u001b[38;5;28mself\u001b[39m\u001b[38;5;241m.\u001b[39m_forward_hooks \u001b[38;5;129;01mor\u001b[39;00m \u001b[38;5;28mself\u001b[39m\u001b[38;5;241m.\u001b[39m_forward_pre_hooks\n\u001b[1;32m   1525\u001b[0m         \u001b[38;5;129;01mor\u001b[39;00m _global_backward_pre_hooks \u001b[38;5;129;01mor\u001b[39;00m _global_backward_hooks\n\u001b[1;32m   1526\u001b[0m         \u001b[38;5;129;01mor\u001b[39;00m _global_forward_hooks \u001b[38;5;129;01mor\u001b[39;00m _global_forward_pre_hooks):\n\u001b[0;32m-> 1527\u001b[0m     \u001b[38;5;28;01mreturn\u001b[39;00m \u001b[43mforward_call\u001b[49m\u001b[43m(\u001b[49m\u001b[38;5;241;43m*\u001b[39;49m\u001b[43margs\u001b[49m\u001b[43m,\u001b[49m\u001b[43m \u001b[49m\u001b[38;5;241;43m*\u001b[39;49m\u001b[38;5;241;43m*\u001b[39;49m\u001b[43mkwargs\u001b[49m\u001b[43m)\u001b[49m\n\u001b[1;32m   1529\u001b[0m \u001b[38;5;28;01mtry\u001b[39;00m:\n\u001b[1;32m   1530\u001b[0m     result \u001b[38;5;241m=\u001b[39m \u001b[38;5;28;01mNone\u001b[39;00m\n",
      "File \u001b[0;32m~/.local/lib/python3.10/site-packages/gretel_synthetics/timeseries_dgan/torch_modules.py:342\u001b[0m, in \u001b[0;36mGenerator.forward\u001b[0;34m(self, attribute_noise, feature_noise)\u001b[0m\n\u001b[1;32m    336\u001b[0m reshaped_attributes \u001b[38;5;241m=\u001b[39m reshaped_attributes\u001b[38;5;241m.\u001b[39mexpand(\n\u001b[1;32m    337\u001b[0m     \u001b[38;5;241m-\u001b[39m\u001b[38;5;241m1\u001b[39m, feature_noise\u001b[38;5;241m.\u001b[39mshape[\u001b[38;5;241m1\u001b[39m], \u001b[38;5;241m-\u001b[39m\u001b[38;5;241m1\u001b[39m\n\u001b[1;32m    338\u001b[0m )\n\u001b[1;32m    340\u001b[0m feature_gen_input \u001b[38;5;241m=\u001b[39m torch\u001b[38;5;241m.\u001b[39mcat((reshaped_attributes, feature_noise), \u001b[38;5;241m2\u001b[39m)\n\u001b[0;32m--> 342\u001b[0m features \u001b[38;5;241m=\u001b[39m \u001b[38;5;28;43mself\u001b[39;49m\u001b[38;5;241;43m.\u001b[39;49m\u001b[43mfeature_gen\u001b[49m\u001b[43m(\u001b[49m\u001b[43mfeature_gen_input\u001b[49m\u001b[43m)\u001b[49m\n\u001b[1;32m    344\u001b[0m features \u001b[38;5;241m=\u001b[39m torch\u001b[38;5;241m.\u001b[39mreshape(\n\u001b[1;32m    345\u001b[0m     features, (features\u001b[38;5;241m.\u001b[39mshape[\u001b[38;5;241m0\u001b[39m], \u001b[38;5;28mself\u001b[39m\u001b[38;5;241m.\u001b[39mmax_sequence_len, \u001b[38;5;241m-\u001b[39m\u001b[38;5;241m1\u001b[39m)\n\u001b[1;32m    346\u001b[0m )\n\u001b[1;32m    347\u001b[0m \u001b[38;5;28;01mreturn\u001b[39;00m attributes, additional_attributes, features\n",
      "File \u001b[0;32m~/.local/lib/python3.10/site-packages/torch/nn/modules/module.py:1518\u001b[0m, in \u001b[0;36mModule._wrapped_call_impl\u001b[0;34m(self, *args, **kwargs)\u001b[0m\n\u001b[1;32m   1516\u001b[0m     \u001b[38;5;28;01mreturn\u001b[39;00m \u001b[38;5;28mself\u001b[39m\u001b[38;5;241m.\u001b[39m_compiled_call_impl(\u001b[38;5;241m*\u001b[39margs, \u001b[38;5;241m*\u001b[39m\u001b[38;5;241m*\u001b[39mkwargs)  \u001b[38;5;66;03m# type: ignore[misc]\u001b[39;00m\n\u001b[1;32m   1517\u001b[0m \u001b[38;5;28;01melse\u001b[39;00m:\n\u001b[0;32m-> 1518\u001b[0m     \u001b[38;5;28;01mreturn\u001b[39;00m \u001b[38;5;28;43mself\u001b[39;49m\u001b[38;5;241;43m.\u001b[39;49m\u001b[43m_call_impl\u001b[49m\u001b[43m(\u001b[49m\u001b[38;5;241;43m*\u001b[39;49m\u001b[43margs\u001b[49m\u001b[43m,\u001b[49m\u001b[43m \u001b[49m\u001b[38;5;241;43m*\u001b[39;49m\u001b[38;5;241;43m*\u001b[39;49m\u001b[43mkwargs\u001b[49m\u001b[43m)\u001b[49m\n",
      "File \u001b[0;32m~/.local/lib/python3.10/site-packages/torch/nn/modules/module.py:1527\u001b[0m, in \u001b[0;36mModule._call_impl\u001b[0;34m(self, *args, **kwargs)\u001b[0m\n\u001b[1;32m   1522\u001b[0m \u001b[38;5;66;03m# If we don't have any hooks, we want to skip the rest of the logic in\u001b[39;00m\n\u001b[1;32m   1523\u001b[0m \u001b[38;5;66;03m# this function, and just call forward.\u001b[39;00m\n\u001b[1;32m   1524\u001b[0m \u001b[38;5;28;01mif\u001b[39;00m \u001b[38;5;129;01mnot\u001b[39;00m (\u001b[38;5;28mself\u001b[39m\u001b[38;5;241m.\u001b[39m_backward_hooks \u001b[38;5;129;01mor\u001b[39;00m \u001b[38;5;28mself\u001b[39m\u001b[38;5;241m.\u001b[39m_backward_pre_hooks \u001b[38;5;129;01mor\u001b[39;00m \u001b[38;5;28mself\u001b[39m\u001b[38;5;241m.\u001b[39m_forward_hooks \u001b[38;5;129;01mor\u001b[39;00m \u001b[38;5;28mself\u001b[39m\u001b[38;5;241m.\u001b[39m_forward_pre_hooks\n\u001b[1;32m   1525\u001b[0m         \u001b[38;5;129;01mor\u001b[39;00m _global_backward_pre_hooks \u001b[38;5;129;01mor\u001b[39;00m _global_backward_hooks\n\u001b[1;32m   1526\u001b[0m         \u001b[38;5;129;01mor\u001b[39;00m _global_forward_hooks \u001b[38;5;129;01mor\u001b[39;00m _global_forward_pre_hooks):\n\u001b[0;32m-> 1527\u001b[0m     \u001b[38;5;28;01mreturn\u001b[39;00m \u001b[43mforward_call\u001b[49m\u001b[43m(\u001b[49m\u001b[38;5;241;43m*\u001b[39;49m\u001b[43margs\u001b[49m\u001b[43m,\u001b[49m\u001b[43m \u001b[49m\u001b[38;5;241;43m*\u001b[39;49m\u001b[38;5;241;43m*\u001b[39;49m\u001b[43mkwargs\u001b[49m\u001b[43m)\u001b[49m\n\u001b[1;32m   1529\u001b[0m \u001b[38;5;28;01mtry\u001b[39;00m:\n\u001b[1;32m   1530\u001b[0m     result \u001b[38;5;241m=\u001b[39m \u001b[38;5;28;01mNone\u001b[39;00m\n",
      "File \u001b[0;32m~/.local/lib/python3.10/site-packages/torch/nn/modules/container.py:215\u001b[0m, in \u001b[0;36mSequential.forward\u001b[0;34m(self, input)\u001b[0m\n\u001b[1;32m    213\u001b[0m \u001b[38;5;28;01mdef\u001b[39;00m \u001b[38;5;21mforward\u001b[39m(\u001b[38;5;28mself\u001b[39m, \u001b[38;5;28minput\u001b[39m):\n\u001b[1;32m    214\u001b[0m     \u001b[38;5;28;01mfor\u001b[39;00m module \u001b[38;5;129;01min\u001b[39;00m \u001b[38;5;28mself\u001b[39m:\n\u001b[0;32m--> 215\u001b[0m         \u001b[38;5;28minput\u001b[39m \u001b[38;5;241m=\u001b[39m \u001b[43mmodule\u001b[49m\u001b[43m(\u001b[49m\u001b[38;5;28;43minput\u001b[39;49m\u001b[43m)\u001b[49m\n\u001b[1;32m    216\u001b[0m     \u001b[38;5;28;01mreturn\u001b[39;00m \u001b[38;5;28minput\u001b[39m\n",
      "File \u001b[0;32m~/.local/lib/python3.10/site-packages/torch/nn/modules/module.py:1518\u001b[0m, in \u001b[0;36mModule._wrapped_call_impl\u001b[0;34m(self, *args, **kwargs)\u001b[0m\n\u001b[1;32m   1516\u001b[0m     \u001b[38;5;28;01mreturn\u001b[39;00m \u001b[38;5;28mself\u001b[39m\u001b[38;5;241m.\u001b[39m_compiled_call_impl(\u001b[38;5;241m*\u001b[39margs, \u001b[38;5;241m*\u001b[39m\u001b[38;5;241m*\u001b[39mkwargs)  \u001b[38;5;66;03m# type: ignore[misc]\u001b[39;00m\n\u001b[1;32m   1517\u001b[0m \u001b[38;5;28;01melse\u001b[39;00m:\n\u001b[0;32m-> 1518\u001b[0m     \u001b[38;5;28;01mreturn\u001b[39;00m \u001b[38;5;28;43mself\u001b[39;49m\u001b[38;5;241;43m.\u001b[39;49m\u001b[43m_call_impl\u001b[49m\u001b[43m(\u001b[49m\u001b[38;5;241;43m*\u001b[39;49m\u001b[43margs\u001b[49m\u001b[43m,\u001b[49m\u001b[43m \u001b[49m\u001b[38;5;241;43m*\u001b[39;49m\u001b[38;5;241;43m*\u001b[39;49m\u001b[43mkwargs\u001b[49m\u001b[43m)\u001b[49m\n",
      "File \u001b[0;32m~/.local/lib/python3.10/site-packages/torch/nn/modules/module.py:1527\u001b[0m, in \u001b[0;36mModule._call_impl\u001b[0;34m(self, *args, **kwargs)\u001b[0m\n\u001b[1;32m   1522\u001b[0m \u001b[38;5;66;03m# If we don't have any hooks, we want to skip the rest of the logic in\u001b[39;00m\n\u001b[1;32m   1523\u001b[0m \u001b[38;5;66;03m# this function, and just call forward.\u001b[39;00m\n\u001b[1;32m   1524\u001b[0m \u001b[38;5;28;01mif\u001b[39;00m \u001b[38;5;129;01mnot\u001b[39;00m (\u001b[38;5;28mself\u001b[39m\u001b[38;5;241m.\u001b[39m_backward_hooks \u001b[38;5;129;01mor\u001b[39;00m \u001b[38;5;28mself\u001b[39m\u001b[38;5;241m.\u001b[39m_backward_pre_hooks \u001b[38;5;129;01mor\u001b[39;00m \u001b[38;5;28mself\u001b[39m\u001b[38;5;241m.\u001b[39m_forward_hooks \u001b[38;5;129;01mor\u001b[39;00m \u001b[38;5;28mself\u001b[39m\u001b[38;5;241m.\u001b[39m_forward_pre_hooks\n\u001b[1;32m   1525\u001b[0m         \u001b[38;5;129;01mor\u001b[39;00m _global_backward_pre_hooks \u001b[38;5;129;01mor\u001b[39;00m _global_backward_hooks\n\u001b[1;32m   1526\u001b[0m         \u001b[38;5;129;01mor\u001b[39;00m _global_forward_hooks \u001b[38;5;129;01mor\u001b[39;00m _global_forward_pre_hooks):\n\u001b[0;32m-> 1527\u001b[0m     \u001b[38;5;28;01mreturn\u001b[39;00m \u001b[43mforward_call\u001b[49m\u001b[43m(\u001b[49m\u001b[38;5;241;43m*\u001b[39;49m\u001b[43margs\u001b[49m\u001b[43m,\u001b[49m\u001b[43m \u001b[49m\u001b[38;5;241;43m*\u001b[39;49m\u001b[38;5;241;43m*\u001b[39;49m\u001b[43mkwargs\u001b[49m\u001b[43m)\u001b[49m\n\u001b[1;32m   1529\u001b[0m \u001b[38;5;28;01mtry\u001b[39;00m:\n\u001b[1;32m   1530\u001b[0m     result \u001b[38;5;241m=\u001b[39m \u001b[38;5;28;01mNone\u001b[39;00m\n",
      "File \u001b[0;32m~/.local/lib/python3.10/site-packages/torch/nn/modules/rnn.py:879\u001b[0m, in \u001b[0;36mLSTM.forward\u001b[0;34m(self, input, hx)\u001b[0m\n\u001b[1;32m    876\u001b[0m         hx \u001b[38;5;241m=\u001b[39m \u001b[38;5;28mself\u001b[39m\u001b[38;5;241m.\u001b[39mpermute_hidden(hx, sorted_indices)\n\u001b[1;32m    878\u001b[0m \u001b[38;5;28;01mif\u001b[39;00m batch_sizes \u001b[38;5;129;01mis\u001b[39;00m \u001b[38;5;28;01mNone\u001b[39;00m:\n\u001b[0;32m--> 879\u001b[0m     result \u001b[38;5;241m=\u001b[39m \u001b[43m_VF\u001b[49m\u001b[38;5;241;43m.\u001b[39;49m\u001b[43mlstm\u001b[49m\u001b[43m(\u001b[49m\u001b[38;5;28;43minput\u001b[39;49m\u001b[43m,\u001b[49m\u001b[43m \u001b[49m\u001b[43mhx\u001b[49m\u001b[43m,\u001b[49m\u001b[43m \u001b[49m\u001b[38;5;28;43mself\u001b[39;49m\u001b[38;5;241;43m.\u001b[39;49m\u001b[43m_flat_weights\u001b[49m\u001b[43m,\u001b[49m\u001b[43m \u001b[49m\u001b[38;5;28;43mself\u001b[39;49m\u001b[38;5;241;43m.\u001b[39;49m\u001b[43mbias\u001b[49m\u001b[43m,\u001b[49m\u001b[43m \u001b[49m\u001b[38;5;28;43mself\u001b[39;49m\u001b[38;5;241;43m.\u001b[39;49m\u001b[43mnum_layers\u001b[49m\u001b[43m,\u001b[49m\n\u001b[1;32m    880\u001b[0m \u001b[43m                      \u001b[49m\u001b[38;5;28;43mself\u001b[39;49m\u001b[38;5;241;43m.\u001b[39;49m\u001b[43mdropout\u001b[49m\u001b[43m,\u001b[49m\u001b[43m \u001b[49m\u001b[38;5;28;43mself\u001b[39;49m\u001b[38;5;241;43m.\u001b[39;49m\u001b[43mtraining\u001b[49m\u001b[43m,\u001b[49m\u001b[43m \u001b[49m\u001b[38;5;28;43mself\u001b[39;49m\u001b[38;5;241;43m.\u001b[39;49m\u001b[43mbidirectional\u001b[49m\u001b[43m,\u001b[49m\u001b[43m \u001b[49m\u001b[38;5;28;43mself\u001b[39;49m\u001b[38;5;241;43m.\u001b[39;49m\u001b[43mbatch_first\u001b[49m\u001b[43m)\u001b[49m\n\u001b[1;32m    881\u001b[0m \u001b[38;5;28;01melse\u001b[39;00m:\n\u001b[1;32m    882\u001b[0m     result \u001b[38;5;241m=\u001b[39m _VF\u001b[38;5;241m.\u001b[39mlstm(\u001b[38;5;28minput\u001b[39m, batch_sizes, hx, \u001b[38;5;28mself\u001b[39m\u001b[38;5;241m.\u001b[39m_flat_weights, \u001b[38;5;28mself\u001b[39m\u001b[38;5;241m.\u001b[39mbias,\n\u001b[1;32m    883\u001b[0m                       \u001b[38;5;28mself\u001b[39m\u001b[38;5;241m.\u001b[39mnum_layers, \u001b[38;5;28mself\u001b[39m\u001b[38;5;241m.\u001b[39mdropout, \u001b[38;5;28mself\u001b[39m\u001b[38;5;241m.\u001b[39mtraining, \u001b[38;5;28mself\u001b[39m\u001b[38;5;241m.\u001b[39mbidirectional)\n",
      "\u001b[0;31mOutOfMemoryError\u001b[0m: CUDA out of memory. Tried to allocate 142.00 MiB. GPU 0 has a total capacty of 7.92 GiB of which 156.56 MiB is free. Including non-PyTorch memory, this process has 7.42 GiB memory in use. Of the allocated memory 56.46 MiB is allocated by PyTorch, and 51.54 MiB is reserved by PyTorch but unallocated. If reserved but unallocated memory is large try setting max_split_size_mb to avoid fragmentation.  See documentation for Memory Management and PYTORCH_CUDA_ALLOC_CONF"
     ]
    }
   ],
   "source": [
    "batches=[2,4,6,8,10,12,16,20,24,32]\n",
    "epochs=[100,500,1000]\n",
    "\n",
    "\n",
    "gan_list = []\n",
    "for b in batches:\n",
    "    epoch_list = []\n",
    "    for e in epochs:\n",
    "        model = DGAN.load(f'../../data/models/model_data/DGAN_{model_name}_b{b}_e{e}.zip')\n",
    "        attributes, samples = model.generate_numpy(1000)\n",
    "        epoch_list.append(samples)\n",
    "    gan_list.append(epoch_list)"
   ]
  },
  {
   "cell_type": "code",
   "execution_count": 36,
   "id": "5e1e07ba",
   "metadata": {},
   "outputs": [
    {
     "name": "stdout",
     "output_type": "stream",
     "text": [
      "10 3 (1000, 730, 2)\n"
     ]
    }
   ],
   "source": [
    "print(len(gan_list), len(gan_list[0]), gan_list[0][0].shape)"
   ]
  },
  {
   "cell_type": "code",
   "execution_count": null,
   "id": "5d3bbda0",
   "metadata": {},
   "outputs": [],
   "source": []
  },
  {
   "cell_type": "code",
   "execution_count": 12,
   "id": "468c0c7d",
   "metadata": {},
   "outputs": [],
   "source": [
    "from skforecast.ForecasterAutoreg import ForecasterAutoreg\n",
    "from skforecast.model_selection import grid_search_forecaster \n",
    "from sklearn.linear_model import Ridge\n",
    "\n",
    "model_params = {'lag':24, 'max_depth':5, 'n_est':50} if MODEL==0 else {'lag':2, 'max_depth':3, 'n_est':10}\n",
    "\n",
    "def find_best_model_regression(synthetic_data):\n",
    "    \n",
    "    forecaster = ForecasterAutoreg(\n",
    "                     regressor = RandomForestRegressor(max_depth=model_params['max_depth'], n_estimators =model_params['n_est']),\n",
    "                     lags      = model_params['lag']\n",
    "                 )\n",
    "\n",
    "    forecaster.fit(y=synthetic_data['G.E_th_I'], exog=synthetic_data['G.air.T'])\n",
    "\n",
    "    y_test = pd.Series(base_data_test_scaled[:,:,1].reshape(-1))\n",
    "    exog_var = pd.Series(base_data_test_scaled[:,:,0].reshape(-1))\n",
    "    exog_var.index = exog_var.index + synthetic_data['G.air.T'].index.max() + 1\n",
    "    \n",
    "    predictions = forecaster.predict(exog=exog_var, steps=len(y_test))\n",
    "    mse = mean_squared_error(y_test, predictions)\n",
    "    mae = mean_absolute_error(y_test, predictions)\n",
    "    r2  = r2_score(y_test, predictions)\n",
    "\n",
    "    return {'mse':mse, 'mae':mae, 'r2':r2}"
   ]
  },
  {
   "cell_type": "code",
   "execution_count": 5,
   "id": "ebe5dd34",
   "metadata": {},
   "outputs": [],
   "source": [
    "def find_best_model_ridge_regression(synthetic_data):\n",
    "    \n",
    "    forecaster = ForecasterAutoreg(\n",
    "                     regressor = Ridge(),\n",
    "                     lags      = 2 if MODEL==0 else 12 \n",
    "                 )\n",
    "\n",
    "    forecaster.fit(y=synthetic_data['G.E_th_I'], exog=synthetic_data['G.air.T'])\n",
    "\n",
    "    y_test = pd.Series(base_data_test_scaled[:,:,1].reshape(-1))\n",
    "    exog_var = pd.Series(base_data_test_scaled[:,:,0].reshape(-1))\n",
    "    exog_var.index = exog_var.index + synthetic_data['G.air.T'].index.max() + 1\n",
    "    \n",
    "    predictions = forecaster.predict(exog=exog_var, steps=len(y_test))\n",
    "    mse = mean_squared_error(y_test, predictions)\n",
    "    mae = mean_absolute_error(y_test, predictions)\n",
    "    r2  = r2_score(y_test, predictions)\n",
    "\n",
    "    return {'mse':mse, 'mae':mae, 'r2':r2}"
   ]
  },
  {
   "cell_type": "code",
   "execution_count": null,
   "id": "2d56322a",
   "metadata": {},
   "outputs": [],
   "source": []
  },
  {
   "cell_type": "markdown",
   "id": "4ea6a817",
   "metadata": {},
   "source": [
    "<h2>VAE data</h2>"
   ]
  },
  {
   "cell_type": "markdown",
   "id": "915f0563",
   "metadata": {},
   "source": [
    "Gather results for RF regression"
   ]
  },
  {
   "cell_type": "code",
   "execution_count": 75,
   "id": "3e6dd0c2",
   "metadata": {
    "scrolled": true
   },
   "outputs": [
    {
     "name": "stdout",
     "output_type": "stream",
     "text": [
      "{'mse': 0.8029748180153373, 'mae': 0.8089149700537648, 'r2': -0.9489413294624292} 0 0\n",
      "{'mse': 1.2395994901113387, 'mae': 0.9979147635773803, 'r2': -2.008695446053697} 0 1\n",
      "{'mse': 1.5415108312346475, 'mae': 1.1383057942164303, 'r2': -2.741479933620787} 0 2\n",
      "{'mse': 0.43492744148959744, 'mae': 0.49357281482899423, 'r2': -0.05563468121143278} 0 3\n",
      "{'mse': 0.9372238106448142, 'mae': 0.8940626052316817, 'r2': -1.2747839390986466} 0 4\n",
      "{'mse': 0.3818239268564768, 'mae': 0.49796396683829147, 'r2': 0.0732555804582985} 0 5\n",
      "{'mse': 0.6336647982950371, 'mae': 0.7438056335728762, 'r2': -0.5380003042624466} 0 6\n",
      "{'mse': 0.4720159037985335, 'mae': 0.43337996135987444, 'r2': -0.14565398868953405} 0 7\n",
      "{'mse': 0.7837121391594251, 'mae': 0.8193672824720428, 'r2': -0.9021878944901605} 1 0\n",
      "{'mse': 1.634160748509586, 'mae': 1.1854178758724971, 'r2': -2.966355295708361} 1 1\n",
      "{'mse': 0.6474381505815288, 'mae': 0.7324929791268362, 'r2': -0.5714303134160796} 1 2\n",
      "{'mse': 1.270956227252239, 'mae': 1.0401291864553006, 'r2': -2.0848029896526836} 1 3\n",
      "{'mse': 1.6946459345584897, 'mae': 1.205788755235279, 'r2': -3.1131619903470478} 1 4\n",
      "{'mse': 0.6778723580458795, 'mae': 0.7544914822915058, 'r2': -0.6452987379618345} 1 5\n",
      "{'mse': 0.933418141243544, 'mae': 0.9052781255194005, 'r2': -1.2655470038722867} 1 6\n",
      "{'mse': 2.9355596139014444, 'mae': 1.5310458982719735, 'r2': -6.125047172430776} 1 7\n",
      "{'mse': 1.4526382538097626, 'mae': 1.0545765887999183, 'r2': -2.5257727466540607} 2 0\n",
      "{'mse': 0.8627000089446922, 'mae': 0.8627260347477961, 'r2': -1.0939034010003077} 2 1\n",
      "{'mse': 0.5932912906802806, 'mae': 0.7174917872994059, 'r2': -0.44000769497957126} 2 2\n",
      "{'mse': 0.3953351077996245, 'mae': 0.53460815914638, 'r2': 0.04046190080713574} 2 3\n",
      "{'mse': 0.6295104502635224, 'mae': 0.4876329666719274, 'r2': -0.5279170732644911} 2 4\n",
      "{'mse': 0.5230598094475801, 'mae': 0.5460320079037801, 'r2': -0.26954526784881105} 2 5\n",
      "{'mse': 0.40732825610156553, 'mae': 0.43312030848483685, 'r2': 0.011352715971430727} 2 6\n",
      "{'mse': 0.9405836512425161, 'mae': 0.8845435163798187, 'r2': -1.2829387803892511} 2 7\n",
      "{'mse': 0.9595330299244829, 'mae': 0.8569165548581777, 'r2': -1.3289317884541862} 3 0\n",
      "{'mse': 0.7790432410917832, 'mae': 0.8068395094331211, 'r2': -0.8908557727312678} 3 1\n",
      "{'mse': 0.5677042948674822, 'mae': 0.6687284627434892, 'r2': -0.37790418622994504} 3 2\n",
      "{'mse': 0.5567810859195886, 'mae': 0.5791438949954762, 'r2': -0.35139190602977455} 3 3\n",
      "{'mse': 0.6842985198504419, 'mae': 0.7401702003330413, 'r2': -0.6608960045880528} 3 4\n",
      "{'mse': 0.6381086958710696, 'mae': 0.4931583484818348, 'r2': -0.5487863157979442} 3 5\n",
      "{'mse': 0.4536894562966528, 'mae': 0.5079185051981893, 'r2': -0.10117292881405926} 3 6\n",
      "{'mse': 1.2650642197741842, 'mae': 0.9833902236253662, 'r2': -2.070502196365211} 3 7\n",
      "{'mse': 1.13368140462529, 'mae': 0.9287709559176756, 'r2': -1.7516162329701408} 4 0\n",
      "{'mse': 0.5292429170531868, 'mae': 0.6408755060896034, 'r2': -0.28455260517336733} 4 1\n",
      "{'mse': 0.6567024378288921, 'mae': 0.7199666400456903, 'r2': -0.5939161397450112} 4 2\n",
      "{'mse': 0.735426771347454, 'mae': 0.6291654132621972, 'r2': -0.7849920038772522} 4 3\n",
      "{'mse': 0.5141057753798592, 'mae': 0.6562333925047472, 'r2': -0.24781247291119635} 4 4\n",
      "{'mse': 0.5964417278802443, 'mae': 0.7023952024977036, 'r2': -0.44765428255259243} 4 5\n",
      "{'mse': 0.40308346297006037, 'mae': 0.5253113183779299, 'r2': 0.021655470906456142} 4 6\n",
      "{'mse': 1.1712517927575414, 'mae': 1.0138512595966431, 'r2': -1.842805247310427} 4 7\n",
      "{'mse': 0.9125309791008664, 'mae': 0.8285036929468923, 'r2': -1.2148507022676331} 5 0\n",
      "{'mse': 0.921205136584899, 'mae': 0.8414666728392592, 'r2': -1.2359041944066278} 5 1\n",
      "{'mse': 1.6976819345927958, 'mae': 1.1808298924032214, 'r2': -3.120530821610939} 5 2\n",
      "{'mse': 1.0195634704960348, 'mae': 0.900065285338877, 'r2': -1.47463474704124} 5 3\n",
      "{'mse': 1.2982678043124276, 'mae': 1.059775356888879, 'r2': -2.151092317924473} 5 4\n",
      "{'mse': 1.239209432892833, 'mae': 1.0244697020497906, 'r2': -2.007748718190076} 5 5\n",
      "{'mse': 0.40246676834362527, 'mae': 0.5432340744426462, 'r2': 0.023152282036956406} 5 6\n",
      "{'mse': 0.6453033037155008, 'mae': 0.5977684235189393, 'r2': -0.5662487171867496} 5 7\n"
     ]
    }
   ],
   "source": [
    "vae_results = {}\n",
    "for i,b in enumerate(vae_list):\n",
    "    for j,e in enumerate(b):\n",
    "        result = find_best_model_regression(pd.DataFrame(e[0:216].reshape(-1,2), columns=['G.air.T', 'G.E_th_I']))\n",
    "        vae_results[f'b{i} l{j}'] = result\n",
    "        print(result, f'{i} {j}')"
   ]
  },
  {
   "cell_type": "code",
   "execution_count": 6,
   "id": "3feaaebb",
   "metadata": {
    "scrolled": true
   },
   "outputs": [
    {
     "ename": "NameError",
     "evalue": "name 'vae_results' is not defined",
     "output_type": "error",
     "traceback": [
      "\u001b[0;31m---------------------------------------------------------------------------\u001b[0m",
      "\u001b[0;31mNameError\u001b[0m                                 Traceback (most recent call last)",
      "Cell \u001b[0;32mIn[6], line 1\u001b[0m\n\u001b[0;32m----> 1\u001b[0m sorted_models_mae \u001b[38;5;241m=\u001b[39m \u001b[38;5;28msorted\u001b[39m(\u001b[43mvae_results\u001b[49m\u001b[38;5;241m.\u001b[39mitems(), key\u001b[38;5;241m=\u001b[39m\u001b[38;5;28;01mlambda\u001b[39;00m x: x[\u001b[38;5;241m1\u001b[39m][\u001b[38;5;124m'\u001b[39m\u001b[38;5;124mmae\u001b[39m\u001b[38;5;124m'\u001b[39m])\n\u001b[1;32m      2\u001b[0m sorted_models_mse \u001b[38;5;241m=\u001b[39m \u001b[38;5;28msorted\u001b[39m(vae_results\u001b[38;5;241m.\u001b[39mitems(), key\u001b[38;5;241m=\u001b[39m\u001b[38;5;28;01mlambda\u001b[39;00m x: x[\u001b[38;5;241m1\u001b[39m][\u001b[38;5;124m'\u001b[39m\u001b[38;5;124mmse\u001b[39m\u001b[38;5;124m'\u001b[39m])\n\u001b[1;32m      3\u001b[0m sorted_models_r2 \u001b[38;5;241m=\u001b[39m \u001b[38;5;28msorted\u001b[39m(vae_results\u001b[38;5;241m.\u001b[39mitems(), key\u001b[38;5;241m=\u001b[39m\u001b[38;5;28;01mlambda\u001b[39;00m x: x[\u001b[38;5;241m1\u001b[39m][\u001b[38;5;124m'\u001b[39m\u001b[38;5;124mr2\u001b[39m\u001b[38;5;124m'\u001b[39m], reverse\u001b[38;5;241m=\u001b[39m\u001b[38;5;28;01mTrue\u001b[39;00m)\n",
      "\u001b[0;31mNameError\u001b[0m: name 'vae_results' is not defined"
     ]
    }
   ],
   "source": [
    "sorted_models_mae = sorted(vae_results.items(), key=lambda x: x[1]['mae'])\n",
    "sorted_models_mse = sorted(vae_results.items(), key=lambda x: x[1]['mse'])\n",
    "sorted_models_r2 = sorted(vae_results.items(), key=lambda x: x[1]['r2'], reverse=True)\n",
    "\n",
    "print(sorted_models_mae[0:3], '\\n', sorted_models_mse[0:3], '\\n', sorted_models_r2[0:3])"
   ]
  },
  {
   "cell_type": "code",
   "execution_count": 76,
   "id": "d49ec036",
   "metadata": {
    "scrolled": true
   },
   "outputs": [
    {
     "name": "stdout",
     "output_type": "stream",
     "text": [
      "            mse       mae        r2\n",
      "b0 l0  0.802975  0.808915 -0.948941\n",
      "b0 l1  1.239599  0.997915 -2.008695\n",
      "b0 l2  1.541511  1.138306 -2.741480\n",
      "b0 l3  0.434927  0.493573 -0.055635\n",
      "b0 l4  0.937224  0.894063 -1.274784\n",
      "b0 l5  0.381824  0.497964  0.073256\n",
      "b0 l6  0.633665  0.743806 -0.538000\n",
      "b0 l7  0.472016  0.433380 -0.145654\n",
      "b1 l0  0.783712  0.819367 -0.902188\n",
      "b1 l1  1.634161  1.185418 -2.966355\n",
      "b1 l2  0.647438  0.732493 -0.571430\n",
      "b1 l3  1.270956  1.040129 -2.084803\n",
      "b1 l4  1.694646  1.205789 -3.113162\n",
      "b1 l5  0.677872  0.754491 -0.645299\n",
      "b1 l6  0.933418  0.905278 -1.265547\n",
      "b1 l7  2.935560  1.531046 -6.125047\n",
      "b2 l0  1.452638  1.054577 -2.525773\n",
      "b2 l1  0.862700  0.862726 -1.093903\n",
      "b2 l2  0.593291  0.717492 -0.440008\n",
      "b2 l3  0.395335  0.534608  0.040462\n",
      "b2 l4  0.629510  0.487633 -0.527917\n",
      "b2 l5  0.523060  0.546032 -0.269545\n",
      "b2 l6  0.407328  0.433120  0.011353\n",
      "b2 l7  0.940584  0.884544 -1.282939\n",
      "b3 l0  0.959533  0.856917 -1.328932\n",
      "b3 l1  0.779043  0.806840 -0.890856\n",
      "b3 l2  0.567704  0.668728 -0.377904\n",
      "b3 l3  0.556781  0.579144 -0.351392\n",
      "b3 l4  0.684299  0.740170 -0.660896\n",
      "b3 l5  0.638109  0.493158 -0.548786\n",
      "b3 l6  0.453689  0.507919 -0.101173\n",
      "b3 l7  1.265064  0.983390 -2.070502\n",
      "b4 l0  1.133681  0.928771 -1.751616\n",
      "b4 l1  0.529243  0.640876 -0.284553\n",
      "b4 l2  0.656702  0.719967 -0.593916\n",
      "b4 l3  0.735427  0.629165 -0.784992\n",
      "b4 l4  0.514106  0.656233 -0.247812\n",
      "b4 l5  0.596442  0.702395 -0.447654\n",
      "b4 l6  0.403083  0.525311  0.021655\n",
      "b4 l7  1.171252  1.013851 -1.842805\n",
      "b5 l0  0.912531  0.828504 -1.214851\n",
      "b5 l1  0.921205  0.841467 -1.235904\n",
      "b5 l2  1.697682  1.180830 -3.120531\n",
      "b5 l3  1.019563  0.900065 -1.474635\n",
      "b5 l4  1.298268  1.059775 -2.151092\n",
      "b5 l5  1.239209  1.024470 -2.007749\n",
      "b5 l6  0.402467  0.543234  0.023152\n",
      "b5 l7  0.645303  0.597768 -0.566249\n"
     ]
    }
   ],
   "source": [
    "results_df = pd.DataFrame.from_dict(vae_results, orient='index')\n",
    "#results_df.to_csv(f'../../data/models/model_history/VAE_{model_name}_model_results.csv')\n",
    "print(results_df)"
   ]
  },
  {
   "cell_type": "markdown",
   "id": "08016f52",
   "metadata": {},
   "source": [
    "Gather results for Ridge Regression"
   ]
  },
  {
   "cell_type": "code",
   "execution_count": 25,
   "id": "60764330",
   "metadata": {
    "scrolled": true
   },
   "outputs": [
    {
     "name": "stdout",
     "output_type": "stream",
     "text": [
      "{'mse': 0.5407413647237419, 'mae': 0.6590199677038575, 'r2': 0.2082591552897618} 0 0\n",
      "{'mse': 2.3112815879729265, 'mae': 1.3567335107281469, 'r2': -2.3841243821984976} 0 1\n",
      "{'mse': 0.7892710936925861, 'mae': 0.766803012228737, 'r2': -0.1556322545156028} 0 2\n",
      "{'mse': 1.1223403908209968, 'mae': 0.9340238389214284, 'r2': -0.6433045205169592} 0 3\n",
      "{'mse': 0.6560717059046214, 'mae': 0.7358643979620892, 'r2': 0.039395170205285046} 0 4\n",
      "{'mse': 0.6893710687011471, 'mae': 0.6504506606964443, 'r2': -0.009360977093161749} 0 5\n",
      "{'mse': 0.8731572393290519, 'mae': 0.899564937593076, 'r2': -0.27845638475323065} 0 6\n",
      "{'mse': 0.9627858155836333, 'mae': 0.7813386611748793, 'r2': -0.4096884474422615} 0 7\n",
      "{'mse': 0.640402513151653, 'mae': 0.7605145351820523, 'r2': 0.06233763533831749} 1 0\n",
      "{'mse': 1.4353080883277387, 'mae': 0.9956410969078928, 'r2': -1.101544495033425} 1 1\n",
      "{'mse': 0.5562339045094374, 'mae': 0.6725723826874458, 'r2': 0.1855753412950618} 1 2\n",
      "{'mse': 1.3590704139816925, 'mae': 1.082605283656311, 'r2': -0.9899190773694362} 1 3\n",
      "{'mse': 1.1204694338776882, 'mae': 0.955328925801227, 'r2': -0.6405651091692284} 1 4\n",
      "{'mse': 1.1892467867571415, 'mae': 1.029053804764092, 'r2': -0.7412672988260756} 1 5\n",
      "{'mse': 0.8618185713568118, 'mae': 0.8875021662283167, 'r2': -0.2618545726044288} 1 6\n",
      "{'mse': 3.048192996294994, 'mae': 1.5006439977482608, 'r2': -3.463092811402353} 1 7\n",
      "{'mse': 0.7345414654233926, 'mae': 0.6718482070335688, 'r2': -0.07549841430408843} 2 0\n",
      "{'mse': 0.868697563663461, 'mae': 0.897997894940413, 'r2': -0.2719266320674665} 2 1\n",
      "{'mse': 0.8398785047302987, 'mae': 0.8791584545476431, 'r2': -0.22973044077895066} 2 2\n",
      "{'mse': 0.7343731115735449, 'mae': 0.803327723554148, 'r2': -0.07525191453916524} 2 3\n",
      "{'mse': 1.0832588935136913, 'mae': 0.7443107667248093, 'r2': -0.5860823072571415} 2 4\n",
      "{'mse': 1.1837126229461987, 'mae': 0.8986574334496038, 'r2': -0.7331643057571449} 2 5\n",
      "{'mse': 0.8949161861618874, 'mae': 0.6971164309956747, 'r2': -0.31031532521774574} 2 6\n",
      "{'mse': 0.6185115338366229, 'mae': 0.7021042191358573, 'r2': 0.09438989467170678} 2 7\n",
      "{'mse': 0.5176242681086152, 'mae': 0.5756068959339832, 'r2': 0.24210666686428173} 3 0\n",
      "{'mse': 1.2669803182845416, 'mae': 1.0578848512250316, 'r2': -0.8550829155493425} 3 1\n",
      "{'mse': 0.5660070757697665, 'mae': 0.613632608735201, 'r2': 0.17126569277556314} 3 2\n",
      "{'mse': 0.8801334119834949, 'mae': 0.7277688919847408, 'r2': -0.2886707334060197} 3 3\n",
      "{'mse': 0.5664393582970243, 'mae': 0.6703492353552337, 'r2': 0.17063275482109497} 3 4\n",
      "{'mse': 1.2330564508685569, 'mae': 0.761219151767384, 'r2': -0.8054123832099276} 3 5\n",
      "{'mse': 1.345626570735389, 'mae': 1.0227048545801216, 'r2': -0.9702349168772606} 3 6\n",
      "{'mse': 0.6304920555843481, 'mae': 0.6141352145062353, 'r2': 0.07684829525391623} 3 7\n",
      "{'mse': 0.5320989888418206, 'mae': 0.5732252529034676, 'r2': 0.22091311969389338} 4 0\n",
      "{'mse': 0.6187951205970053, 'mae': 0.6876245835111486, 'r2': 0.09397467357737} 4 1\n",
      "{'mse': 1.0733428009024313, 'mae': 0.8338240181393207, 'r2': -0.5715633966421287} 4 2\n",
      "{'mse': 2.365001309051568, 'mae': 1.3382526628695215, 'r2': -2.4627795399486936} 4 3\n",
      "{'mse': 0.6943813953185728, 'mae': 0.7880185337329397, 'r2': -0.016696980009049955} 4 4\n",
      "{'mse': 0.5928835796169662, 'mae': 0.6987594515235415, 'r2': 0.13191374515877385} 4 5\n",
      "{'mse': 0.9003824157637124, 'mae': 0.8468673954866505, 'r2': -0.31831885060837317} 4 6\n",
      "{'mse': 0.7835023006596592, 'mae': 0.8389345643014433, 'r2': -0.14718572283371167} 4 7\n",
      "{'mse': 0.5313294703206041, 'mae': 0.568121155774107, 'r2': 0.2220398306942981} 5 0\n",
      "{'mse': 0.5140967369045848, 'mae': 0.571914915585429, 'r2': 0.24727159545569366} 5 1\n",
      "{'mse': 0.7874151393785815, 'mae': 0.7549193450367678, 'r2': -0.15291480966641102} 5 2\n",
      "{'mse': 0.5746246908882484, 'mae': 0.6014214024187461, 'r2': 0.1586479825014836} 5 3\n",
      "{'mse': 0.7308158806120914, 'mae': 0.7666920418191292, 'r2': -0.07004350025835748} 5 4\n",
      "{'mse': 0.7644416170854526, 'mae': 0.7573253364991954, 'r2': -0.11927751625235139} 5 5\n",
      "{'mse': 0.7960931670509512, 'mae': 0.7930294403762902, 'r2': -0.16562097458732628} 5 6\n",
      "{'mse': 1.4209861084138002, 'mae': 1.0307823337195452, 'r2': -1.080574587394164} 5 7\n"
     ]
    }
   ],
   "source": [
    "vae_ridge_results = {}\n",
    "for i,b in enumerate(vae_list):\n",
    "    for j,e in enumerate(b):\n",
    "        result = find_best_model_ridge_regression(pd.DataFrame(e[0:216].reshape(-1,2), columns=['G.air.T', 'G.E_th_I']))\n",
    "        vae_ridge_results[f'b{i} l{j}'] = result\n",
    "        print(result, f'{i} {j}')"
   ]
  },
  {
   "cell_type": "code",
   "execution_count": 26,
   "id": "2d54da43",
   "metadata": {},
   "outputs": [
    {
     "name": "stdout",
     "output_type": "stream",
     "text": [
      "            mse       mae        r2\n",
      "b0 l0  0.540741  0.659020  0.208259\n",
      "b0 l1  2.311282  1.356734 -2.384124\n",
      "b0 l2  0.789271  0.766803 -0.155632\n",
      "b0 l3  1.122340  0.934024 -0.643305\n",
      "b0 l4  0.656072  0.735864  0.039395\n",
      "b0 l5  0.689371  0.650451 -0.009361\n",
      "b0 l6  0.873157  0.899565 -0.278456\n",
      "b0 l7  0.962786  0.781339 -0.409688\n",
      "b1 l0  0.640403  0.760515  0.062338\n",
      "b1 l1  1.435308  0.995641 -1.101544\n",
      "b1 l2  0.556234  0.672572  0.185575\n",
      "b1 l3  1.359070  1.082605 -0.989919\n",
      "b1 l4  1.120469  0.955329 -0.640565\n",
      "b1 l5  1.189247  1.029054 -0.741267\n",
      "b1 l6  0.861819  0.887502 -0.261855\n",
      "b1 l7  3.048193  1.500644 -3.463093\n",
      "b2 l0  0.734541  0.671848 -0.075498\n",
      "b2 l1  0.868698  0.897998 -0.271927\n",
      "b2 l2  0.839879  0.879158 -0.229730\n",
      "b2 l3  0.734373  0.803328 -0.075252\n",
      "b2 l4  1.083259  0.744311 -0.586082\n",
      "b2 l5  1.183713  0.898657 -0.733164\n",
      "b2 l6  0.894916  0.697116 -0.310315\n",
      "b2 l7  0.618512  0.702104  0.094390\n",
      "b3 l0  0.517624  0.575607  0.242107\n",
      "b3 l1  1.266980  1.057885 -0.855083\n",
      "b3 l2  0.566007  0.613633  0.171266\n",
      "b3 l3  0.880133  0.727769 -0.288671\n",
      "b3 l4  0.566439  0.670349  0.170633\n",
      "b3 l5  1.233056  0.761219 -0.805412\n",
      "b3 l6  1.345627  1.022705 -0.970235\n",
      "b3 l7  0.630492  0.614135  0.076848\n",
      "b4 l0  0.532099  0.573225  0.220913\n",
      "b4 l1  0.618795  0.687625  0.093975\n",
      "b4 l2  1.073343  0.833824 -0.571563\n",
      "b4 l3  2.365001  1.338253 -2.462780\n",
      "b4 l4  0.694381  0.788019 -0.016697\n",
      "b4 l5  0.592884  0.698759  0.131914\n",
      "b4 l6  0.900382  0.846867 -0.318319\n",
      "b4 l7  0.783502  0.838935 -0.147186\n",
      "b5 l0  0.531329  0.568121  0.222040\n",
      "b5 l1  0.514097  0.571915  0.247272\n",
      "b5 l2  0.787415  0.754919 -0.152915\n",
      "b5 l3  0.574625  0.601421  0.158648\n",
      "b5 l4  0.730816  0.766692 -0.070044\n",
      "b5 l5  0.764442  0.757325 -0.119278\n",
      "b5 l6  0.796093  0.793029 -0.165621\n",
      "b5 l7  1.420986  1.030782 -1.080575\n"
     ]
    }
   ],
   "source": [
    "results_df = pd.DataFrame.from_dict(vae_ridge_results, orient='index')\n",
    "results_df.to_csv(f'../../data/models/model_history/VAE_ridge_{model_name}_model_results.csv')\n",
    "print(results_df)"
   ]
  },
  {
   "cell_type": "markdown",
   "id": "bbb52c92",
   "metadata": {},
   "source": [
    "<h2> GAN data </h2>"
   ]
  },
  {
   "cell_type": "markdown",
   "id": "d51824a3",
   "metadata": {},
   "source": [
    "Gather results for RF Regression"
   ]
  },
  {
   "cell_type": "code",
   "execution_count": 77,
   "id": "15c7e06a",
   "metadata": {},
   "outputs": [
    {
     "name": "stdout",
     "output_type": "stream",
     "text": [
      "{'mse': 1.1318198142763778, 'mae': 0.9437059766275813, 'r2': -1.7470978716366052} 0 0\n",
      "{'mse': 0.6857347900629832, 'mae': 0.6353890132143729, 'r2': -0.6643820496229598} 0 1\n",
      "{'mse': 2.135001345769634, 'mae': 1.2822319213842108, 'r2': -4.181971175027394} 0 2\n",
      "{'mse': 1.1953543942876674, 'mae': 0.9622225242992981, 'r2': -1.9013059066284002} 1 0\n",
      "{'mse': 1.4572759213966302, 'mae': 1.059243806013446, 'r2': -2.5370290673126514} 1 1\n",
      "{'mse': 0.8992265473138538, 'mae': 0.821995399716797, 'r2': -1.182558834088241} 1 2\n",
      "{'mse': 0.48121222192262386, 'mae': 0.6198428634935955, 'r2': -0.1679748436762738} 2 0\n",
      "{'mse': 1.1985155053202392, 'mae': 0.9625005054531665, 'r2': -1.9089784012075284} 2 1\n",
      "{'mse': 1.041904074324046, 'mae': 0.889671339312508, 'r2': -1.5288587714423714} 2 2\n",
      "{'mse': 0.41815702255284454, 'mae': 0.5334626027377778, 'r2': -0.01493033800547594} 3 0\n",
      "{'mse': 0.9087023823888308, 'mae': 0.8305913709267757, 'r2': -1.2055581189903979} 3 1\n",
      "{'mse': 1.5829689512784477, 'mae': 1.100511864177276, 'r2': -2.8421050613114467} 3 2\n",
      "{'mse': 1.0078813036533567, 'mae': 0.8764411733085506, 'r2': -1.4462803612416395} 4 0\n",
      "{'mse': 1.5938010645390004, 'mae': 1.1097667807278828, 'r2': -2.868396238500649} 4 1\n",
      "{'mse': 1.3626912036008436, 'mae': 1.0268220843251301, 'r2': -2.307457651731562} 4 2\n",
      "{'mse': 0.5107113340526369, 'mae': 0.6359036779573279, 'r2': -0.2395736504168493} 5 0\n",
      "{'mse': 3.8420081324250255, 'mae': 1.708054093686481, 'r2': -8.325134822933975} 5 1\n",
      "{'mse': 0.5204896057828373, 'mae': 0.4919183912862831, 'r2': -0.2633069948233455} 5 2\n",
      "{'mse': 0.5661912650871529, 'mae': 0.45849705657724166, 'r2': -0.3742318341144957} 6 0\n",
      "{'mse': 0.9140983828402349, 'mae': 0.8320967449738867, 'r2': -1.2186550282054744} 6 1\n",
      "{'mse': 2.623453439434871, 'mae': 1.484935692028766, 'r2': -5.367518282419312} 6 2\n",
      "{'mse': 0.9810274315060834, 'mae': 0.7824652262358168, 'r2': -1.381101952019196} 7 0\n",
      "{'mse': 1.715566630648718, 'mae': 1.1612892438335785, 'r2': -3.1639396839142586} 7 1\n",
      "{'mse': 1.8889389561793453, 'mae': 1.211300222446017, 'r2': -3.584740539720423} 7 2\n",
      "{'mse': 0.39978017543231203, 'mae': 0.4586145717156251, 'r2': 0.029673049367170745} 8 0\n",
      "{'mse': 2.0284563549495784, 'mae': 1.2526330958302865, 'r2': -3.9233703678817395} 8 1\n",
      "{'mse': 1.120041555858832, 'mae': 0.9208640955465662, 'r2': -1.7185102570514048} 8 2\n",
      "{'mse': 13.270359188997102, 'mae': 3.3129940325291107, 'r2': -31.209168830689244} 9 0\n",
      "{'mse': 1.6531926184388601, 'mae': 1.128170088068243, 'r2': -3.012548522506922} 9 1\n",
      "{'mse': 1.582171527671722, 'mae': 1.1044275729784658, 'r2': -2.840169593611378} 9 2\n"
     ]
    }
   ],
   "source": [
    "gan_results = {}\n",
    "for i,b in enumerate(gan_list):\n",
    "    for j,e in enumerate(b):\n",
    "        result = find_best_model_regression(pd.DataFrame(e[0:216].reshape(-1,2), columns=['G.air.T', 'G.E_th_I']))\n",
    "        gan_results[f'b{i} l{j}'] = result\n",
    "        print(result, f'{i} {j}')"
   ]
  },
  {
   "cell_type": "code",
   "execution_count": 65,
   "id": "c8cb0842",
   "metadata": {},
   "outputs": [
    {
     "name": "stdout",
     "output_type": "stream",
     "text": [
      "[('b6 l1', {'mse': 0.49415553969179815, 'mae': 0.5661241864354905, 'r2': 0.2764690294893397}), ('b1 l2', {'mse': 0.5338222166580122, 'mae': 0.5689453766290705, 'r2': 0.21839000987499346}), ('b8 l2', {'mse': 0.53719189977815, 'mae': 0.5709294706902118, 'r2': 0.21345619875198718})] \n",
      " [('b4 l0', {'mse': 0.49240435120523374, 'mae': 0.5728619570504203, 'r2': 0.27903307866709715}), ('b6 l1', {'mse': 0.49415553969179815, 'mae': 0.5661241864354905, 'r2': 0.2764690294893397}), ('b3 l1', {'mse': 0.4960254090267697, 'mae': 0.586887935097929, 'r2': 0.27373121059226946})] \n",
      " [('b4 l0', {'mse': 0.49240435120523374, 'mae': 0.5728619570504203, 'r2': 0.27903307866709715}), ('b6 l1', {'mse': 0.49415553969179815, 'mae': 0.5661241864354905, 'r2': 0.2764690294893397}), ('b3 l1', {'mse': 0.4960254090267697, 'mae': 0.586887935097929, 'r2': 0.27373121059226946})]\n"
     ]
    }
   ],
   "source": [
    "sorted_models_mae = sorted(gan_results.items(), key=lambda x: x[1]['mae'])\n",
    "sorted_models_mse = sorted(gan_results.items(), key=lambda x: x[1]['mse'])\n",
    "sorted_models_r2 = sorted(gan_results.items(), key=lambda x: x[1]['r2'], reverse=True)\n",
    "\n",
    "print(sorted_models_mae[0:3], '\\n', sorted_models_mse[0:3], '\\n', sorted_models_r2[0:3])"
   ]
  },
  {
   "cell_type": "code",
   "execution_count": 78,
   "id": "4a0a9962",
   "metadata": {
    "scrolled": true
   },
   "outputs": [
    {
     "name": "stdout",
     "output_type": "stream",
     "text": [
      "             mse       mae         r2\n",
      "b0 l0   1.131820  0.943706  -1.747098\n",
      "b0 l1   0.685735  0.635389  -0.664382\n",
      "b0 l2   2.135001  1.282232  -4.181971\n",
      "b1 l0   1.195354  0.962223  -1.901306\n",
      "b1 l1   1.457276  1.059244  -2.537029\n",
      "b1 l2   0.899227  0.821995  -1.182559\n",
      "b2 l0   0.481212  0.619843  -0.167975\n",
      "b2 l1   1.198516  0.962501  -1.908978\n",
      "b2 l2   1.041904  0.889671  -1.528859\n",
      "b3 l0   0.418157  0.533463  -0.014930\n",
      "b3 l1   0.908702  0.830591  -1.205558\n",
      "b3 l2   1.582969  1.100512  -2.842105\n",
      "b4 l0   1.007881  0.876441  -1.446280\n",
      "b4 l1   1.593801  1.109767  -2.868396\n",
      "b4 l2   1.362691  1.026822  -2.307458\n",
      "b5 l0   0.510711  0.635904  -0.239574\n",
      "b5 l1   3.842008  1.708054  -8.325135\n",
      "b5 l2   0.520490  0.491918  -0.263307\n",
      "b6 l0   0.566191  0.458497  -0.374232\n",
      "b6 l1   0.914098  0.832097  -1.218655\n",
      "b6 l2   2.623453  1.484936  -5.367518\n",
      "b7 l0   0.981027  0.782465  -1.381102\n",
      "b7 l1   1.715567  1.161289  -3.163940\n",
      "b7 l2   1.888939  1.211300  -3.584741\n",
      "b8 l0   0.399780  0.458615   0.029673\n",
      "b8 l1   2.028456  1.252633  -3.923370\n",
      "b8 l2   1.120042  0.920864  -1.718510\n",
      "b9 l0  13.270359  3.312994 -31.209169\n",
      "b9 l1   1.653193  1.128170  -3.012549\n",
      "b9 l2   1.582172  1.104428  -2.840170\n"
     ]
    }
   ],
   "source": [
    "results_df = pd.DataFrame.from_dict(gan_results, orient='index')\n",
    "#results_df.to_csv(f'../../data/models/model_history/DGAN_{model_name}_model_results.csv')\n",
    "print(results_df)"
   ]
  },
  {
   "cell_type": "code",
   "execution_count": null,
   "id": "a75f282f",
   "metadata": {},
   "outputs": [],
   "source": []
  },
  {
   "cell_type": "markdown",
   "id": "23149b82",
   "metadata": {},
   "source": [
    "Gather results for Ridge Regression"
   ]
  },
  {
   "cell_type": "code",
   "execution_count": 27,
   "id": "26da63e8",
   "metadata": {
    "scrolled": true
   },
   "outputs": [
    {
     "name": "stdout",
     "output_type": "stream",
     "text": [
      "{'mse': 0.5429744644307168, 'mae': 0.5942072511196403, 'r2': 0.20498950298708318} 0 0\n",
      "{'mse': 1.186148675302721, 'mae': 0.8512699109533637, 'r2': -0.736731116577132} 0 1\n",
      "{'mse': 0.8370787441651047, 'mae': 0.7194490980530537, 'r2': -0.22563109691609395} 0 2\n",
      "{'mse': 0.5364311179391574, 'mae': 0.645696388013433, 'r2': 0.21457011770684986} 1 0\n",
      "{'mse': 0.5485580389476666, 'mae': 0.5783102618179943, 'r2': 0.196814163919374} 1 1\n",
      "{'mse': 0.5345797214690907, 'mae': 0.5703152357096903, 'r2': 0.2172808890676705} 1 2\n",
      "{'mse': 0.6067980022027685, 'mae': 0.6926310180904819, 'r2': 0.11154057341637069} 2 0\n",
      "{'mse': 0.5544603024981496, 'mae': 0.5812216685501985, 'r2': 0.18817220783090416} 2 1\n",
      "{'mse': 0.528070145601985, 'mae': 0.5683424367583029, 'r2': 0.226812057629855} 2 2\n",
      "{'mse': 0.6709816507068812, 'mae': 0.6799519544916907, 'r2': 0.017564378143806403} 3 0\n",
      "{'mse': 0.5201345010446601, 'mae': 0.6328440698145821, 'r2': 0.2384312425767039} 3 1\n",
      "{'mse': 0.5751485204626049, 'mae': 0.5861606746752865, 'r2': 0.15788100350423762} 3 2\n",
      "{'mse': 0.4945454982467525, 'mae': 0.5786005642620886, 'r2': 0.2758980613040978} 4 0\n",
      "{'mse': 0.6049879136183545, 'mae': 0.6011959379405984, 'r2': 0.1141908627382473} 4 1\n",
      "{'mse': 0.5563074979250495, 'mae': 0.5827038460356698, 'r2': 0.18546758753912052} 4 2\n",
      "{'mse': 0.5832953214573469, 'mae': 0.6725106912979004, 'r2': 0.14595264824597387} 5 0\n",
      "{'mse': 1.427902720934098, 'mae': 0.9650823146678309, 'r2': -1.0907017294931443} 5 1\n",
      "{'mse': 0.7909450618618591, 'mae': 0.5962211171839644, 'r2': -0.15808323951290437} 5 2\n",
      "{'mse': 0.9990677534759435, 'mae': 0.6209436468171053, 'r2': -0.4628116113586338} 6 0\n",
      "{'mse': 0.49433817667622854, 'mae': 0.5650510228042405, 'r2': 0.27620161669320176} 6 1\n",
      "{'mse': 1.2975422634080265, 'mae': 0.9850669573486899, 'r2': -0.8998309999878575} 6 2\n",
      "{'mse': 1.4714976945187332, 'mae': 0.873571639487956, 'r2': -1.1545324690346872} 7 0\n",
      "{'mse': 0.6992923665321392, 'mae': 0.6269608769425618, 'r2': -0.02388750906902537} 7 1\n",
      "{'mse': 1.145534263553536, 'mae': 0.842038932064569, 'r2': -0.6772644458848736} 7 2\n"
     ]
    }
   ],
   "source": [
    "gan_ridge_results = {}\n",
    "for i,b in enumerate(gan_list):\n",
    "    for j,e in enumerate(b):\n",
    "        result = find_best_model_ridge_regression(pd.DataFrame(e[0:216].reshape(-1,2), columns=['G.air.T', 'G.E_th_I']))\n",
    "        gan_ridge_results[f'b{i} l{j}'] = result\n",
    "        print(result, f'{i} {j}')"
   ]
  },
  {
   "cell_type": "code",
   "execution_count": 19,
   "id": "88dc69c6",
   "metadata": {
    "scrolled": true
   },
   "outputs": [
    {
     "name": "stdout",
     "output_type": "stream",
     "text": [
      "            mse       mae        r2\n",
      "b0 l0  0.467223  0.452656 -0.134021\n",
      "b0 l1  0.501082  0.498549 -0.216201\n",
      "b0 l2  0.455763  0.477406 -0.106205\n",
      "b1 l0  0.449349  0.475630 -0.090637\n",
      "b1 l1  0.552621  0.473596 -0.341295\n",
      "b1 l2  0.509562  0.497752 -0.236785\n",
      "b2 l0  0.489568  0.522209 -0.188256\n",
      "b2 l1  0.465364  0.460927 -0.129510\n",
      "b2 l2  0.602372  0.599383 -0.462048\n",
      "b3 l0  0.496831  0.487412 -0.205884\n",
      "b3 l1  0.439555  0.481184 -0.066867\n",
      "b3 l2  0.415492  0.438122 -0.008462\n",
      "b4 l0  0.472939  0.472346 -0.147896\n",
      "b4 l1  1.028677  0.792600 -1.496754\n",
      "b4 l2  0.479079  0.469114 -0.162796\n",
      "b5 l0  0.537194  0.521559 -0.303850\n",
      "b5 l1  0.517196  0.488157 -0.255314\n",
      "b5 l2  0.534466  0.538554 -0.297229\n",
      "b6 l0  0.466080  0.470974 -0.131247\n",
      "b6 l1  0.454217  0.448634 -0.102453\n",
      "b6 l2  0.589917  0.555308 -0.431817\n",
      "b7 l0  0.463720  0.477772 -0.125518\n",
      "b7 l1  0.459804  0.453324 -0.116013\n",
      "b7 l2  0.896421  0.861765 -1.175751\n"
     ]
    }
   ],
   "source": [
    "results_df = pd.DataFrame.from_dict(gan_ridge_results, orient='index')\n",
    "results_df.to_csv(f'../../data/models/model_history/DGAN_ridge_{model_name}_model_results.csv')\n",
    "print(results_df)"
   ]
  },
  {
   "cell_type": "code",
   "execution_count": null,
   "id": "285c5f0a",
   "metadata": {},
   "outputs": [],
   "source": []
  },
  {
   "cell_type": "code",
   "execution_count": 96,
   "id": "2b6b5884",
   "metadata": {},
   "outputs": [],
   "source": [
    "vae_results = pd.read_csv(f'../../data/models/model_history/VAE_{model_name}_model_results.csv', index_col=0)\n",
    "gan_results = pd.read_csv(f'../../data/models/model_history/DGAN_{model_name}_model_results.csv', index_col=0)\n",
    "\n",
    "#print(vae_results, '\\n', gan_results)"
   ]
  },
  {
   "cell_type": "code",
   "execution_count": 97,
   "id": "a02f3150",
   "metadata": {},
   "outputs": [
    {
     "name": "stdout",
     "output_type": "stream",
     "text": [
      "b5 l1    0.530135\n",
      "b4 l5    0.532272\n",
      "b5 l4    0.536739\n",
      "b0 l5    0.538737\n",
      "b5 l0    0.541052\n",
      "Name: mse, dtype: float64\n",
      "b4 e0    0.537730\n",
      "b9 e2    0.579713\n",
      "b5 e0    0.582607\n",
      "b0 e0    0.586430\n",
      "b8 e2    0.587330\n",
      "Name: mse, dtype: float64\n"
     ]
    }
   ],
   "source": [
    "best_vaes = vae_results['mse'].nsmallest(5)\n",
    "best_gans = gan_results['mse'].nsmallest(5)\n",
    "\n",
    "print(best_vaes)\n",
    "print(best_gans)"
   ]
  },
  {
   "cell_type": "code",
   "execution_count": 105,
   "id": "da6935e4",
   "metadata": {
    "scrolled": true
   },
   "outputs": [
    {
     "name": "stdout",
     "output_type": "stream",
     "text": [
      "0.5301347479816934 b5 l1\n",
      "32 5\n",
      "32/32 [==============================] - 0s 2ms/step\n",
      "0.5322723807857386 b4 l5\n",
      "24 25\n",
      "32/32 [==============================] - 0s 2ms/step\n",
      "0.5367392105418513 b5 l4\n",
      "32 20\n",
      "32/32 [==============================] - 0s 1ms/step\n",
      "0.5387367736137983 b0 l5\n",
      "4 25\n",
      "32/32 [==============================] - 0s 1ms/step\n",
      "0.5410523136136406 b5 l0\n",
      "32 3\n",
      "32/32 [==============================] - 0s 1ms/step\n"
     ]
    }
   ],
   "source": [
    "import re\n",
    "batches=[4,8,16,20,24,32]\n",
    "latent_dims=[3,5,10,15,20,25,30,50]\n",
    "\n",
    "for i, scores in enumerate(best_vaes):\n",
    "    print(scores, best_vaes.index[i])\n",
    "    \n",
    "    b, l = map(int, re.findall(r'\\d+', best_vaes.index[i]))\n",
    "    print(batches[b], latent_dims[l])\n",
    "    \n",
    "    vae = TimeVAE.load('../../data/models/model_data/',f'tVAE_{model_name}_b{batches[b]}l{latent_dims[l]}')\n",
    "    samples = vae.get_prior_samples(num_samples=1000)\n",
    "    \n",
    "    np.save(f'../../data/vae_synthetic_data/{model_name}_b{batches[b]}l{latent_dims[l]}_generated_samples.npy', samples)\n",
    "\n",
    "    temp, energy = scalers['G.air.T'].inverse_transform(samples[:,:,0]), scalers['G.E_th_I'].inverse_transform(samples[:,:,1])\n",
    "    np.save(f'../../data/vae_synthetic_data/{model_name}_b{batches[b]}l{latent_dims[l]}_rescaled_samples.npy', np.stack((temp, energy),axis=-1))"
   ]
  },
  {
   "cell_type": "code",
   "execution_count": 74,
   "id": "a7a86a84",
   "metadata": {
    "scrolled": false
   },
   "outputs": [
    {
     "name": "stdout",
     "output_type": "stream",
     "text": [
      "0.4127741324562375 b9 e2\n",
      "32 1000\n",
      "0.4145561139925519 b7 e0\n",
      "20 100\n",
      "0.4220499112934464 b9 e1\n",
      "32 500\n",
      "0.4250164590716146 b4 e2\n",
      "10 1000\n",
      "0.4274020755166289 b4 e0\n",
      "10 100\n"
     ]
    }
   ],
   "source": [
    "batches=[2,4,6,8,10,12,16,20,24,32]\n",
    "epochs=[100,500,1000]\n",
    "\n",
    "for i, scores in enumerate(best_gans):\n",
    "    print(scores, best_gans.index[i])\n",
    "    \n",
    "    b, e = map(int, re.findall(r'\\d+', best_gans.index[i]))\n",
    "    print(batches[b], epochs[e])\n",
    "    \n",
    "    dgan = DGAN.load(f'../../data/models/model_data/DGAN_{model_name}_b{batches[b]}_e{epochs[e]}.zip')\n",
    "    attributes, samples = dgan.generate_numpy(1000)\n",
    "    \n",
    "    np.save(f'../../data/gan_synthetic_data/{model_name}_b{batches[b]}e{epochs[e]}_generated_samples.npy', samples)\n",
    "\n",
    "    temp, energy = scalers['G.air.T'].inverse_transform(samples[:,:,0]), scalers['G.E_th_I'].inverse_transform(samples[:,:,1])\n",
    "    np.save(f'../../data/gan_synthetic_data/{model_name}_b{batches[b]}e{epochs[e]}_rescaled_samples.npy', np.stack((temp, energy),axis=-1))"
   ]
  },
  {
   "cell_type": "code",
   "execution_count": null,
   "id": "6ba957ea",
   "metadata": {},
   "outputs": [],
   "source": []
  },
  {
   "cell_type": "code",
   "execution_count": 91,
   "id": "0e79d3f2",
   "metadata": {
    "scrolled": true
   },
   "outputs": [
    {
     "name": "stdout",
     "output_type": "stream",
     "text": [
      "(1000, 730, 2) (1000, 730, 2)\n"
     ]
    }
   ],
   "source": [
    "unscaled = (np.load('../../data/models/model_data/th_v_air_l15b8_samples.npy')[:1000,:,:])\n",
    "rescaled = (np.load('../../data/models/model_data/th_v_air_l15b8_scaled_samples.npy')[:1000,:,:])\n",
    "\n",
    "print(unscaled.shape, rescaled.shape)\n",
    "np.save('../../data/vae_synthetic_data/th_v_air_b8l15_generated_samples.npy', unscaled)\n",
    "np.save('../../data/vae_synthetic_data/th_v_air_b8l15_rescaled_samples.npy', rescaled)"
   ]
  },
  {
   "cell_type": "code",
   "execution_count": 20,
   "id": "92589d63",
   "metadata": {},
   "outputs": [
    {
     "name": "stdout",
     "output_type": "stream",
     "text": [
      "(120, 730, 2)\n"
     ]
    }
   ],
   "source": [
    "print(np.concatenate((base_data_train_scaled, base_data_test_scaled[0:216]), axis=0).shape)"
   ]
  },
  {
   "cell_type": "markdown",
   "id": "39364859",
   "metadata": {},
   "source": [
    "Blended datasets"
   ]
  },
  {
   "cell_type": "code",
   "execution_count": 37,
   "id": "fb2c2599",
   "metadata": {},
   "outputs": [
    {
     "name": "stdout",
     "output_type": "stream",
     "text": [
      "{'mse': 1.1729881693802657, 'mae': 1.0180147229334828, 'r2': -0.7174618119601601} 0 0\n",
      "{'mse': 1.0324203616713927, 'mae': 0.6114323760344877, 'r2': -0.5116457193234374} 0 1\n",
      "{'mse': 0.6517351403218136, 'mae': 0.5733436953824708, 'r2': 0.045744667990474386} 0 2\n",
      "{'mse': 0.7975964015063317, 'mae': 0.6651258788956244, 'r2': -0.16782197527849507} 1 0\n",
      "{'mse': 0.7744893268889329, 'mae': 0.8023321650766966, 'r2': -0.13398913767838216} 1 1\n",
      "{'mse': 0.6747063042453426, 'mae': 0.7475115823449245, 'r2': 0.012110827645961608} 1 2\n",
      "{'mse': 0.618881366692569, 'mae': 0.6858990760462009, 'r2': 0.09384839406370737} 2 0\n",
      "{'mse': 0.6161636148084032, 'mae': 0.5951320466097083, 'r2': 0.09782766273604493} 2 1\n",
      "{'mse': 0.7321677701918994, 'mae': 0.7945904834259836, 'r2': -0.0720229053264696} 2 2\n",
      "{'mse': 0.6771373161856715, 'mae': 0.6902162249645797, 'r2': 0.008551396885342899} 3 0\n",
      "{'mse': 0.5877356693097961, 'mae': 0.567438474253315, 'r2': 0.1394511948916487} 3 1\n",
      "{'mse': 0.6349692982137977, 'mae': 0.5401132033897621, 'r2': 0.07029282143100257} 3 2\n",
      "{'mse': 0.5449560181169011, 'mae': 0.5891134015650507, 'r2': 0.20208815847806882} 4 0\n",
      "{'mse': 0.6458652938428119, 'mae': 0.5701749136518587, 'r2': 0.05433915976193049} 4 1\n",
      "{'mse': 0.640623279439961, 'mae': 0.7215132079976528, 'r2': 0.06201439450824364} 4 2\n",
      "{'mse': 0.6836484355957088, 'mae': 0.7214620153184933, 'r2': -0.0009820316962598774} 5 0\n",
      "{'mse': 1.81500454454625, 'mae': 1.194671514230364, 'r2': -1.6574871555944708} 5 1\n",
      "{'mse': 0.7324443741073124, 'mae': 0.662777825793484, 'r2': -0.07242790230270657} 5 2\n",
      "{'mse': 1.2301466319694616, 'mae': 1.0105553446597002, 'r2': -0.8011518945116007} 6 0\n",
      "{'mse': 0.5655336589328408, 'mae': 0.5947181719133285, 'r2': 0.1719588586230828} 6 1\n",
      "{'mse': 3.8536463681775244, 'mae': 1.780066136053803, 'r2': -4.642418778733857} 6 2\n",
      "{'mse': 1.1426240280353652, 'mae': 0.6779721957559739, 'r2': -0.6730033471826513} 7 0\n",
      "{'mse': 0.7628466050008705, 'mae': 0.7177435055395031, 'r2': -0.11694213690548905} 7 1\n",
      "{'mse': 0.6584116569364019, 'mae': 0.7110983391097431, 'r2': 0.035969068694761686} 7 2\n",
      "{'mse': 1.1176893937330912, 'mae': 0.9664100803569801, 'r2': -0.636494639484454} 8 0\n",
      "{'mse': 0.636254480407523, 'mae': 0.566717195089209, 'r2': 0.06841108775563176} 8 1\n",
      "{'mse': 0.5696077426369681, 'mae': 0.5308202927646941, 'r2': 0.16599368065861553} 8 2\n",
      "{'mse': 0.6558204413952538, 'mae': 0.7087485834242108, 'r2': 0.03976306581651523} 9 0\n",
      "{'mse': 0.6280417712809414, 'mae': 0.5382592279880464, 'r2': 0.08043594415728894} 9 1\n",
      "{'mse': 0.5519431438356639, 'mae': 0.5593607139936867, 'r2': 0.19185777260497006} 9 2\n"
     ]
    }
   ],
   "source": [
    "gan_blended_results = {}\n",
    "for i,b in enumerate(gan_list):\n",
    "    for j,e in enumerate(b):\n",
    "        indices = np.random.choice(e.shape[0], 216, replace=False)\n",
    "        current_df = np.concatenate((e[indices], base_data_train_scaled), axis=0)\n",
    "        current_df = current_df[np.random.permutation(current_df.shape[0])]\n",
    "        \n",
    "        result = find_best_model_regression(pd.DataFrame(current_df.reshape(-1,2), columns=['G.air.T', 'G.E_th_I']))\n",
    "        gan_blended_results[f'b{i} l{j}'] = result\n",
    "        print(result, f'{i} {j}')"
   ]
  },
  {
   "cell_type": "code",
   "execution_count": 38,
   "id": "a439539d",
   "metadata": {},
   "outputs": [
    {
     "name": "stdout",
     "output_type": "stream",
     "text": [
      "            mse       mae        r2\n",
      "b0 l0  1.172988  1.018015 -0.717462\n",
      "b0 l1  1.032420  0.611432 -0.511646\n",
      "b0 l2  0.651735  0.573344  0.045745\n",
      "b1 l0  0.797596  0.665126 -0.167822\n",
      "b1 l1  0.774489  0.802332 -0.133989\n",
      "b1 l2  0.674706  0.747512  0.012111\n",
      "b2 l0  0.618881  0.685899  0.093848\n",
      "b2 l1  0.616164  0.595132  0.097828\n",
      "b2 l2  0.732168  0.794590 -0.072023\n",
      "b3 l0  0.677137  0.690216  0.008551\n",
      "b3 l1  0.587736  0.567438  0.139451\n",
      "b3 l2  0.634969  0.540113  0.070293\n",
      "b4 l0  0.544956  0.589113  0.202088\n",
      "b4 l1  0.645865  0.570175  0.054339\n",
      "b4 l2  0.640623  0.721513  0.062014\n",
      "b5 l0  0.683648  0.721462 -0.000982\n",
      "b5 l1  1.815005  1.194672 -1.657487\n",
      "b5 l2  0.732444  0.662778 -0.072428\n",
      "b6 l0  1.230147  1.010555 -0.801152\n",
      "b6 l1  0.565534  0.594718  0.171959\n",
      "b6 l2  3.853646  1.780066 -4.642419\n",
      "b7 l0  1.142624  0.677972 -0.673003\n",
      "b7 l1  0.762847  0.717744 -0.116942\n",
      "b7 l2  0.658412  0.711098  0.035969\n",
      "b8 l0  1.117689  0.966410 -0.636495\n",
      "b8 l1  0.636254  0.566717  0.068411\n",
      "b8 l2  0.569608  0.530820  0.165994\n",
      "b9 l0  0.655820  0.708749  0.039763\n",
      "b9 l1  0.628042  0.538259  0.080436\n",
      "b9 l2  0.551943  0.559361  0.191858\n"
     ]
    }
   ],
   "source": [
    "results_df = pd.DataFrame.from_dict(gan_blended_results, orient='index')\n",
    "results_df.to_csv(f'../../data/models/model_history/DGAN_blended_{model_name}_model_results.csv')\n",
    "print(results_df)"
   ]
  },
  {
   "cell_type": "code",
   "execution_count": 54,
   "id": "27b7c16a",
   "metadata": {},
   "outputs": [
    {
     "name": "stdout",
     "output_type": "stream",
     "text": [
      "{'mse': 0.7572197536812194, 'mae': 0.8344414357052574, 'r2': -0.10870343295659568} 0 0\n",
      "{'mse': 10.646028456685217, 'mae': 3.1564175107114005, 'r2': -14.587665588356472} 0 1\n",
      "{'mse': 0.8554545520142225, 'mae': 0.892906332547314, 'r2': -0.2525365244972193} 0 2\n",
      "{'mse': 0.7017839368849638, 'mae': 0.6860350591273817, 'r2': -0.0275356080392386} 0 3\n",
      "{'mse': 0.6947126487089319, 'mae': 0.7702733056545327, 'r2': -0.01718199346687954} 0 4\n",
      "{'mse': 0.7307868377690802, 'mae': 0.66834370740485, 'r2': -0.07000097640766167} 0 5\n",
      "{'mse': 0.7002226664500458, 'mae': 0.6873909588946637, 'r2': -0.025249632425749846} 0 6\n",
      "{'mse': 0.7085066846432759, 'mae': 0.6810222531274811, 'r2': -0.03737889789308424} 0 7\n",
      "{'mse': 0.7872948509844427, 'mae': 0.8552083275120448, 'r2': -0.15273868621627873} 1 0\n",
      "{'mse': 0.6842861174701119, 'mae': 0.717636091551701, 'r2': -0.001915710565369988} 1 1\n",
      "{'mse': 0.6821218843925435, 'mae': 0.7891688413348992, 'r2': 0.0012531088310512306} 1 2\n",
      "{'mse': 0.731722733568559, 'mae': 0.8135204493086746, 'r2': -0.07137129312315604} 1 3\n",
      "{'mse': 0.7659171826421717, 'mae': 0.8401798170573108, 'r2': -0.12143800478997036} 1 4\n",
      "{'mse': 1.4240657985786032, 'mae': 1.0951520620080306, 'r2': -1.0850837976221857} 1 5\n",
      "{'mse': 0.735190836638219, 'mae': 0.8165484473172095, 'r2': -0.07644920843173919} 1 6\n",
      "{'mse': 0.7272402678485771, 'mae': 0.8094574565510768, 'r2': -0.06480817177338416} 1 7\n",
      "{'mse': 1.3627549525991411, 'mae': 1.0463084328989603, 'r2': -0.9953138925392297} 2 0\n",
      "{'mse': 3.536140915207473, 'mae': 1.6891308964642984, 'r2': -4.1775347289200555} 2 1\n",
      "{'mse': 0.6968909758859917, 'mae': 0.6904952749704226, 'r2': -0.020371449113760987} 2 2\n",
      "{'mse': 0.6938272913388546, 'mae': 0.768705805504881, 'r2': -0.015885673936352207} 2 3\n",
      "{'mse': 0.7138175288774907, 'mae': 0.67749361947086, 'r2': -0.045154911666822395} 2 4\n",
      "{'mse': 0.9605254759705053, 'mae': 0.6181167907939132, 'r2': -0.40637891110681923} 2 5\n",
      "{'mse': 0.6855231914107845, 'mae': 0.7488279042044814, 'r2': -0.003727005263080896} 2 6\n",
      "{'mse': 0.6973743166803942, 'mae': 0.6900756623726116, 'r2': -0.021079145387447706} 2 7\n",
      "{'mse': 0.7944356293802249, 'mae': 0.8588134717693724, 'r2': -0.1631940467412749} 3 0\n",
      "{'mse': 0.754928789248902, 'mae': 0.8322778876861527, 'r2': -0.10534905647797954} 3 1\n",
      "{'mse': 0.7122171573780116, 'mae': 0.7941613529496768, 'r2': -0.04281168519015899} 3 2\n",
      "{'mse': 0.7173983392041003, 'mae': 0.6753438120381678, 'r2': -0.050397850301978186} 3 3\n",
      "{'mse': 0.7117738644615329, 'mae': 0.7936728604016884, 'r2': -0.042162626081602816} 3 4\n",
      "{'mse': 0.9551970336377166, 'mae': 0.6187125349324609, 'r2': -0.3985771306092105} 3 5\n",
      "{'mse': 0.7143565868215456, 'mae': 0.6772173497057573, 'r2': -0.04594418768640662} 3 6\n",
      "{'mse': 0.693925735787526, 'mae': 0.6942078301720189, 'r2': -0.01602981399300929} 3 7\n",
      "{'mse': 0.7867616494320593, 'mae': 0.8514128714010406, 'r2': -0.15195798498825175} 4 0\n",
      "{'mse': 0.7196817835279474, 'mae': 0.6740947442877864, 'r2': -0.053741216013856175} 4 1\n",
      "{'mse': 1.4261096716127275, 'mae': 1.0957172517849176, 'r2': -1.0880763886612397} 4 2\n",
      "{'mse': 0.6857337679959874, 'mae': 0.7496654838529421, 'r2': -0.004035326568461173} 4 3\n",
      "{'mse': 0.7170433034274991, 'mae': 0.6756032281464577, 'r2': -0.049878015231080264} 4 4\n",
      "{'mse': 0.8099907242786596, 'mae': 0.8681358662823564, 'r2': -0.18596945246731278} 4 5\n",
      "{'mse': 0.780570659342245, 'mae': 0.8500833769226378, 'r2': -0.14289328226145637} 4 6\n",
      "{'mse': 0.684292805648943, 'mae': 0.7178104863929611, 'r2': -0.0019255032402099026} 4 7\n",
      "{'mse': 0.6947099139879533, 'mae': 0.7975521134555712, 'r2': -0.017177989352456402} 5 0\n",
      "{'mse': 1.5555134309445011, 'mae': 1.128697952834457, 'r2': -1.2775463430716285} 5 1\n",
      "{'mse': 4.064420975438477, 'mae': 1.8388701002575707, 'r2': -4.951030023374836} 5 2\n",
      "{'mse': 0.6983087951725682, 'mae': 0.7761267725989984, 'r2': -0.02244738691477255} 5 3\n",
      "{'mse': 0.6830268424964825, 'mae': 0.7281562079832368, 'r2': -7.19096350429993e-05} 5 4\n",
      "{'mse': 0.7046142467266806, 'mae': 0.6838478433883082, 'r2': -0.03167968143746536} 5 5\n",
      "{'mse': 0.7467799121663229, 'mae': 0.8260666205450937, 'r2': -0.09341766146051644} 5 6\n",
      "{'mse': 0.7378545278458849, 'mae': 0.818793582246793, 'r2': -0.08034932272738216} 5 7\n"
     ]
    }
   ],
   "source": [
    "vae_blended_results = {}\n",
    "for i,b in enumerate(vae_list):\n",
    "    for j,e in enumerate(b):\n",
    "        indices = np.random.choice(e.shape[0], 216, replace=False)\n",
    "        current_df = np.concatenate((e[indices], base_data_train_scaled), axis=0)\n",
    "        current_df = current_df[np.random.permutation(current_df.shape[0])]\n",
    "        \n",
    "        result = find_best_model_regression(pd.DataFrame(current_df.reshape(-1,2), columns=['G.air.T', 'G.E_th_I']))\n",
    "        vae_blended_results[f'b{i} l{j}'] = result\n",
    "        print(result, f'{i} {j}')"
   ]
  },
  {
   "cell_type": "code",
   "execution_count": 56,
   "id": "5f2b6f10",
   "metadata": {},
   "outputs": [
    {
     "name": "stdout",
     "output_type": "stream",
     "text": [
      "             mse       mae         r2\n",
      "b0 l0   0.757220  0.834441  -0.108703\n",
      "b0 l1  10.646028  3.156418 -14.587666\n",
      "b0 l2   0.855455  0.892906  -0.252537\n",
      "b0 l3   0.701784  0.686035  -0.027536\n",
      "b0 l4   0.694713  0.770273  -0.017182\n",
      "b0 l5   0.730787  0.668344  -0.070001\n",
      "b0 l6   0.700223  0.687391  -0.025250\n",
      "b0 l7   0.708507  0.681022  -0.037379\n",
      "b1 l0   0.787295  0.855208  -0.152739\n",
      "b1 l1   0.684286  0.717636  -0.001916\n",
      "b1 l2   0.682122  0.789169   0.001253\n",
      "b1 l3   0.731723  0.813520  -0.071371\n",
      "b1 l4   0.765917  0.840180  -0.121438\n",
      "b1 l5   1.424066  1.095152  -1.085084\n",
      "b1 l6   0.735191  0.816548  -0.076449\n",
      "b1 l7   0.727240  0.809457  -0.064808\n",
      "b2 l0   1.362755  1.046308  -0.995314\n",
      "b2 l1   3.536141  1.689131  -4.177535\n",
      "b2 l2   0.696891  0.690495  -0.020371\n",
      "b2 l3   0.693827  0.768706  -0.015886\n",
      "b2 l4   0.713818  0.677494  -0.045155\n",
      "b2 l5   0.960525  0.618117  -0.406379\n",
      "b2 l6   0.685523  0.748828  -0.003727\n",
      "b2 l7   0.697374  0.690076  -0.021079\n",
      "b3 l0   0.794436  0.858813  -0.163194\n",
      "b3 l1   0.754929  0.832278  -0.105349\n",
      "b3 l2   0.712217  0.794161  -0.042812\n",
      "b3 l3   0.717398  0.675344  -0.050398\n",
      "b3 l4   0.711774  0.793673  -0.042163\n",
      "b3 l5   0.955197  0.618713  -0.398577\n",
      "b3 l6   0.714357  0.677217  -0.045944\n",
      "b3 l7   0.693926  0.694208  -0.016030\n",
      "b4 l0   0.786762  0.851413  -0.151958\n",
      "b4 l1   0.719682  0.674095  -0.053741\n",
      "b4 l2   1.426110  1.095717  -1.088076\n",
      "b4 l3   0.685734  0.749665  -0.004035\n",
      "b4 l4   0.717043  0.675603  -0.049878\n",
      "b4 l5   0.809991  0.868136  -0.185969\n",
      "b4 l6   0.780571  0.850083  -0.142893\n",
      "b4 l7   0.684293  0.717810  -0.001926\n",
      "b5 l0   0.694710  0.797552  -0.017178\n",
      "b5 l1   1.555513  1.128698  -1.277546\n",
      "b5 l2   4.064421  1.838870  -4.951030\n",
      "b5 l3   0.698309  0.776127  -0.022447\n",
      "b5 l4   0.683027  0.728156  -0.000072\n",
      "b5 l5   0.704614  0.683848  -0.031680\n",
      "b5 l6   0.746780  0.826067  -0.093418\n",
      "b5 l7   0.737855  0.818794  -0.080349\n"
     ]
    }
   ],
   "source": [
    "results_df = pd.DataFrame.from_dict(vae_blended_results, orient='index')\n",
    "results_df.to_csv(f'../../data/models/model_history/VAE_blended_{model_name}_model_results.csv')\n",
    "print(results_df)"
   ]
  },
  {
   "cell_type": "code",
   "execution_count": null,
   "id": "5ebff121",
   "metadata": {},
   "outputs": [],
   "source": []
  }
 ],
 "metadata": {
  "kernelspec": {
   "display_name": "Python 3 (ipykernel)",
   "language": "python",
   "name": "python3"
  },
  "language_info": {
   "codemirror_mode": {
    "name": "ipython",
    "version": 3
   },
   "file_extension": ".py",
   "mimetype": "text/x-python",
   "name": "python",
   "nbconvert_exporter": "python",
   "pygments_lexer": "ipython3",
   "version": "3.10.9"
  }
 },
 "nbformat": 4,
 "nbformat_minor": 5
}
