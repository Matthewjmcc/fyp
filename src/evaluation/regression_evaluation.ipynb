{
 "cells": [
  {
   "cell_type": "code",
   "execution_count": 16,
   "id": "aeb94dec",
   "metadata": {},
   "outputs": [],
   "source": [
    "import pickle\n",
    "import pandas as pd\n",
    "import numpy as np\n",
    "from statsmodels.tsa.stattools import adfuller\n",
    "import datetime\n",
    "import matplotlib.pyplot as plt\n",
    "from sklearn.linear_model import LinearRegression\n",
    "from sklearn.ensemble import RandomForestRegressor, GradientBoostingRegressor\n",
    "from sklearn.metrics import mean_squared_error, r2_score, mean_absolute_error\n",
    "import seaborn as sns\n",
    "import scipy.stats as stats\n",
    "from gretel_synthetics.timeseries_dgan.dgan import DGAN\n",
    "from tensorflow.keras.optimizers import Adam\n",
    "from tensorflow.keras.callbacks import EarlyStopping, ReduceLROnPlateau\n",
    "from timeVAE.vae_dense_model import VariationalAutoencoderDense as VAE_Dense\n",
    "from timeVAE.vae_conv_model import VariationalAutoencoderConv as VAE_Conv\n",
    "from timeVAE.vae_conv_I_model import VariationalAutoencoderConvInterpretable as TimeVAE\n",
    "from timeVAE import utils\n",
    "from sklearn.preprocessing import MinMaxScaler"
   ]
  },
  {
   "cell_type": "code",
   "execution_count": 99,
   "id": "c4006771",
   "metadata": {},
   "outputs": [],
   "source": [
    "MODEL = 1"
   ]
  },
  {
   "cell_type": "code",
   "execution_count": 100,
   "id": "47904b20",
   "metadata": {},
   "outputs": [
    {
     "name": "stdout",
     "output_type": "stream",
     "text": [
      "(108, 730, 2)\n"
     ]
    }
   ],
   "source": [
    "index = [0,3] if MODEL==0 else [1,2]\n",
    "model_name = 'th_v_air' if MODEL==0 else 'el_v_sky'\n",
    "\n",
    "base_data_train, base_data_test = np.load('../../data/training_data/training_data_1month.npy', allow_pickle=True)\n",
    "\n",
    "base_data_train, base_data_test = base_data_train[:,:,index], base_data_test[:,:,index]\n",
    "print(base_data_train.shape)"
   ]
  },
  {
   "cell_type": "code",
   "execution_count": 101,
   "id": "c1fec2af",
   "metadata": {},
   "outputs": [
    {
     "name": "stdout",
     "output_type": "stream",
     "text": [
      "(108, 730, 2) (12, 730, 2)\n"
     ]
    }
   ],
   "source": [
    "from sklearn.preprocessing import MinMaxScaler\n",
    "\n",
    "scalers = {var_name: MinMaxScaler(feature_range=(-1,1)) for var_name in ['G.air.T', 'G.E_th_I']}\n",
    "\n",
    "temp_var, energy_var = base_data_train[:,:,0], base_data_train[:,:,1]\n",
    "temp_var_test, energy_var_test = base_data_test[:,:,0], base_data_test[:,:,1]\n",
    "\n",
    "temp_var, temp_var_test = scalers['G.air.T'].fit_transform(temp_var), scalers['G.air.T'].fit_transform(temp_var_test)\n",
    "energy_var, energy_var_test = scalers['G.E_th_I'].fit_transform(energy_var), scalers['G.E_th_I'].fit_transform(energy_var_test)\n",
    "\n",
    "base_data_train_scaled, base_data_test_scaled = np.stack((temp_var, energy_var), axis=-1), np.stack((temp_var_test, energy_var_test), axis=-1)\n",
    "print(base_data_train_scaled.shape, base_data_test_scaled.shape)"
   ]
  },
  {
   "cell_type": "code",
   "execution_count": null,
   "id": "98185567",
   "metadata": {},
   "outputs": [],
   "source": []
  },
  {
   "cell_type": "markdown",
   "id": "682a7a29",
   "metadata": {},
   "source": [
    "Load in tVAE models"
   ]
  },
  {
   "cell_type": "code",
   "execution_count": 102,
   "id": "621de360",
   "metadata": {
    "scrolled": true
   },
   "outputs": [
    {
     "name": "stdout",
     "output_type": "stream",
     "text": [
      "32/32 [==============================] - 0s 2ms/step\n",
      "32/32 [==============================] - 0s 2ms/step\n",
      "32/32 [==============================] - 0s 2ms/step\n",
      "32/32 [==============================] - 0s 1ms/step\n",
      "32/32 [==============================] - 0s 1ms/step\n",
      "32/32 [==============================] - 0s 2ms/step\n",
      "32/32 [==============================] - 0s 1ms/step\n",
      "32/32 [==============================] - 0s 2ms/step\n",
      "32/32 [==============================] - 0s 2ms/step\n",
      "32/32 [==============================] - 0s 2ms/step\n",
      "32/32 [==============================] - 0s 2ms/step\n",
      "32/32 [==============================] - 0s 2ms/step\n",
      "32/32 [==============================] - 0s 2ms/step\n",
      "32/32 [==============================] - 0s 2ms/step\n",
      "32/32 [==============================] - 0s 1ms/step\n",
      "32/32 [==============================] - 0s 2ms/step\n",
      "32/32 [==============================] - 0s 1ms/step\n",
      "32/32 [==============================] - 0s 2ms/step\n",
      "32/32 [==============================] - 0s 1ms/step\n",
      "32/32 [==============================] - 0s 1ms/step\n",
      "32/32 [==============================] - 0s 2ms/step\n",
      "32/32 [==============================] - 0s 2ms/step\n",
      "32/32 [==============================] - 0s 1ms/step\n",
      "32/32 [==============================] - 0s 2ms/step\n",
      "32/32 [==============================] - 0s 2ms/step\n",
      "32/32 [==============================] - 0s 2ms/step\n",
      "32/32 [==============================] - 0s 1ms/step\n",
      "32/32 [==============================] - 0s 1ms/step\n",
      "32/32 [==============================] - 0s 1ms/step\n",
      "32/32 [==============================] - 0s 2ms/step\n",
      "32/32 [==============================] - 0s 2ms/step\n",
      "32/32 [==============================] - 0s 2ms/step\n",
      "32/32 [==============================] - 0s 2ms/step\n",
      "32/32 [==============================] - 0s 2ms/step\n",
      "32/32 [==============================] - 0s 1ms/step\n",
      "32/32 [==============================] - 0s 2ms/step\n",
      "32/32 [==============================] - 0s 1ms/step\n",
      "32/32 [==============================] - 0s 2ms/step\n",
      "32/32 [==============================] - 0s 2ms/step\n",
      "32/32 [==============================] - 0s 2ms/step\n",
      "32/32 [==============================] - 0s 1ms/step\n",
      "32/32 [==============================] - 0s 2ms/step\n",
      "32/32 [==============================] - 0s 2ms/step\n",
      "32/32 [==============================] - 0s 2ms/step\n",
      "32/32 [==============================] - 0s 2ms/step\n",
      "32/32 [==============================] - 0s 1ms/step\n",
      "32/32 [==============================] - 0s 2ms/step\n",
      "32/32 [==============================] - 0s 2ms/step\n"
     ]
    }
   ],
   "source": [
    "batches=[4,8,16,20,24,32]\n",
    "latent_dims=[3,5,10,15,20,25,30,50]\n",
    "\n",
    "vae_list = []\n",
    "for b in batches:\n",
    "    latent_dim_list = []\n",
    "    for l in latent_dims:\n",
    "        samples = TimeVAE.load('../../data/models/model_data/',f'tVAE_{model_name}_b{b}l{l}')\n",
    "        sample = samples.get_prior_samples(num_samples=1000)\n",
    "        latent_dim_list.append(sample)\n",
    "    vae_list.append(latent_dim_list)"
   ]
  },
  {
   "cell_type": "code",
   "execution_count": 13,
   "id": "43db836c",
   "metadata": {},
   "outputs": [
    {
     "name": "stdout",
     "output_type": "stream",
     "text": [
      "6 8 (1000, 730, 2)\n"
     ]
    }
   ],
   "source": [
    "print(len(vae_list), len(vae_list[0]), vae_list[0][0].shape)"
   ]
  },
  {
   "cell_type": "markdown",
   "id": "ee40efdb",
   "metadata": {},
   "source": [
    "Load in DGAN models"
   ]
  },
  {
   "cell_type": "code",
   "execution_count": 5,
   "id": "9bebfa6e",
   "metadata": {
    "scrolled": true
   },
   "outputs": [],
   "source": [
    "batches=[2,4,6,8,10,12,16,20,24,32]\n",
    "epochs=[100,500,1000]\n",
    "\n",
    "\n",
    "gan_list = []\n",
    "for b in batches:\n",
    "    epoch_list = []\n",
    "    for e in epochs:\n",
    "        model = DGAN.load(f'../../data/models/model_data/DGAN_{model_name}_b{b}_e{e}.zip')\n",
    "        attributes, samples = model.generate_numpy(1000)\n",
    "        epoch_list.append(samples)\n",
    "    gan_list.append(epoch_list)"
   ]
  },
  {
   "cell_type": "code",
   "execution_count": 9,
   "id": "5e1e07ba",
   "metadata": {},
   "outputs": [
    {
     "name": "stdout",
     "output_type": "stream",
     "text": [
      "10 3 (108, 730, 2)\n"
     ]
    }
   ],
   "source": [
    "print(len(gan_list), len(gan_list[0]), gan_list[0][0].shape)"
   ]
  },
  {
   "cell_type": "code",
   "execution_count": null,
   "id": "5d3bbda0",
   "metadata": {},
   "outputs": [],
   "source": []
  },
  {
   "cell_type": "code",
   "execution_count": 32,
   "id": "468c0c7d",
   "metadata": {},
   "outputs": [],
   "source": [
    "from skforecast.ForecasterAutoreg import ForecasterAutoreg\n",
    "from skforecast.model_selection import grid_search_forecaster \n",
    "\n",
    "model_params = {'lag':24, 'max_depth':5, 'n_est':50} if MODEL==0 else {'lag':2, 'max_depth':3, 'n_est':10}\n",
    "\n",
    "def find_best_model_regression(synthetic_data):\n",
    "    \n",
    "    forecaster = ForecasterAutoreg(\n",
    "                     regressor = RandomForestRegressor(max_depth=model_params['max_depth'], n_estimators =model_params['n_est']),\n",
    "                     lags      = model_params['lag']\n",
    "                 )\n",
    "\n",
    "    forecaster.fit(y=synthetic_data['G.E_th_I'], exog=synthetic_data['G.air.T'])\n",
    "\n",
    "    y_test = pd.Series(base_data_test_scaled[:,:,1].reshape(-1))\n",
    "    exog_var = pd.Series(base_data_test_scaled[:,:,0].reshape(-1))\n",
    "    exog_var.index = exog_var.index + synthetic_data['G.air.T'].index.max() + 1\n",
    "    \n",
    "    predictions = forecaster.predict(exog=exog_var, steps=len(y_test))\n",
    "    mse = mean_squared_error(y_test, predictions)\n",
    "    mae = mean_absolute_error(y_test, predictions)\n",
    "    r2  = r2_score(y_test, predictions)\n",
    "\n",
    "    return {'mse':mse, 'mae':mae, 'r2':r2}"
   ]
  },
  {
   "cell_type": "code",
   "execution_count": 8,
   "id": "3e6dd0c2",
   "metadata": {
    "scrolled": true
   },
   "outputs": [
    {
     "name": "stdout",
     "output_type": "stream",
     "text": [
      "{'mse': 0.4402006607958828, 'mae': 0.4617763260035185, 'r2': -0.06843358201723926} 0 0\n",
      "{'mse': 0.43603810649143954, 'mae': 0.46379374496036957, 'r2': -0.05833043315372621} 0 1\n",
      "{'mse': 0.5109269668526675, 'mae': 0.44338293096989195, 'r2': -0.24009702383596343} 0 2\n",
      "{'mse': 0.4579303688417816, 'mae': 0.45365813160778806, 'r2': -0.11146626497902878} 0 3\n",
      "{'mse': 0.4167695883005231, 'mae': 0.4842208036306238, 'r2': -0.0115628252322304} 0 4\n",
      "{'mse': 0.9470962246707268, 'mae': 0.9144815460631127, 'r2': -1.298745781095413} 0 5\n",
      "{'mse': 0.4514828963894058, 'mae': 0.46288605923007486, 'r2': -0.09581727418743258} 0 6\n",
      "{'mse': 0.41526566072461124, 'mae': 0.49035215916288616, 'r2': -0.007912565543567451} 0 7\n",
      "{'mse': 0.4561382523689026, 'mae': 0.4591662106914572, 'r2': -0.10711652725022036} 1 0\n",
      "{'mse': 0.560651150425519, 'mae': 0.44452923171665365, 'r2': -0.3607851379145999} 1 1\n",
      "{'mse': 0.501160093702824, 'mae': 0.4448260798012389, 'r2': -0.2163913455079749} 1 2\n",
      "{'mse': 0.3945622120221025, 'mae': 0.5113406530321918, 'r2': 0.04233783575600836} 1 3\n",
      "{'mse': 0.5303685644135098, 'mae': 0.44245267195317894, 'r2': -0.2872847215657044} 1 4\n",
      "{'mse': 0.41235555079306935, 'mae': 0.5021884432855866, 'r2': -0.0008492885993673926} 1 5\n",
      "{'mse': 16.867326876390077, 'mae': 4.056188654348338, 'r2': -39.93955343232337} 1 6\n",
      "{'mse': 0.43507856337401424, 'mae': 0.5721718485586214, 'r2': -0.056001476881381906} 1 7\n",
      "{'mse': 0.4632574610967457, 'mae': 0.4539786491309094, 'r2': -0.12439592357930684} 2 0\n",
      "{'mse': 0.563814179435012, 'mae': 0.44619006158052976, 'r2': -0.3684622877138002} 2 1\n",
      "{'mse': 0.5052867680754815, 'mae': 0.44374321727607263, 'r2': -0.22640740835037376} 2 2\n",
      "{'mse': 0.6328638987904143, 'mae': 0.7417208705365665, 'r2': -0.5360564000324692} 2 3\n",
      "{'mse': 0.4744028097784182, 'mae': 0.5142451231871478, 'r2': -0.15144737051094181} 2 4\n",
      "{'mse': 0.4872970020078809, 'mae': 0.4462592790341535, 'r2': -0.1827435252373697} 2 5\n",
      "{'mse': 1.2512676887175354, 'mae': 0.9161811356122476, 'r2': -2.0370159288307277} 2 6\n",
      "{'mse': 4.117813244743487, 'mae': 1.9250118797325027, 'r2': -8.994555544748204} 2 7\n",
      "{'mse': 0.4175008635430634, 'mae': 0.5387486618073684, 'r2': -0.013337740847793711} 3 0\n",
      "{'mse': 1.2847836155235113, 'mae': 1.056288175544183, 'r2': -2.1183641523140655} 3 1\n",
      "{'mse': 0.5651958733487293, 'mae': 0.44502409720740455, 'r2': -0.37181586781705445} 3 2\n",
      "{'mse': 0.41206722184576383, 'mae': 0.5055445762475741, 'r2': -0.00014947063586889797} 3 3\n",
      "{'mse': 0.4430378352400698, 'mae': 0.4618859062054108, 'r2': -0.07531983350248184} 3 4\n",
      "{'mse': 0.41184756533992106, 'mae': 0.5073067858403975, 'r2': 0.00038366892581820355} 3 5\n",
      "{'mse': 0.5213998742247629, 'mae': 0.4488269878344791, 'r2': -0.2655163540056906} 3 6\n",
      "{'mse': 1.2379506568360445, 'mae': 1.0375898071706606, 'r2': -2.004693478316333} 3 7\n",
      "{'mse': 0.4305366231792968, 'mae': 0.5603914548450752, 'r2': -0.04497750108185383} 4 0\n",
      "{'mse': 0.43951493403597497, 'mae': 0.4631184363248556, 'r2': -0.06676921945801739} 4 1\n",
      "{'mse': 0.4897175797070012, 'mae': 0.4464333489356835, 'r2': -0.18861863341405027} 4 2\n",
      "{'mse': 0.4715259241456009, 'mae': 0.44895043262531265, 'r2': -0.144464733964764} 4 3\n",
      "{'mse': 4.178579137347513, 'mae': 1.9406632061596454, 'r2': -9.14204355665171} 4 4\n",
      "{'mse': 1.1044651573645523, 'mae': 0.9855884421824201, 'r2': -1.6807039820492684} 4 5\n",
      "{'mse': 0.5268240222679411, 'mae': 0.6673715687922356, 'r2': -0.2786815816831929} 4 6\n",
      "{'mse': 0.5825258248857857, 'mae': 0.708260242249544, 'r2': -0.41387828127060433} 4 7\n",
      "{'mse': 0.4123397309578258, 'mae': 0.5127230267783522, 'r2': -0.0008108914665558853} 5 0\n",
      "{'mse': 0.4755398598542857, 'mae': 0.4503638321703881, 'r2': -0.15420716301851245} 5 1\n",
      "{'mse': 0.438366212446043, 'mae': 0.4635014586625798, 'r2': -0.06398109842055111} 5 2\n",
      "{'mse': 0.520169735531157, 'mae': 0.44321014087843613, 'r2': -0.26253062134365646} 5 3\n",
      "{'mse': 0.42632813391879876, 'mae': 0.48069275143596785, 'r2': -0.03476286113255145} 5 4\n",
      "{'mse': 0.4132846207930135, 'mae': 0.49629542982695846, 'r2': -0.0031042820066700116} 5 5\n",
      "{'mse': 1.6308472795016842, 'mae': 1.1878981026387039, 'r2': -2.958313005279685} 5 6\n",
      "{'mse': 0.41392930955229357, 'mae': 0.49463561653936, 'r2': -0.004669039131565134} 5 7\n"
     ]
    }
   ],
   "source": [
    "vae_results = {}\n",
    "for i,b in enumerate(vae_list):\n",
    "    for j,e in enumerate(b):\n",
    "        result = find_best_model_regression(pd.DataFrame(e[0:108].reshape(-1,2), columns=['G.air.T', 'G.E_th_I']))\n",
    "        vae_results[f'b{i} l{j}'] = result\n",
    "        print(result, f'{i} {j}')"
   ]
  },
  {
   "cell_type": "code",
   "execution_count": 25,
   "id": "3feaaebb",
   "metadata": {},
   "outputs": [
    {
     "ename": "KeyError",
     "evalue": "'mae'",
     "output_type": "error",
     "traceback": [
      "\u001b[0;31m---------------------------------------------------------------------------\u001b[0m",
      "\u001b[0;31mKeyError\u001b[0m                                  Traceback (most recent call last)",
      "Cell \u001b[0;32mIn[25], line 1\u001b[0m\n\u001b[0;32m----> 1\u001b[0m sorted_models_mae \u001b[38;5;241m=\u001b[39m \u001b[38;5;28;43msorted\u001b[39;49m\u001b[43m(\u001b[49m\u001b[43mvae_results\u001b[49m\u001b[38;5;241;43m.\u001b[39;49m\u001b[43mitems\u001b[49m\u001b[43m(\u001b[49m\u001b[43m)\u001b[49m\u001b[43m,\u001b[49m\u001b[43m \u001b[49m\u001b[43mkey\u001b[49m\u001b[38;5;241;43m=\u001b[39;49m\u001b[38;5;28;43;01mlambda\u001b[39;49;00m\u001b[43m \u001b[49m\u001b[43mx\u001b[49m\u001b[43m:\u001b[49m\u001b[43m \u001b[49m\u001b[43mx\u001b[49m\u001b[43m[\u001b[49m\u001b[38;5;241;43m1\u001b[39;49m\u001b[43m]\u001b[49m\u001b[43m[\u001b[49m\u001b[38;5;124;43m'\u001b[39;49m\u001b[38;5;124;43mmae\u001b[39;49m\u001b[38;5;124;43m'\u001b[39;49m\u001b[43m]\u001b[49m\u001b[43m)\u001b[49m\n\u001b[1;32m      2\u001b[0m sorted_models_mse \u001b[38;5;241m=\u001b[39m \u001b[38;5;28msorted\u001b[39m(vae_results\u001b[38;5;241m.\u001b[39mitems(), key\u001b[38;5;241m=\u001b[39m\u001b[38;5;28;01mlambda\u001b[39;00m x: x[\u001b[38;5;241m1\u001b[39m][\u001b[38;5;124m'\u001b[39m\u001b[38;5;124mmse\u001b[39m\u001b[38;5;124m'\u001b[39m])\n\u001b[1;32m      3\u001b[0m sorted_models_r2 \u001b[38;5;241m=\u001b[39m \u001b[38;5;28msorted\u001b[39m(vae_results\u001b[38;5;241m.\u001b[39mitems(), key\u001b[38;5;241m=\u001b[39m\u001b[38;5;28;01mlambda\u001b[39;00m x: x[\u001b[38;5;241m1\u001b[39m][\u001b[38;5;124m'\u001b[39m\u001b[38;5;124mr2\u001b[39m\u001b[38;5;124m'\u001b[39m], reverse\u001b[38;5;241m=\u001b[39m\u001b[38;5;28;01mTrue\u001b[39;00m)\n",
      "Cell \u001b[0;32mIn[25], line 1\u001b[0m, in \u001b[0;36m<lambda>\u001b[0;34m(x)\u001b[0m\n\u001b[0;32m----> 1\u001b[0m sorted_models_mae \u001b[38;5;241m=\u001b[39m \u001b[38;5;28msorted\u001b[39m(vae_results\u001b[38;5;241m.\u001b[39mitems(), key\u001b[38;5;241m=\u001b[39m\u001b[38;5;28;01mlambda\u001b[39;00m x: \u001b[43mx\u001b[49m\u001b[43m[\u001b[49m\u001b[38;5;241;43m1\u001b[39;49m\u001b[43m]\u001b[49m\u001b[43m[\u001b[49m\u001b[38;5;124;43m'\u001b[39;49m\u001b[38;5;124;43mmae\u001b[39;49m\u001b[38;5;124;43m'\u001b[39;49m\u001b[43m]\u001b[49m)\n\u001b[1;32m      2\u001b[0m sorted_models_mse \u001b[38;5;241m=\u001b[39m \u001b[38;5;28msorted\u001b[39m(vae_results\u001b[38;5;241m.\u001b[39mitems(), key\u001b[38;5;241m=\u001b[39m\u001b[38;5;28;01mlambda\u001b[39;00m x: x[\u001b[38;5;241m1\u001b[39m][\u001b[38;5;124m'\u001b[39m\u001b[38;5;124mmse\u001b[39m\u001b[38;5;124m'\u001b[39m])\n\u001b[1;32m      3\u001b[0m sorted_models_r2 \u001b[38;5;241m=\u001b[39m \u001b[38;5;28msorted\u001b[39m(vae_results\u001b[38;5;241m.\u001b[39mitems(), key\u001b[38;5;241m=\u001b[39m\u001b[38;5;28;01mlambda\u001b[39;00m x: x[\u001b[38;5;241m1\u001b[39m][\u001b[38;5;124m'\u001b[39m\u001b[38;5;124mr2\u001b[39m\u001b[38;5;124m'\u001b[39m], reverse\u001b[38;5;241m=\u001b[39m\u001b[38;5;28;01mTrue\u001b[39;00m)\n",
      "File \u001b[0;32m/opt/anaconda3/lib/python3.10/site-packages/pandas/core/series.py:981\u001b[0m, in \u001b[0;36mSeries.__getitem__\u001b[0;34m(self, key)\u001b[0m\n\u001b[1;32m    978\u001b[0m     \u001b[38;5;28;01mreturn\u001b[39;00m \u001b[38;5;28mself\u001b[39m\u001b[38;5;241m.\u001b[39m_values[key]\n\u001b[1;32m    980\u001b[0m \u001b[38;5;28;01melif\u001b[39;00m key_is_scalar:\n\u001b[0;32m--> 981\u001b[0m     \u001b[38;5;28;01mreturn\u001b[39;00m \u001b[38;5;28;43mself\u001b[39;49m\u001b[38;5;241;43m.\u001b[39;49m\u001b[43m_get_value\u001b[49m\u001b[43m(\u001b[49m\u001b[43mkey\u001b[49m\u001b[43m)\u001b[49m\n\u001b[1;32m    983\u001b[0m \u001b[38;5;28;01mif\u001b[39;00m is_hashable(key):\n\u001b[1;32m    984\u001b[0m     \u001b[38;5;66;03m# Otherwise index.get_value will raise InvalidIndexError\u001b[39;00m\n\u001b[1;32m    985\u001b[0m     \u001b[38;5;28;01mtry\u001b[39;00m:\n\u001b[1;32m    986\u001b[0m         \u001b[38;5;66;03m# For labels that don't resolve as scalars like tuples and frozensets\u001b[39;00m\n",
      "File \u001b[0;32m/opt/anaconda3/lib/python3.10/site-packages/pandas/core/series.py:1089\u001b[0m, in \u001b[0;36mSeries._get_value\u001b[0;34m(self, label, takeable)\u001b[0m\n\u001b[1;32m   1086\u001b[0m     \u001b[38;5;28;01mreturn\u001b[39;00m \u001b[38;5;28mself\u001b[39m\u001b[38;5;241m.\u001b[39m_values[label]\n\u001b[1;32m   1088\u001b[0m \u001b[38;5;66;03m# Similar to Index.get_value, but we do not fall back to positional\u001b[39;00m\n\u001b[0;32m-> 1089\u001b[0m loc \u001b[38;5;241m=\u001b[39m \u001b[38;5;28;43mself\u001b[39;49m\u001b[38;5;241;43m.\u001b[39;49m\u001b[43mindex\u001b[49m\u001b[38;5;241;43m.\u001b[39;49m\u001b[43mget_loc\u001b[49m\u001b[43m(\u001b[49m\u001b[43mlabel\u001b[49m\u001b[43m)\u001b[49m\n\u001b[1;32m   1090\u001b[0m \u001b[38;5;28;01mreturn\u001b[39;00m \u001b[38;5;28mself\u001b[39m\u001b[38;5;241m.\u001b[39mindex\u001b[38;5;241m.\u001b[39m_get_values_for_loc(\u001b[38;5;28mself\u001b[39m, loc, label)\n",
      "File \u001b[0;32m/opt/anaconda3/lib/python3.10/site-packages/pandas/core/indexes/range.py:395\u001b[0m, in \u001b[0;36mRangeIndex.get_loc\u001b[0;34m(self, key, method, tolerance)\u001b[0m\n\u001b[1;32m    393\u001b[0m             \u001b[38;5;28;01mraise\u001b[39;00m \u001b[38;5;167;01mKeyError\u001b[39;00m(key) \u001b[38;5;28;01mfrom\u001b[39;00m \u001b[38;5;21;01merr\u001b[39;00m\n\u001b[1;32m    394\u001b[0m     \u001b[38;5;28mself\u001b[39m\u001b[38;5;241m.\u001b[39m_check_indexing_error(key)\n\u001b[0;32m--> 395\u001b[0m     \u001b[38;5;28;01mraise\u001b[39;00m \u001b[38;5;167;01mKeyError\u001b[39;00m(key)\n\u001b[1;32m    396\u001b[0m \u001b[38;5;28;01mreturn\u001b[39;00m \u001b[38;5;28msuper\u001b[39m()\u001b[38;5;241m.\u001b[39mget_loc(key, method\u001b[38;5;241m=\u001b[39mmethod, tolerance\u001b[38;5;241m=\u001b[39mtolerance)\n",
      "\u001b[0;31mKeyError\u001b[0m: 'mae'"
     ]
    }
   ],
   "source": [
    "sorted_models_mae = sorted(vae_results.items(), key=lambda x: x[1]['mae'])\n",
    "sorted_models_mse = sorted(vae_results.items(), key=lambda x: x[1]['mse'])\n",
    "sorted_models_r2 = sorted(vae_results.items(), key=lambda x: x[1]['r2'], reverse=True)\n",
    "\n",
    "print(sorted_models_mae[0:3], '\\n', sorted_models_mse[0:3], '\\n', sorted_models_r2[0:3])"
   ]
  },
  {
   "cell_type": "code",
   "execution_count": 15,
   "id": "d49ec036",
   "metadata": {},
   "outputs": [
    {
     "ename": "NameError",
     "evalue": "name 'vae_results' is not defined",
     "output_type": "error",
     "traceback": [
      "\u001b[0;31m---------------------------------------------------------------------------\u001b[0m",
      "\u001b[0;31mNameError\u001b[0m                                 Traceback (most recent call last)",
      "Cell \u001b[0;32mIn[15], line 1\u001b[0m\n\u001b[0;32m----> 1\u001b[0m results_df \u001b[38;5;241m=\u001b[39m pd\u001b[38;5;241m.\u001b[39mDataFrame\u001b[38;5;241m.\u001b[39mfrom_dict(\u001b[43mvae_results\u001b[49m, orient\u001b[38;5;241m=\u001b[39m\u001b[38;5;124m'\u001b[39m\u001b[38;5;124mindex\u001b[39m\u001b[38;5;124m'\u001b[39m)\n\u001b[1;32m      2\u001b[0m results_df\u001b[38;5;241m.\u001b[39mto_csv(\u001b[38;5;124mf\u001b[39m\u001b[38;5;124m'\u001b[39m\u001b[38;5;124m../../data/models/model_history/VAE_\u001b[39m\u001b[38;5;132;01m{\u001b[39;00mmodel_name\u001b[38;5;132;01m}\u001b[39;00m\u001b[38;5;124m_model_results.csv\u001b[39m\u001b[38;5;124m'\u001b[39m)\n\u001b[1;32m      3\u001b[0m \u001b[38;5;28mprint\u001b[39m(results_df)\n",
      "\u001b[0;31mNameError\u001b[0m: name 'vae_results' is not defined"
     ]
    }
   ],
   "source": [
    "results_df = pd.DataFrame.from_dict(vae_results, orient='index')\n",
    "results_df.to_csv(f'../../data/models/model_history/VAE_{model_name}_model_results.csv')\n",
    "print(results_df)"
   ]
  },
  {
   "cell_type": "code",
   "execution_count": null,
   "id": "15c7e06a",
   "metadata": {},
   "outputs": [],
   "source": [
    "gan_results = {}\n",
    "for i,b in enumerate(gan_list):\n",
    "    for j,e in enumerate(b):\n",
    "        result = find_best_model_regression(pd.DataFrame(e[0:108].reshape(-1,2), columns=['G.air.T', 'G.E_th_I']))\n",
    "        gan_results[f'b{i} l{j}'] = result\n",
    "        print(result, f'{i} {j}')"
   ]
  },
  {
   "cell_type": "code",
   "execution_count": null,
   "id": "c8cb0842",
   "metadata": {},
   "outputs": [],
   "source": [
    "sorted_models_mae = sorted(gan_results.items(), key=lambda x: x[1]['mae'])\n",
    "sorted_models_mse = sorted(gan_results.items(), key=lambda x: x[1]['mse'])\n",
    "sorted_models_r2 = sorted(gan_results.items(), key=lambda x: x[1]['r2'], reverse=True)\n",
    "\n",
    "print(sorted_models_mae[0:3], '\\n', sorted_models_mse[0:3], '\\n', sorted_models_r2[0:3])"
   ]
  },
  {
   "cell_type": "code",
   "execution_count": null,
   "id": "4a0a9962",
   "metadata": {},
   "outputs": [],
   "source": [
    "results_df = pd.DataFrame.from_dict(gan_results, orient='index')\n",
    "results_df.to_csv(f'../../data/models/model_history/DGAN_{model_name}_model_results.csv')\n",
    "print(results_df)"
   ]
  },
  {
   "cell_type": "code",
   "execution_count": null,
   "id": "285c5f0a",
   "metadata": {},
   "outputs": [],
   "source": []
  },
  {
   "cell_type": "code",
   "execution_count": 96,
   "id": "2b6b5884",
   "metadata": {},
   "outputs": [],
   "source": [
    "vae_results = pd.read_csv(f'../../data/models/model_history/VAE_{model_name}_model_results.csv', index_col=0)\n",
    "gan_results = pd.read_csv(f'../../data/models/model_history/DGAN_{model_name}_model_results.csv', index_col=0)\n",
    "\n",
    "#print(vae_results, '\\n', gan_results)"
   ]
  },
  {
   "cell_type": "code",
   "execution_count": 97,
   "id": "a02f3150",
   "metadata": {},
   "outputs": [
    {
     "name": "stdout",
     "output_type": "stream",
     "text": [
      "b5 l1    0.530135\n",
      "b4 l5    0.532272\n",
      "b5 l4    0.536739\n",
      "b0 l5    0.538737\n",
      "b5 l0    0.541052\n",
      "Name: mse, dtype: float64\n",
      "b4 e0    0.537730\n",
      "b9 e2    0.579713\n",
      "b5 e0    0.582607\n",
      "b0 e0    0.586430\n",
      "b8 e2    0.587330\n",
      "Name: mse, dtype: float64\n"
     ]
    }
   ],
   "source": [
    "best_vaes = vae_results['mse'].nsmallest(5)\n",
    "best_gans = gan_results['mse'].nsmallest(5)\n",
    "\n",
    "print(best_vaes)\n",
    "print(best_gans)"
   ]
  },
  {
   "cell_type": "code",
   "execution_count": 105,
   "id": "da6935e4",
   "metadata": {
    "scrolled": true
   },
   "outputs": [
    {
     "name": "stdout",
     "output_type": "stream",
     "text": [
      "0.5301347479816934 b5 l1\n",
      "32 5\n",
      "32/32 [==============================] - 0s 2ms/step\n",
      "0.5322723807857386 b4 l5\n",
      "24 25\n",
      "32/32 [==============================] - 0s 2ms/step\n",
      "0.5367392105418513 b5 l4\n",
      "32 20\n",
      "32/32 [==============================] - 0s 1ms/step\n",
      "0.5387367736137983 b0 l5\n",
      "4 25\n",
      "32/32 [==============================] - 0s 1ms/step\n",
      "0.5410523136136406 b5 l0\n",
      "32 3\n",
      "32/32 [==============================] - 0s 1ms/step\n"
     ]
    }
   ],
   "source": [
    "import re\n",
    "batches=[4,8,16,20,24,32]\n",
    "latent_dims=[3,5,10,15,20,25,30,50]\n",
    "\n",
    "for i, scores in enumerate(best_vaes):\n",
    "    print(scores, best_vaes.index[i])\n",
    "    \n",
    "    b, l = map(int, re.findall(r'\\d+', best_vaes.index[i]))\n",
    "    print(batches[b], latent_dims[l])\n",
    "    \n",
    "    vae = TimeVAE.load('../../data/models/model_data/',f'tVAE_{model_name}_b{batches[b]}l{latent_dims[l]}')\n",
    "    samples = vae.get_prior_samples(num_samples=1000)\n",
    "    \n",
    "    np.save(f'../../data/vae_synthetic_data/{model_name}_b{batches[b]}l{latent_dims[l]}_generated_samples.npy', samples)\n",
    "\n",
    "    temp, energy = scalers['G.air.T'].inverse_transform(samples[:,:,0]), scalers['G.E_th_I'].inverse_transform(samples[:,:,1])\n",
    "    np.save(f'../../data/vae_synthetic_data/{model_name}_b{batches[b]}l{latent_dims[l]}_rescaled_samples.npy', np.stack((temp, energy),axis=-1))"
   ]
  },
  {
   "cell_type": "code",
   "execution_count": 74,
   "id": "a7a86a84",
   "metadata": {
    "scrolled": false
   },
   "outputs": [
    {
     "name": "stdout",
     "output_type": "stream",
     "text": [
      "0.4127741324562375 b9 e2\n",
      "32 1000\n",
      "0.4145561139925519 b7 e0\n",
      "20 100\n",
      "0.4220499112934464 b9 e1\n",
      "32 500\n",
      "0.4250164590716146 b4 e2\n",
      "10 1000\n",
      "0.4274020755166289 b4 e0\n",
      "10 100\n"
     ]
    }
   ],
   "source": [
    "batches=[2,4,6,8,10,12,16,20,24,32]\n",
    "epochs=[100,500,1000]\n",
    "\n",
    "for i, scores in enumerate(best_gans):\n",
    "    print(scores, best_gans.index[i])\n",
    "    \n",
    "    b, e = map(int, re.findall(r'\\d+', best_gans.index[i]))\n",
    "    print(batches[b], epochs[e])\n",
    "    \n",
    "    dgan = DGAN.load(f'../../data/models/model_data/DGAN_{model_name}_b{batches[b]}_e{epochs[e]}.zip')\n",
    "    attributes, samples = dgan.generate_numpy(1000)\n",
    "    \n",
    "    np.save(f'../../data/gan_synthetic_data/{model_name}_b{batches[b]}e{epochs[e]}_generated_samples.npy', samples)\n",
    "\n",
    "    temp, energy = scalers['G.air.T'].inverse_transform(samples[:,:,0]), scalers['G.E_th_I'].inverse_transform(samples[:,:,1])\n",
    "    np.save(f'../../data/gan_synthetic_data/{model_name}_b{batches[b]}e{epochs[e]}_rescaled_samples.npy', np.stack((temp, energy),axis=-1))"
   ]
  },
  {
   "cell_type": "code",
   "execution_count": null,
   "id": "6ba957ea",
   "metadata": {},
   "outputs": [],
   "source": []
  },
  {
   "cell_type": "code",
   "execution_count": null,
   "id": "315cf2ca",
   "metadata": {},
   "outputs": [],
   "source": []
  },
  {
   "cell_type": "code",
   "execution_count": null,
   "id": "b7f2a1ba",
   "metadata": {},
   "outputs": [],
   "source": []
  },
  {
   "cell_type": "code",
   "execution_count": 91,
   "id": "0e79d3f2",
   "metadata": {},
   "outputs": [
    {
     "name": "stdout",
     "output_type": "stream",
     "text": [
      "(1000, 730, 2) (1000, 730, 2)\n"
     ]
    }
   ],
   "source": [
    "unscaled = (np.load('../../data/models/model_data/th_v_air_l15b8_samples.npy')[:1000,:,:])\n",
    "rescaled = (np.load('../../data/models/model_data/th_v_air_l15b8_scaled_samples.npy')[:1000,:,:])\n",
    "\n",
    "print(unscaled.shape, rescaled.shape)\n",
    "np.save('../../data/vae_synthetic_data/th_v_air_b8l15_generated_samples.npy', unscaled)\n",
    "np.save('../../data/vae_synthetic_data/th_v_air_b8l15_rescaled_samples.npy', rescaled)"
   ]
  },
  {
   "cell_type": "code",
   "execution_count": null,
   "id": "faa28844",
   "metadata": {},
   "outputs": [],
   "source": []
  }
 ],
 "metadata": {
  "kernelspec": {
   "display_name": "Python 3 (ipykernel)",
   "language": "python",
   "name": "python3"
  },
  "language_info": {
   "codemirror_mode": {
    "name": "ipython",
    "version": 3
   },
   "file_extension": ".py",
   "mimetype": "text/x-python",
   "name": "python",
   "nbconvert_exporter": "python",
   "pygments_lexer": "ipython3",
   "version": "3.10.9"
  }
 },
 "nbformat": 4,
 "nbformat_minor": 5
}
