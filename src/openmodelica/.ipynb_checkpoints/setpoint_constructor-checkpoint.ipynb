{
 "cells": [
  {
   "cell_type": "code",
   "execution_count": 1,
   "id": "af6214d0-c48e-4acf-87bc-2a401b1e76b2",
   "metadata": {},
   "outputs": [],
   "source": [
    "import pandas as pd\n",
    "import numpy as np\n",
    "import matplotlib.pyplot as plt\n",
    "import math"
   ]
  },
  {
   "cell_type": "code",
   "execution_count": 5,
   "id": "312d36b8-7a0f-4f7c-b27c-f122a0f97a00",
   "metadata": {},
   "outputs": [
    {
     "name": "stdout",
     "output_type": "stream",
     "text": [
      "                     T_out  RH_out  P_out  I_glob    u_wind  T_sky\n",
      "time                                                              \n",
      "2004-01-01 01:00:00   -3.6    78.0  936.8     0.0  0.500000   -1.4\n",
      "2004-01-01 02:00:00   -4.8    82.0  937.2     0.0  0.400000   -2.6\n",
      "2004-01-01 03:00:00   -5.2    85.0  937.5     0.0  0.400000   -3.0\n",
      "2004-01-01 04:00:00   -5.6    88.0  937.2     0.0  0.800000   -3.1\n",
      "2004-01-01 05:00:00   -5.7     NaN  937.0     0.0  0.600000   -3.4\n",
      "...                    ...     ...    ...     ...       ...    ...\n",
      "2024-02-16 10:00:00    2.9    85.0  926.4     0.0  0.200000    4.2\n",
      "2024-02-16 11:00:00    2.1    88.0  925.8     0.0  0.300000    3.4\n",
      "2024-02-16 12:00:00    1.1    91.0  924.4     0.0  0.687709    2.4\n",
      "2024-02-16 13:00:00    0.2    93.0  925.4     1.0  0.682631    1.6\n",
      "2024-02-16 14:00:00    2.0    88.0  925.4    52.4  0.709673    3.2\n",
      "\n",
      "[176438 rows x 6 columns]\n"
     ]
    }
   ],
   "source": [
    "df = pd.read_csv('../../data/openmodelica/imputed_weather_data.csv', index_col='time')\n",
    "print(df)"
   ]
  },
  {
   "cell_type": "markdown",
   "id": "4840821e-8985-4bf9-852f-3141ec602760",
   "metadata": {},
   "source": [
    "Use random forest regressor trained on legacy data in order to get set points for new data"
   ]
  },
  {
   "cell_type": "code",
   "execution_count": 45,
   "id": "9d6f13cd-ae59-4216-aad6-1ad0630467bb",
   "metadata": {},
   "outputs": [
    {
     "name": "stdout",
     "output_type": "stream",
     "text": [
      "Model for T_air_sp: MSE = 0.10631634460547502\n",
      "Model for CO2_air_sp: MSE = 451.8276972624799\n"
     ]
    }
   ],
   "source": [
    "from sklearn.model_selection import train_test_split\n",
    "from sklearn.metrics import mean_squared_error\n",
    "from sklearn.ensemble import RandomForestRegressor\n",
    "\n",
    "old_df = pd.read_csv('../data/old_weather_data.csv', index_col='time')\n",
    "X = old_df.drop(['T_air_sp', 'CO2_air_sp', 'ilu_sp'], axis = 1)\n",
    "\n",
    "models = {}\n",
    "performance = {}\n",
    "\n",
    "for target in ['T_air_sp', 'CO2_air_sp']:\n",
    "    y = old_df[target]\n",
    "    \n",
    "    X_train, X_test, y_train, y_test = train_test_split(X, y, test_size=0.3, random_state=123)\n",
    "    \n",
    "    model = RandomForestRegressor(n_estimators=100, random_state=123)\n",
    "    model.fit(X_train, y_train)\n",
    "    \n",
    "    models[target] = model\n",
    "    \n",
    "    predictions = model.predict(X_test)\n",
    "    mse = mean_squared_error(y_test, predictions)\n",
    "    performance[target] = mse\n",
    "    \n",
    "    print(f\"Model for {target}: MSE = {mse}\")"
   ]
  },
  {
   "cell_type": "code",
   "execution_count": 46,
   "id": "16000dc4-5330-4782-947c-fad3da90994c",
   "metadata": {},
   "outputs": [],
   "source": [
    "for target, model in models.items():\n",
    "    df[target] = model.predict(df[['T_out','RH_out','P_out','I_glob','u_wind','T_sky']])"
   ]
  },
  {
   "cell_type": "code",
   "execution_count": 47,
   "id": "f18c8daf-8405-4e7f-8586-51252416eddd",
   "metadata": {},
   "outputs": [
    {
     "name": "stdout",
     "output_type": "stream",
     "text": [
      "                     T_out    RH_out  P_out  I_glob  u_wind  T_sky  T_air_sp  \\\n",
      "time                                                                           \n",
      "2004-01-01 01:00:00   -3.6  78.00000  936.8     0.0     0.5   -1.4     15.88   \n",
      "2004-01-01 02:00:00   -4.8  82.00000  937.2     0.0     0.4   -2.6     15.92   \n",
      "2004-01-01 03:00:00   -5.2  85.00000  937.5     0.0     0.4   -3.0     15.92   \n",
      "2004-01-01 04:00:00   -5.6  88.00000  937.2     0.0     0.8   -3.1     15.94   \n",
      "2004-01-01 05:00:00   -5.7  83.96376  937.0     0.0     0.6   -3.4     15.90   \n",
      "...                    ...       ...    ...     ...     ...    ...       ...   \n",
      "2024-02-16 16:00:00    8.8  59.00000  925.8   207.8     1.1   10.3     16.00   \n",
      "2024-02-16 17:00:00   10.1  54.00000  924.4   309.3     1.0   11.5     17.00   \n",
      "2024-02-16 18:00:00   12.1  47.00000  923.4   389.7     1.4   13.7     19.00   \n",
      "2024-02-16 19:00:00   13.1  44.00000  923.4   284.4     1.3   14.6     16.00   \n",
      "2024-02-16 20:00:00   13.9  42.00000  922.4   187.1     0.9   15.1     16.00   \n",
      "\n",
      "                     CO2_air_sp  \n",
      "time                             \n",
      "2004-01-01 01:00:00       800.0  \n",
      "2004-01-01 02:00:00       800.0  \n",
      "2004-01-01 03:00:00       800.0  \n",
      "2004-01-01 04:00:00       800.0  \n",
      "2004-01-01 05:00:00       800.0  \n",
      "...                         ...  \n",
      "2024-02-16 16:00:00       890.0  \n",
      "2024-02-16 17:00:00      1400.0  \n",
      "2024-02-16 18:00:00      1300.0  \n",
      "2024-02-16 19:00:00      1500.0  \n",
      "2024-02-16 20:00:00       754.0  \n",
      "\n",
      "[176444 rows x 8 columns]\n"
     ]
    }
   ],
   "source": [
    "print(df)"
   ]
  },
  {
   "cell_type": "code",
   "execution_count": 49,
   "id": "123e365b-ef2a-4779-93ec-52c32b1ecf76",
   "metadata": {},
   "outputs": [
    {
     "name": "stdout",
     "output_type": "stream",
     "text": [
      "Accuracy: 0.8248792270531401\n"
     ]
    }
   ],
   "source": [
    "from sklearn.ensemble import RandomForestClassifier\n",
    "from sklearn.metrics import accuracy_score\n",
    "pd.options.mode.chained_assignment = None \n",
    "\n",
    "\n",
    "X = old_df.drop(['T_air_sp', 'CO2_air_sp', 'ilu_sp'], axis = 1)\n",
    "\n",
    "\n",
    "data = old_df[['I_glob', 'ilu_sp']]\n",
    "#data[['ilu_sp_lagged']] = data[['ilu_sp']].shift(1) # attempt at creating a lag feature to try better capture the temporal dependencies between I_glob and ilu_sp\n",
    "data.fillna(0, inplace=True)\n",
    "\n",
    "#X = data[['I_glob']] #, 'ilu_sp_lagged']]\n",
    "y = data['ilu_sp']\n",
    "\n",
    "X_train, X_test, y_train, y_test = train_test_split(X, y, test_size = 0.3)\n",
    "\n",
    "IlluminationModel = RandomForestClassifier(random_state = 123)\n",
    "IlluminationModel.fit(X_train, y_train)\n",
    "\n",
    "prediction = IlluminationModel.predict(X_test)\n",
    "accuracy = accuracy_score(y_test, prediction)\n",
    "\n",
    "print(f\"Accuracy: {accuracy}\")"
   ]
  },
  {
   "cell_type": "code",
   "execution_count": 50,
   "id": "62f45ad9-40e9-4e88-8f41-796ac4feb4e1",
   "metadata": {},
   "outputs": [],
   "source": [
    "new_data = df.drop(['T_air_sp', 'CO2_air_sp'], axis = 1)\n",
    "df['ilu_sp'] = IlluminationModel.predict(new_data[['T_out','RH_out','P_out','I_glob','u_wind','T_sky']])"
   ]
  },
  {
   "cell_type": "code",
   "execution_count": 51,
   "id": "fd575777-e043-413f-9308-2c8c635bb9ad",
   "metadata": {},
   "outputs": [
    {
     "name": "stdout",
     "output_type": "stream",
     "text": [
      "                     T_out    RH_out  P_out  I_glob  u_wind  T_sky  T_air_sp  \\\n",
      "time                                                                           \n",
      "2004-01-01 01:00:00   -3.6  78.00000  936.8     0.0     0.5   -1.4     15.88   \n",
      "2004-01-01 02:00:00   -4.8  82.00000  937.2     0.0     0.4   -2.6     15.92   \n",
      "2004-01-01 03:00:00   -5.2  85.00000  937.5     0.0     0.4   -3.0     15.92   \n",
      "2004-01-01 04:00:00   -5.6  88.00000  937.2     0.0     0.8   -3.1     15.94   \n",
      "2004-01-01 05:00:00   -5.7  83.96376  937.0     0.0     0.6   -3.4     15.90   \n",
      "...                    ...       ...    ...     ...     ...    ...       ...   \n",
      "2024-02-16 16:00:00    8.8  59.00000  925.8   207.8     1.1   10.3     16.00   \n",
      "2024-02-16 17:00:00   10.1  54.00000  924.4   309.3     1.0   11.5     17.00   \n",
      "2024-02-16 18:00:00   12.1  47.00000  923.4   389.7     1.4   13.7     19.00   \n",
      "2024-02-16 19:00:00   13.1  44.00000  923.4   284.4     1.3   14.6     16.00   \n",
      "2024-02-16 20:00:00   13.9  42.00000  922.4   187.1     0.9   15.1     16.00   \n",
      "\n",
      "                     CO2_air_sp  ilu_sp  \n",
      "time                                     \n",
      "2004-01-01 01:00:00       800.0       1  \n",
      "2004-01-01 02:00:00       800.0       1  \n",
      "2004-01-01 03:00:00       800.0       1  \n",
      "2004-01-01 04:00:00       800.0       1  \n",
      "2004-01-01 05:00:00       800.0       1  \n",
      "...                         ...     ...  \n",
      "2024-02-16 16:00:00       890.0       0  \n",
      "2024-02-16 17:00:00      1400.0       0  \n",
      "2024-02-16 18:00:00      1300.0       0  \n",
      "2024-02-16 19:00:00      1500.0       0  \n",
      "2024-02-16 20:00:00       754.0       0  \n",
      "\n",
      "[176444 rows x 9 columns]\n"
     ]
    }
   ],
   "source": [
    "print(df)"
   ]
  },
  {
   "cell_type": "code",
   "execution_count": 82,
   "id": "3be59007-8374-4397-b624-75873df0bcf2",
   "metadata": {},
   "outputs": [],
   "source": [
    "df.index = [i * 3600 for i in range(len(df))]\n",
    "\n",
    "df.to_csv('../data/Jan2004-Jan2024.txt', sep = '\\t')\n",
    "df[['T_air_sp','CO2_air_sp']].to_csv('../data/SP_Jan2004-Jan2024.txt', sep = '\\t')"
   ]
  },
  {
   "cell_type": "code",
   "execution_count": 83,
   "id": "1bf63837-8301-4b4b-9366-7270d064cfc8",
   "metadata": {},
   "outputs": [
    {
     "name": "stdout",
     "output_type": "stream",
     "text": [
      "           T_out    RH_out  P_out  I_glob  u_wind  T_sky  T_air_sp  \\\n",
      "0           -3.6  78.00000  936.8     0.0     0.5   -1.4     15.88   \n",
      "3600        -4.8  82.00000  937.2     0.0     0.4   -2.6     15.92   \n",
      "7200        -5.2  85.00000  937.5     0.0     0.4   -3.0     15.92   \n",
      "10800       -5.6  88.00000  937.2     0.0     0.8   -3.1     15.94   \n",
      "14400       -5.7  83.96376  937.0     0.0     0.6   -3.4     15.90   \n",
      "...          ...       ...    ...     ...     ...    ...       ...   \n",
      "635180400    8.8  59.00000  925.8   207.8     1.1   10.3     16.00   \n",
      "635184000   10.1  54.00000  924.4   309.3     1.0   11.5     17.00   \n",
      "635187600   12.1  47.00000  923.4   389.7     1.4   13.7     19.00   \n",
      "635191200   13.1  44.00000  923.4   284.4     1.3   14.6     16.00   \n",
      "635194800   13.9  42.00000  922.4   187.1     0.9   15.1     16.00   \n",
      "\n",
      "           CO2_air_sp  ilu_sp  \n",
      "0               800.0       1  \n",
      "3600            800.0       1  \n",
      "7200            800.0       1  \n",
      "10800           800.0       1  \n",
      "14400           800.0       1  \n",
      "...               ...     ...  \n",
      "635180400       890.0       0  \n",
      "635184000      1400.0       0  \n",
      "635187600      1300.0       0  \n",
      "635191200      1500.0       0  \n",
      "635194800       754.0       0  \n",
      "\n",
      "[176444 rows x 9 columns]\n"
     ]
    }
   ],
   "source": [
    "print(df)"
   ]
  },
  {
   "cell_type": "markdown",
   "id": "44cdeab8-7d5a-415e-929d-409d7c7f615f",
   "metadata": {},
   "source": [
    "SC usable"
   ]
  },
  {
   "cell_type": "code",
   "execution_count": 62,
   "id": "eb9fa3e6-449e-4347-97b7-4b6b9411eabe",
   "metadata": {},
   "outputs": [
    {
     "name": "stdout",
     "output_type": "stream",
     "text": [
      "          1\n",
      "time       \n",
      "1800      1\n",
      "3600      1\n",
      "5400      1\n",
      "7200      1\n",
      "9000      1\n",
      "...      ..\n",
      "29799000  1\n",
      "29800800  1\n",
      "29802600  1\n",
      "29804400  1\n",
      "29806200  1\n",
      "\n",
      "[16559 rows x 1 columns]\n",
      "          T_out  RH_out     P_out  I_glob  u_wind     T_sky  T_air_sp  \\\n",
      "time                                                                    \n",
      "1800        5.0    96.0  100700.0     0.0     3.5 -5.031436      16.0   \n",
      "3600        5.0    96.0  100700.0     0.0     3.5 -5.031436      16.0   \n",
      "5400        5.1    97.0  100600.0     0.0     4.0 -5.490152      16.0   \n",
      "7200        5.1    97.0  100600.0     0.0     4.0 -5.490152      16.0   \n",
      "9000        5.0    97.0  100700.0     0.0     2.0 -5.031436      16.0   \n",
      "...         ...     ...       ...     ...     ...       ...       ...   \n",
      "29799000    4.3    92.0  100900.0     0.0     2.6 -3.444195      16.0   \n",
      "29800800    4.3    92.0  100900.0     0.0     2.6 -3.444195      16.0   \n",
      "29802600    4.3    93.0  100900.0     0.0     2.6 -4.802958      16.0   \n",
      "29804400    4.3    93.0  100900.0     0.0     2.6 -4.802958      16.0   \n",
      "29806200    4.3    93.0  100900.0     0.0     2.6 -4.802958      16.0   \n",
      "\n",
      "          CO2_air_sp  ilu_sp  \n",
      "time                          \n",
      "1800           800.0     0.0  \n",
      "3600           800.0     0.0  \n",
      "5400           800.0     0.0  \n",
      "7200           800.0     0.0  \n",
      "9000           800.0     0.0  \n",
      "...              ...     ...  \n",
      "29799000       800.0     0.0  \n",
      "29800800       800.0     0.0  \n",
      "29802600       800.0     0.0  \n",
      "29804400       800.0     0.0  \n",
      "29806200       800.0     0.0  \n",
      "\n",
      "[16559 rows x 9 columns]\n"
     ]
    }
   ],
   "source": [
    "old_sc_data = pd.read_csv('../data/old_SC_data.txt', sep='\\t', skiprows=2).rename(columns={'0' : 'time'}).set_index('time')\n",
    "print(old_sc_data)\n",
    "\n",
    "max_length = old_df.index.max()\n",
    "modified_df = pd.DataFrame(index=old_sc_data.index)\n",
    "modified_df = modified_df.merge(old_df, on='time', how='left')\n",
    "modified_df.fillna(method='bfill', inplace=True)\n",
    "modified_df.fillna(method='ffill', inplace=True)\n",
    "\n",
    "print(modified_df)"
   ]
  },
  {
   "cell_type": "code",
   "execution_count": 65,
   "id": "e1e267a1-8cc3-4cd2-9cdc-71ad8c9072d1",
   "metadata": {},
   "outputs": [
    {
     "name": "stdout",
     "output_type": "stream",
     "text": [
      "Accuracy: 0.9627616747181964\n"
     ]
    }
   ],
   "source": [
    "X = modified_df.drop(['T_air_sp', 'CO2_air_sp', 'ilu_sp'], axis = 1)\n",
    "\n",
    "y = old_sc_data['1']\n",
    "\n",
    "X_train, X_test, y_train, y_test = train_test_split(X, y, test_size = 0.3)\n",
    "SCModel = RandomForestClassifier(random_state = 123)\n",
    "SCModel.fit(X_train, y_train)\n",
    "\n",
    "prediction = SCModel.predict(X_test)\n",
    "accuracy = accuracy_score(y_test, prediction)\n",
    "\n",
    "print(f\"Accuracy: {accuracy}\")"
   ]
  },
  {
   "cell_type": "code",
   "execution_count": 79,
   "id": "46c507e1-c40f-4573-8395-89e88af93895",
   "metadata": {
    "scrolled": true
   },
   "outputs": [
    {
     "name": "stdout",
     "output_type": "stream",
     "text": [
      "           T_out  RH_out  P_out  I_glob  u_wind  T_sky  T_air_sp  CO2_air_sp  \\\n",
      "time                                                                           \n",
      "0           -3.6    78.0  936.8     0.0     0.5   -1.4     15.88       800.0   \n",
      "1800        -3.6    78.0  936.8     0.0     0.5   -1.4     15.88       800.0   \n",
      "3600        -4.8    82.0  937.2     0.0     0.4   -2.6     15.92       800.0   \n",
      "5400        -4.8    82.0  937.2     0.0     0.4   -2.6     15.92       800.0   \n",
      "7200        -5.2    85.0  937.5     0.0     0.4   -3.0     15.92       800.0   \n",
      "...          ...     ...    ...     ...     ...    ...       ...         ...   \n",
      "635189400   12.1    47.0  923.4   389.7     1.4   13.7     19.00      1300.0   \n",
      "635191200   13.1    44.0  923.4   284.4     1.3   14.6     16.00      1500.0   \n",
      "635193000   13.1    44.0  923.4   284.4     1.3   14.6     16.00      1500.0   \n",
      "635194800   13.9    42.0  922.4   187.1     0.9   15.1     16.00       754.0   \n",
      "635196600   13.9    42.0  922.4   187.1     0.9   15.1     16.00       754.0   \n",
      "\n",
      "           ilu_sp  \n",
      "time               \n",
      "0             1.0  \n",
      "1800          1.0  \n",
      "3600          1.0  \n",
      "5400          1.0  \n",
      "7200          1.0  \n",
      "...           ...  \n",
      "635189400     0.0  \n",
      "635191200     0.0  \n",
      "635193000     0.0  \n",
      "635194800     0.0  \n",
      "635196600     0.0  \n",
      "\n",
      "[352888 rows x 9 columns]\n"
     ]
    }
   ],
   "source": [
    "new_modified_df = pd.DataFrame(index=[i*1800 for i in range(len(df.index)*2)])\n",
    "new_modified_df.index.names = ['time']\n",
    "\n",
    "adjusted_df = df.copy()\n",
    "adjusted_df.index = [i * 3600 for i in range(len(adjusted_df))]\n",
    "adjusted_df.index.names=['time']\n",
    "\n",
    "new_modified_df = new_modified_df.merge(adjusted_df, on='time', how='left')\n",
    "new_modified_df.fillna(method='ffill', inplace=True)\n",
    "new_modified_df.fillna(method='bfill', inplace=True)\n",
    "\n",
    "print(new_modified_df)"
   ]
  },
  {
   "cell_type": "code",
   "execution_count": 80,
   "id": "e5737d63-b0c3-4d31-bb56-a2cff63cb848",
   "metadata": {},
   "outputs": [
    {
     "name": "stdout",
     "output_type": "stream",
     "text": [
      "           0\n",
      "time        \n",
      "0          1\n",
      "1800       1\n",
      "3600       1\n",
      "5400       1\n",
      "7200       1\n",
      "...       ..\n",
      "635189400  0\n",
      "635191200  0\n",
      "635193000  0\n",
      "635194800  0\n",
      "635196600  0\n",
      "\n",
      "[352888 rows x 1 columns]\n"
     ]
    }
   ],
   "source": [
    "new_sc_data = SCModel.predict(new_modified_df[['T_out','RH_out','P_out','I_glob','u_wind','T_sky']])\n",
    "\n",
    "new_sc_data = pd.DataFrame(data=new_sc_data, index=new_modified_df.index)\n",
    "print(new_sc_data)"
   ]
  },
  {
   "cell_type": "code",
   "execution_count": 81,
   "id": "6f52e9b4-57da-4f20-85b3-1c6caad0af33",
   "metadata": {},
   "outputs": [],
   "source": [
    "new_sc_data.to_csv('../data/SC_Jan2004-Jan2024.txt', sep = \"\\t\")"
   ]
  }
 ],
 "metadata": {
  "kernelspec": {
   "display_name": "Python 3 (ipykernel)",
   "language": "python",
   "name": "python3"
  },
  "language_info": {
   "codemirror_mode": {
    "name": "ipython",
    "version": 3
   },
   "file_extension": ".py",
   "mimetype": "text/x-python",
   "name": "python",
   "nbconvert_exporter": "python",
   "pygments_lexer": "ipython3",
   "version": "3.10.9"
  }
 },
 "nbformat": 4,
 "nbformat_minor": 5
}
